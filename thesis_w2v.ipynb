{
 "cells": [
  {
   "cell_type": "markdown",
   "metadata": {},
   "source": [
    "#### Setup"
   ]
  },
  {
   "cell_type": "code",
   "execution_count": 15,
   "metadata": {},
   "outputs": [],
   "source": [
    "# tokenization\n",
    "import json\n",
    "import MeCab\n",
    "import import_ipynb\n",
    "import thesis_preprocess\n",
    "from stopwords.stopwords_ja import stop_words\n",
    "from stopwords.stopwords_slothlib import stop_words_2\n",
    "\n",
    "# word2vec\n",
    "import gensim, logging\n",
    "\n",
    "# plotting\n",
    "from sklearn.manifold import TSNE               \n",
    "import numpy as np                \n",
    "import matplotlib.pyplot as plt\n",
    "import matplotlib.font_manager as fm"
   ]
  },
  {
   "cell_type": "markdown",
   "metadata": {},
   "source": [
    "#### Clean and Tokenize Tweets"
   ]
  },
  {
   "cell_type": "code",
   "execution_count": 2,
   "metadata": {},
   "outputs": [],
   "source": [
    "# tokenize cleaned tweets into words\n",
    "def tokenize(text):\n",
    "    mt = MeCab.Tagger(\"-d /usr/local/lib/mecab/dic/mecab-ipadic-neologd\")\n",
    "    parsed = mt.parseToNode(text)\n",
    "    components = []\n",
    "    \n",
    "    while parsed:\n",
    "        word = parsed.surface\n",
    "        pos = parsed.feature.split(\",\")[0]\n",
    "\n",
    "        # remove beg/end tokens, particles, fillers, auxiliary bound prefixes/endings\n",
    "        exclude_pos = ['BOS/EOS', '助詞', 'フィラー', '接頭詞', '助動詞']\n",
    "        if pos not in exclude_pos: components.append(word)\n",
    "        parsed = parsed.next\n",
    "    \n",
    "    # remove stopwords\n",
    "    components = [token for token in components if ((not token in stop_words) and (not token in stop_words_2))]\n",
    "    \n",
    "    return components"
   ]
  },
  {
   "cell_type": "code",
   "execution_count": 16,
   "metadata": {},
   "outputs": [],
   "source": [
    "# run preprocessing and tokenization for all tweets from given year dataset\n",
    "def preprocess_tokenize_all(year):\n",
    "    # store results and exception tweets\n",
    "    tokens = []\n",
    "    retweets = []\n",
    "    not_parsed = []\n",
    "\n",
    "    # iterate through tweets, preprocess and tokenize\n",
    "    with open('datasets_general_years/'+ year + '-all.txt', 'r') as file:\n",
    "        for line in file:\n",
    "            tweet = json.loads(line)\n",
    "            if line == None or tweet == None:\n",
    "                not_parsed.append((line, tweet))\n",
    "                print(\"Parsing error: \", line, tweet)\n",
    "            elif tweet['retweetedTweet']:\n",
    "                retweets.append(tweet)\n",
    "                print(\"Retweet: \", tweet['id'])\n",
    "            # filter out 2024 sponsored(?) tweets\n",
    "            elif int(tweet['date'].split(\"-\")[0]) < int(year) + 1: \n",
    "                tweet_text = tweet['rawContent'] # note: need other prop for over 140 char?\n",
    "                processed = thesis_preprocess.preprocess(tweet_text)            \n",
    "                components = tokenize(processed)\n",
    "                tokens.append(components)\n",
    "\n",
    "    file.close()\n",
    "    return tokens, retweets, not_parsed"
   ]
  },
  {
   "cell_type": "code",
   "execution_count": 17,
   "metadata": {},
   "outputs": [
    {
     "name": "stdout",
     "output_type": "stream",
     "text": [
      "0\n",
      "0\n"
     ]
    }
   ],
   "source": [
    "# run for 2015\n",
    "tokens_2015, retweets_2015, not_parsed_2015 = preprocess_tokenize_all(\"2015\")\n",
    "\n",
    "# did we get retweets or errors?\n",
    "print(len(retweets_2015))\n",
    "print(len(not_parsed_2015))"
   ]
  },
  {
   "cell_type": "code",
   "execution_count": 18,
   "metadata": {},
   "outputs": [
    {
     "data": {
      "text/plain": [
       "499010"
      ]
     },
     "execution_count": 18,
     "metadata": {},
     "output_type": "execute_result"
    }
   ],
   "source": [
    "len(tokens_2015)"
   ]
  },
  {
   "cell_type": "code",
   "execution_count": 8,
   "metadata": {},
   "outputs": [
    {
     "name": "stdout",
     "output_type": "stream",
     "text": [
      "0\n",
      "0\n"
     ]
    }
   ],
   "source": [
    "# run for 2022\n",
    "tokens_2022, retweets_2022, not_parsed_2022 = preprocess_tokenize_all(\"2022\")\n",
    "\n",
    "# did we get retweets or errors?\n",
    "print(len(retweets_2022))\n",
    "print(len(not_parsed_2022))"
   ]
  },
  {
   "cell_type": "markdown",
   "metadata": {},
   "source": [
    "#### Word2Vec"
   ]
  },
  {
   "cell_type": "code",
   "execution_count": 45,
   "metadata": {},
   "outputs": [],
   "source": [
    "# train and save word2vec model for given year\n",
    "def run_word2vec(year, tokens):\n",
    "    logging.basicConfig(format='%(asctime)s : %(levelname)s : %(message)s', level=logging.INFO)\n",
    "    model = gensim.models.Word2Vec(tokens, min_count=5)\n",
    "    model.save(\"saved_w2v_models/w2v_model_\" + year)"
   ]
  },
  {
   "cell_type": "code",
   "execution_count": 46,
   "metadata": {},
   "outputs": [
    {
     "name": "stderr",
     "output_type": "stream",
     "text": [
      "2024-03-26 16:34:06,662 : INFO : collecting all words and their counts\n",
      "2024-03-26 16:34:06,668 : INFO : PROGRESS: at sentence #0, processed 0 words, keeping 0 word types\n",
      "2024-03-26 16:34:06,697 : INFO : PROGRESS: at sentence #10000, processed 56188 words, keeping 17946 word types\n",
      "2024-03-26 16:34:06,725 : INFO : PROGRESS: at sentence #20000, processed 116418 words, keeping 28687 word types\n",
      "2024-03-26 16:34:06,748 : INFO : PROGRESS: at sentence #30000, processed 174188 words, keeping 36993 word types\n",
      "2024-03-26 16:34:06,770 : INFO : PROGRESS: at sentence #40000, processed 229421 words, keeping 43533 word types\n",
      "2024-03-26 16:34:06,796 : INFO : PROGRESS: at sentence #50000, processed 284624 words, keeping 49608 word types\n",
      "2024-03-26 16:34:06,816 : INFO : PROGRESS: at sentence #60000, processed 339367 words, keeping 55022 word types\n",
      "2024-03-26 16:34:06,840 : INFO : PROGRESS: at sentence #70000, processed 400021 words, keeping 60729 word types\n",
      "2024-03-26 16:34:06,863 : INFO : PROGRESS: at sentence #80000, processed 459582 words, keeping 65981 word types\n",
      "2024-03-26 16:34:06,890 : INFO : PROGRESS: at sentence #90000, processed 516280 words, keeping 70622 word types\n",
      "2024-03-26 16:34:06,916 : INFO : PROGRESS: at sentence #100000, processed 572204 words, keeping 75082 word types\n",
      "2024-03-26 16:34:06,940 : INFO : PROGRESS: at sentence #110000, processed 631149 words, keeping 79294 word types\n",
      "2024-03-26 16:34:06,962 : INFO : PROGRESS: at sentence #120000, processed 690173 words, keeping 83370 word types\n",
      "2024-03-26 16:34:06,982 : INFO : PROGRESS: at sentence #130000, processed 744998 words, keeping 87197 word types\n",
      "2024-03-26 16:34:07,017 : INFO : PROGRESS: at sentence #140000, processed 799967 words, keeping 90750 word types\n",
      "2024-03-26 16:34:07,039 : INFO : PROGRESS: at sentence #150000, processed 855459 words, keeping 94246 word types\n",
      "2024-03-26 16:34:07,063 : INFO : PROGRESS: at sentence #160000, processed 910363 words, keeping 97692 word types\n",
      "2024-03-26 16:34:07,086 : INFO : PROGRESS: at sentence #170000, processed 972797 words, keeping 101694 word types\n",
      "2024-03-26 16:34:07,109 : INFO : PROGRESS: at sentence #180000, processed 1030530 words, keeping 105203 word types\n",
      "2024-03-26 16:34:07,131 : INFO : PROGRESS: at sentence #190000, processed 1091212 words, keeping 108755 word types\n",
      "2024-03-26 16:34:07,166 : INFO : PROGRESS: at sentence #200000, processed 1149515 words, keeping 112056 word types\n",
      "2024-03-26 16:34:07,189 : INFO : PROGRESS: at sentence #210000, processed 1202612 words, keeping 114964 word types\n",
      "2024-03-26 16:34:07,215 : INFO : PROGRESS: at sentence #220000, processed 1260261 words, keeping 117924 word types\n",
      "2024-03-26 16:34:07,239 : INFO : PROGRESS: at sentence #230000, processed 1319116 words, keeping 120979 word types\n",
      "2024-03-26 16:34:07,265 : INFO : PROGRESS: at sentence #240000, processed 1376454 words, keeping 124027 word types\n",
      "2024-03-26 16:34:07,290 : INFO : PROGRESS: at sentence #250000, processed 1435131 words, keeping 126962 word types\n",
      "2024-03-26 16:34:07,318 : INFO : PROGRESS: at sentence #260000, processed 1490931 words, keeping 129820 word types\n",
      "2024-03-26 16:34:07,356 : INFO : PROGRESS: at sentence #270000, processed 1551263 words, keeping 132917 word types\n",
      "2024-03-26 16:34:07,381 : INFO : PROGRESS: at sentence #280000, processed 1610493 words, keeping 135769 word types\n",
      "2024-03-26 16:34:07,406 : INFO : PROGRESS: at sentence #290000, processed 1669482 words, keeping 138543 word types\n",
      "2024-03-26 16:34:07,439 : INFO : PROGRESS: at sentence #300000, processed 1728241 words, keeping 141270 word types\n",
      "2024-03-26 16:34:07,466 : INFO : PROGRESS: at sentence #310000, processed 1784169 words, keeping 143770 word types\n",
      "2024-03-26 16:34:07,490 : INFO : PROGRESS: at sentence #320000, processed 1843296 words, keeping 146313 word types\n",
      "2024-03-26 16:34:07,517 : INFO : PROGRESS: at sentence #330000, processed 1901654 words, keeping 148893 word types\n",
      "2024-03-26 16:34:07,545 : INFO : PROGRESS: at sentence #340000, processed 1959393 words, keeping 151431 word types\n",
      "2024-03-26 16:34:07,577 : INFO : PROGRESS: at sentence #350000, processed 2016716 words, keeping 153931 word types\n",
      "2024-03-26 16:34:07,615 : INFO : PROGRESS: at sentence #360000, processed 2074507 words, keeping 156320 word types\n",
      "2024-03-26 16:34:07,639 : INFO : PROGRESS: at sentence #370000, processed 2133947 words, keeping 158814 word types\n",
      "2024-03-26 16:34:07,684 : INFO : PROGRESS: at sentence #380000, processed 2192846 words, keeping 161184 word types\n",
      "2024-03-26 16:34:07,706 : INFO : PROGRESS: at sentence #390000, processed 2247342 words, keeping 163423 word types\n",
      "2024-03-26 16:34:07,729 : INFO : PROGRESS: at sentence #400000, processed 2309230 words, keeping 166064 word types\n",
      "2024-03-26 16:34:07,753 : INFO : PROGRESS: at sentence #410000, processed 2368102 words, keeping 168467 word types\n",
      "2024-03-26 16:34:07,778 : INFO : PROGRESS: at sentence #420000, processed 2430751 words, keeping 171014 word types\n",
      "2024-03-26 16:34:07,803 : INFO : PROGRESS: at sentence #430000, processed 2488527 words, keeping 173334 word types\n",
      "2024-03-26 16:34:07,851 : INFO : PROGRESS: at sentence #440000, processed 2548536 words, keeping 175681 word types\n",
      "2024-03-26 16:34:07,876 : INFO : PROGRESS: at sentence #450000, processed 2609620 words, keeping 178095 word types\n",
      "2024-03-26 16:34:07,902 : INFO : PROGRESS: at sentence #460000, processed 2671962 words, keeping 180453 word types\n",
      "2024-03-26 16:34:07,926 : INFO : PROGRESS: at sentence #470000, processed 2732132 words, keeping 182753 word types\n",
      "2024-03-26 16:34:07,951 : INFO : PROGRESS: at sentence #480000, processed 2791890 words, keeping 184837 word types\n",
      "2024-03-26 16:34:07,975 : INFO : PROGRESS: at sentence #490000, processed 2850265 words, keeping 186971 word types\n",
      "2024-03-26 16:34:08,011 : INFO : collected 188830 word types from a corpus of 2903365 raw words and 499010 sentences\n",
      "2024-03-26 16:34:08,012 : INFO : Creating a fresh vocabulary\n",
      "2024-03-26 16:34:08,131 : INFO : Word2Vec lifecycle event {'msg': 'effective_min_count=5 retains 44404 unique words (23.52% of original 188830, drops 144426)', 'datetime': '2024-03-26T16:34:08.131181', 'gensim': '4.3.2', 'python': '3.11.5 (main, Aug 24 2023, 15:18:16) [Clang 14.0.3 (clang-1403.0.22.14.1)]', 'platform': 'macOS-14.3.1-x86_64-i386-64bit', 'event': 'prepare_vocab'}\n",
      "2024-03-26 16:34:08,131 : INFO : Word2Vec lifecycle event {'msg': 'effective_min_count=5 leaves 2688304 word corpus (92.59% of original 2903365, drops 215061)', 'datetime': '2024-03-26T16:34:08.131838', 'gensim': '4.3.2', 'python': '3.11.5 (main, Aug 24 2023, 15:18:16) [Clang 14.0.3 (clang-1403.0.22.14.1)]', 'platform': 'macOS-14.3.1-x86_64-i386-64bit', 'event': 'prepare_vocab'}\n",
      "2024-03-26 16:34:08,273 : INFO : deleting the raw counts dictionary of 188830 items\n",
      "2024-03-26 16:34:08,276 : INFO : sample=0.001 downsamples 12 most-common words\n",
      "2024-03-26 16:34:08,277 : INFO : Word2Vec lifecycle event {'msg': 'downsampling leaves estimated 2638730.2158895694 word corpus (98.2%% of prior 2688304)', 'datetime': '2024-03-26T16:34:08.277982', 'gensim': '4.3.2', 'python': '3.11.5 (main, Aug 24 2023, 15:18:16) [Clang 14.0.3 (clang-1403.0.22.14.1)]', 'platform': 'macOS-14.3.1-x86_64-i386-64bit', 'event': 'prepare_vocab'}\n",
      "2024-03-26 16:34:08,546 : INFO : estimated required memory for 44404 words and 100 dimensions: 57725200 bytes\n",
      "2024-03-26 16:34:08,546 : INFO : resetting layer weights\n",
      "2024-03-26 16:34:08,571 : INFO : Word2Vec lifecycle event {'update': False, 'trim_rule': 'None', 'datetime': '2024-03-26T16:34:08.570997', 'gensim': '4.3.2', 'python': '3.11.5 (main, Aug 24 2023, 15:18:16) [Clang 14.0.3 (clang-1403.0.22.14.1)]', 'platform': 'macOS-14.3.1-x86_64-i386-64bit', 'event': 'build_vocab'}\n",
      "2024-03-26 16:34:08,571 : INFO : Word2Vec lifecycle event {'msg': 'training model with 3 workers on 44404 vocabulary and 100 features, using sg=0 hs=0 sample=0.001 negative=5 window=5 shrink_windows=True', 'datetime': '2024-03-26T16:34:08.571827', 'gensim': '4.3.2', 'python': '3.11.5 (main, Aug 24 2023, 15:18:16) [Clang 14.0.3 (clang-1403.0.22.14.1)]', 'platform': 'macOS-14.3.1-x86_64-i386-64bit', 'event': 'train'}\n",
      "2024-03-26 16:34:09,599 : INFO : EPOCH 0 - PROGRESS: at 52.39% examples, 1359399 words/s, in_qsize 5, out_qsize 0\n",
      "2024-03-26 16:34:10,423 : INFO : EPOCH 0: training on 2903365 raw words (2638921 effective words) took 1.8s, 1445137 effective words/s\n",
      "2024-03-26 16:34:11,433 : INFO : EPOCH 1 - PROGRESS: at 57.74% examples, 1506317 words/s, in_qsize 5, out_qsize 0\n",
      "2024-03-26 16:34:12,116 : INFO : EPOCH 1: training on 2903365 raw words (2638766 effective words) took 1.7s, 1567328 effective words/s\n",
      "2024-03-26 16:34:13,127 : INFO : EPOCH 2 - PROGRESS: at 61.22% examples, 1593649 words/s, in_qsize 5, out_qsize 0\n",
      "2024-03-26 16:34:13,750 : INFO : EPOCH 2: training on 2903365 raw words (2638632 effective words) took 1.6s, 1622474 effective words/s\n",
      "2024-03-26 16:34:14,761 : INFO : EPOCH 3 - PROGRESS: at 62.98% examples, 1637396 words/s, in_qsize 5, out_qsize 0\n",
      "2024-03-26 16:34:15,333 : INFO : EPOCH 3: training on 2903365 raw words (2638555 effective words) took 1.6s, 1674002 effective words/s\n",
      "2024-03-26 16:34:16,343 : INFO : EPOCH 4 - PROGRESS: at 64.71% examples, 1685274 words/s, in_qsize 5, out_qsize 0\n",
      "2024-03-26 16:34:16,925 : INFO : EPOCH 4: training on 2903365 raw words (2638702 effective words) took 1.6s, 1665847 effective words/s\n",
      "2024-03-26 16:34:16,925 : INFO : Word2Vec lifecycle event {'msg': 'training on 14516825 raw words (13193576 effective words) took 8.4s, 1579433 effective words/s', 'datetime': '2024-03-26T16:34:16.925728', 'gensim': '4.3.2', 'python': '3.11.5 (main, Aug 24 2023, 15:18:16) [Clang 14.0.3 (clang-1403.0.22.14.1)]', 'platform': 'macOS-14.3.1-x86_64-i386-64bit', 'event': 'train'}\n",
      "2024-03-26 16:34:16,926 : INFO : Word2Vec lifecycle event {'params': 'Word2Vec<vocab=44404, vector_size=100, alpha=0.025>', 'datetime': '2024-03-26T16:34:16.926140', 'gensim': '4.3.2', 'python': '3.11.5 (main, Aug 24 2023, 15:18:16) [Clang 14.0.3 (clang-1403.0.22.14.1)]', 'platform': 'macOS-14.3.1-x86_64-i386-64bit', 'event': 'created'}\n",
      "2024-03-26 16:34:16,926 : INFO : Word2Vec lifecycle event {'fname_or_handle': 'saved_w2v_models/w2v_model_2015', 'separately': 'None', 'sep_limit': 10485760, 'ignore': frozenset(), 'datetime': '2024-03-26T16:34:16.926575', 'gensim': '4.3.2', 'python': '3.11.5 (main, Aug 24 2023, 15:18:16) [Clang 14.0.3 (clang-1403.0.22.14.1)]', 'platform': 'macOS-14.3.1-x86_64-i386-64bit', 'event': 'saving'}\n",
      "2024-03-26 16:34:16,929 : INFO : not storing attribute cum_table\n",
      "2024-03-26 16:34:17,008 : INFO : saved saved_w2v_models/w2v_model_2015\n"
     ]
    }
   ],
   "source": [
    "# train and save word2vec model for 2015 \n",
    "run_word2vec(\"2015\", tokens_2015)"
   ]
  },
  {
   "cell_type": "code",
   "execution_count": 9,
   "metadata": {},
   "outputs": [
    {
     "name": "stderr",
     "output_type": "stream",
     "text": [
      "2023-12-27 14:18:56,026 : INFO : collecting all words and their counts\n",
      "2023-12-27 14:18:56,028 : INFO : PROGRESS: at sentence #0, processed 0 words, keeping 0 word types\n",
      "2023-12-27 14:18:56,047 : INFO : PROGRESS: at sentence #10000, processed 80462 words, keeping 16625 word types\n",
      "2023-12-27 14:18:56,096 : INFO : PROGRESS: at sentence #20000, processed 159565 words, keeping 20951 word types\n",
      "2023-12-27 14:18:56,117 : INFO : PROGRESS: at sentence #30000, processed 241422 words, keeping 32244 word types\n",
      "2023-12-27 14:18:56,152 : INFO : PROGRESS: at sentence #40000, processed 319983 words, keeping 40793 word types\n",
      "2023-12-27 14:18:56,186 : INFO : PROGRESS: at sentence #50000, processed 397617 words, keeping 44689 word types\n",
      "2023-12-27 14:18:56,216 : INFO : PROGRESS: at sentence #60000, processed 479082 words, keeping 46657 word types\n",
      "2023-12-27 14:18:56,249 : INFO : PROGRESS: at sentence #70000, processed 559626 words, keeping 51208 word types\n",
      "2023-12-27 14:18:56,268 : INFO : PROGRESS: at sentence #80000, processed 637275 words, keeping 51733 word types\n",
      "2023-12-27 14:18:56,288 : INFO : PROGRESS: at sentence #90000, processed 717609 words, keeping 55687 word types\n",
      "2023-12-27 14:18:56,309 : INFO : PROGRESS: at sentence #100000, processed 797871 words, keeping 57505 word types\n",
      "2023-12-27 14:18:56,344 : INFO : PROGRESS: at sentence #110000, processed 878514 words, keeping 63415 word types\n",
      "2023-12-27 14:18:56,370 : INFO : PROGRESS: at sentence #120000, processed 960752 words, keeping 69039 word types\n",
      "2023-12-27 14:18:56,392 : INFO : PROGRESS: at sentence #130000, processed 1043469 words, keeping 71710 word types\n",
      "2023-12-27 14:18:56,415 : INFO : PROGRESS: at sentence #140000, processed 1122307 words, keeping 74931 word types\n",
      "2023-12-27 14:18:56,439 : INFO : PROGRESS: at sentence #150000, processed 1204105 words, keeping 75344 word types\n",
      "2023-12-27 14:18:56,470 : INFO : PROGRESS: at sentence #160000, processed 1286992 words, keeping 76051 word types\n",
      "2023-12-27 14:18:56,492 : INFO : PROGRESS: at sentence #170000, processed 1366956 words, keeping 80045 word types\n",
      "2023-12-27 14:18:56,516 : INFO : PROGRESS: at sentence #180000, processed 1450114 words, keeping 83435 word types\n",
      "2023-12-27 14:18:56,538 : INFO : PROGRESS: at sentence #190000, processed 1529324 words, keeping 87077 word types\n",
      "2023-12-27 14:18:56,565 : INFO : PROGRESS: at sentence #200000, processed 1607212 words, keeping 91028 word types\n",
      "2023-12-27 14:18:56,600 : INFO : PROGRESS: at sentence #210000, processed 1685337 words, keeping 94969 word types\n",
      "2023-12-27 14:18:56,622 : INFO : PROGRESS: at sentence #220000, processed 1762466 words, keeping 98937 word types\n",
      "2023-12-27 14:18:56,643 : INFO : PROGRESS: at sentence #230000, processed 1838149 words, keeping 102579 word types\n",
      "2023-12-27 14:18:56,664 : INFO : PROGRESS: at sentence #240000, processed 1915233 words, keeping 105825 word types\n",
      "2023-12-27 14:18:56,689 : INFO : PROGRESS: at sentence #250000, processed 1994227 words, keeping 109202 word types\n",
      "2023-12-27 14:18:56,712 : INFO : PROGRESS: at sentence #260000, processed 2070866 words, keeping 111031 word types\n",
      "2023-12-27 14:18:56,734 : INFO : PROGRESS: at sentence #270000, processed 2148494 words, keeping 113956 word types\n",
      "2023-12-27 14:18:56,777 : INFO : PROGRESS: at sentence #280000, processed 2226475 words, keeping 117061 word types\n",
      "2023-12-27 14:18:56,816 : INFO : PROGRESS: at sentence #290000, processed 2307120 words, keeping 120526 word types\n",
      "2023-12-27 14:18:56,859 : INFO : PROGRESS: at sentence #300000, processed 2387716 words, keeping 122924 word types\n",
      "2023-12-27 14:18:56,891 : INFO : PROGRESS: at sentence #310000, processed 2468854 words, keeping 125486 word types\n",
      "2023-12-27 14:18:56,916 : INFO : PROGRESS: at sentence #320000, processed 2548029 words, keeping 128667 word types\n",
      "2023-12-27 14:18:56,958 : INFO : PROGRESS: at sentence #330000, processed 2627914 words, keeping 130738 word types\n",
      "2023-12-27 14:18:56,989 : INFO : PROGRESS: at sentence #340000, processed 2707728 words, keeping 133734 word types\n",
      "2023-12-27 14:18:57,020 : INFO : PROGRESS: at sentence #350000, processed 2786220 words, keeping 135132 word types\n",
      "2023-12-27 14:18:57,050 : INFO : PROGRESS: at sentence #360000, processed 2863551 words, keeping 137047 word types\n",
      "2023-12-27 14:18:57,105 : INFO : PROGRESS: at sentence #370000, processed 2942579 words, keeping 138607 word types\n",
      "2023-12-27 14:18:57,133 : INFO : PROGRESS: at sentence #380000, processed 3020622 words, keeping 140523 word types\n",
      "2023-12-27 14:18:57,159 : INFO : PROGRESS: at sentence #390000, processed 3098190 words, keeping 143513 word types\n",
      "2023-12-27 14:18:57,202 : INFO : PROGRESS: at sentence #400000, processed 3174962 words, keeping 146379 word types\n",
      "2023-12-27 14:18:57,239 : INFO : PROGRESS: at sentence #410000, processed 3249297 words, keeping 149235 word types\n",
      "2023-12-27 14:18:57,295 : INFO : PROGRESS: at sentence #420000, processed 3324444 words, keeping 152028 word types\n",
      "2023-12-27 14:18:57,321 : INFO : PROGRESS: at sentence #430000, processed 3400596 words, keeping 154458 word types\n",
      "2023-12-27 14:18:57,346 : INFO : PROGRESS: at sentence #440000, processed 3476176 words, keeping 156213 word types\n",
      "2023-12-27 14:18:57,374 : INFO : PROGRESS: at sentence #450000, processed 3552398 words, keeping 157776 word types\n",
      "2023-12-27 14:18:57,399 : INFO : PROGRESS: at sentence #460000, processed 3626683 words, keeping 160439 word types\n",
      "2023-12-27 14:18:57,431 : INFO : PROGRESS: at sentence #470000, processed 3704746 words, keeping 162972 word types\n",
      "2023-12-27 14:18:57,471 : INFO : PROGRESS: at sentence #480000, processed 3792367 words, keeping 165053 word types\n",
      "2023-12-27 14:18:57,500 : INFO : PROGRESS: at sentence #490000, processed 3876055 words, keeping 165622 word types\n",
      "2023-12-27 14:18:57,528 : INFO : PROGRESS: at sentence #500000, processed 3954265 words, keeping 167804 word types\n",
      "2023-12-27 14:18:57,556 : INFO : PROGRESS: at sentence #510000, processed 4037603 words, keeping 169399 word types\n",
      "2023-12-27 14:18:57,580 : INFO : PROGRESS: at sentence #520000, processed 4113643 words, keeping 170350 word types\n",
      "2023-12-27 14:18:57,612 : INFO : PROGRESS: at sentence #530000, processed 4192899 words, keeping 170654 word types\n",
      "2023-12-27 14:18:57,644 : INFO : PROGRESS: at sentence #540000, processed 4271125 words, keeping 171402 word types\n",
      "2023-12-27 14:18:57,672 : INFO : PROGRESS: at sentence #550000, processed 4355129 words, keeping 172036 word types\n",
      "2023-12-27 14:18:57,702 : INFO : PROGRESS: at sentence #560000, processed 4439527 words, keeping 172129 word types\n",
      "2023-12-27 14:18:57,734 : INFO : collected 172153 word types from a corpus of 4485711 raw words and 565434 sentences\n",
      "2023-12-27 14:18:57,735 : INFO : Creating a fresh vocabulary\n",
      "2023-12-27 14:18:57,854 : INFO : Word2Vec lifecycle event {'msg': 'effective_min_count=10 retains 33743 unique words (19.60% of original 172153, drops 138410)', 'datetime': '2023-12-27T14:18:57.854533', 'gensim': '4.3.2', 'python': '3.11.5 (main, Aug 24 2023, 15:18:16) [Clang 14.0.3 (clang-1403.0.22.14.1)]', 'platform': 'macOS-13.5-x86_64-i386-64bit', 'event': 'prepare_vocab'}\n",
      "2023-12-27 14:18:57,855 : INFO : Word2Vec lifecycle event {'msg': 'effective_min_count=10 leaves 4143259 word corpus (92.37% of original 4485711, drops 342452)', 'datetime': '2023-12-27T14:18:57.855208', 'gensim': '4.3.2', 'python': '3.11.5 (main, Aug 24 2023, 15:18:16) [Clang 14.0.3 (clang-1403.0.22.14.1)]', 'platform': 'macOS-13.5-x86_64-i386-64bit', 'event': 'prepare_vocab'}\n",
      "2023-12-27 14:18:57,978 : INFO : deleting the raw counts dictionary of 172153 items\n",
      "2023-12-27 14:18:57,983 : INFO : sample=0.001 downsamples 14 most-common words\n",
      "2023-12-27 14:18:57,984 : INFO : Word2Vec lifecycle event {'msg': 'downsampling leaves estimated 4030735.473314464 word corpus (97.3%% of prior 4143259)', 'datetime': '2023-12-27T14:18:57.984405', 'gensim': '4.3.2', 'python': '3.11.5 (main, Aug 24 2023, 15:18:16) [Clang 14.0.3 (clang-1403.0.22.14.1)]', 'platform': 'macOS-13.5-x86_64-i386-64bit', 'event': 'prepare_vocab'}\n",
      "2023-12-27 14:18:58,187 : INFO : estimated required memory for 33743 words and 100 dimensions: 43865900 bytes\n",
      "2023-12-27 14:18:58,188 : INFO : resetting layer weights\n",
      "2023-12-27 14:18:58,209 : INFO : Word2Vec lifecycle event {'update': False, 'trim_rule': 'None', 'datetime': '2023-12-27T14:18:58.209637', 'gensim': '4.3.2', 'python': '3.11.5 (main, Aug 24 2023, 15:18:16) [Clang 14.0.3 (clang-1403.0.22.14.1)]', 'platform': 'macOS-13.5-x86_64-i386-64bit', 'event': 'build_vocab'}\n",
      "2023-12-27 14:18:58,210 : INFO : Word2Vec lifecycle event {'msg': 'training model with 3 workers on 33743 vocabulary and 100 features, using sg=0 hs=0 sample=0.001 negative=5 window=5 shrink_windows=True', 'datetime': '2023-12-27T14:18:58.210278', 'gensim': '4.3.2', 'python': '3.11.5 (main, Aug 24 2023, 15:18:16) [Clang 14.0.3 (clang-1403.0.22.14.1)]', 'platform': 'macOS-13.5-x86_64-i386-64bit', 'event': 'train'}\n",
      "2023-12-27 14:18:59,222 : INFO : EPOCH 0 - PROGRESS: at 38.82% examples, 1567865 words/s, in_qsize 5, out_qsize 0\n",
      "2023-12-27 14:19:00,227 : INFO : EPOCH 0 - PROGRESS: at 79.01% examples, 1572694 words/s, in_qsize 5, out_qsize 0\n",
      "2023-12-27 14:19:00,840 : INFO : EPOCH 0: training on 4485711 raw words (4030380 effective words) took 2.6s, 1536537 effective words/s\n",
      "2023-12-27 14:19:01,861 : INFO : EPOCH 1 - PROGRESS: at 36.76% examples, 1480192 words/s, in_qsize 5, out_qsize 0\n",
      "2023-12-27 14:19:02,870 : INFO : EPOCH 1 - PROGRESS: at 59.47% examples, 1188824 words/s, in_qsize 6, out_qsize 0\n",
      "2023-12-27 14:19:03,872 : INFO : EPOCH 1 - PROGRESS: at 94.98% examples, 1261356 words/s, in_qsize 6, out_qsize 0\n",
      "2023-12-27 14:19:04,006 : INFO : EPOCH 1: training on 4485711 raw words (4030934 effective words) took 3.2s, 1277165 effective words/s\n",
      "2023-12-27 14:19:05,019 : INFO : EPOCH 2 - PROGRESS: at 39.29% examples, 1585521 words/s, in_qsize 5, out_qsize 0\n",
      "2023-12-27 14:19:06,020 : INFO : EPOCH 2 - PROGRESS: at 67.82% examples, 1361078 words/s, in_qsize 5, out_qsize 0\n",
      "2023-12-27 14:19:06,875 : INFO : EPOCH 2: training on 4485711 raw words (4030473 effective words) took 2.9s, 1408925 effective words/s\n",
      "2023-12-27 14:19:07,881 : INFO : EPOCH 3 - PROGRESS: at 41.40% examples, 1673401 words/s, in_qsize 5, out_qsize 0\n",
      "2023-12-27 14:19:08,885 : INFO : EPOCH 3 - PROGRESS: at 81.12% examples, 1617459 words/s, in_qsize 5, out_qsize 0\n",
      "2023-12-27 14:19:09,367 : INFO : EPOCH 3: training on 4485711 raw words (4030417 effective words) took 2.5s, 1621159 effective words/s\n",
      "2023-12-27 14:19:10,374 : INFO : EPOCH 4 - PROGRESS: at 37.00% examples, 1504043 words/s, in_qsize 5, out_qsize 0\n",
      "2023-12-27 14:19:11,384 : INFO : EPOCH 4 - PROGRESS: at 74.81% examples, 1491513 words/s, in_qsize 6, out_qsize 1\n",
      "2023-12-27 14:19:12,224 : INFO : EPOCH 4: training on 4485711 raw words (4030492 effective words) took 2.9s, 1413730 effective words/s\n",
      "2023-12-27 14:19:12,225 : INFO : Word2Vec lifecycle event {'msg': 'training on 22428555 raw words (20152696 effective words) took 14.0s, 1437934 effective words/s', 'datetime': '2023-12-27T14:19:12.225623', 'gensim': '4.3.2', 'python': '3.11.5 (main, Aug 24 2023, 15:18:16) [Clang 14.0.3 (clang-1403.0.22.14.1)]', 'platform': 'macOS-13.5-x86_64-i386-64bit', 'event': 'train'}\n",
      "2023-12-27 14:19:12,226 : INFO : Word2Vec lifecycle event {'params': 'Word2Vec<vocab=33743, vector_size=100, alpha=0.025>', 'datetime': '2023-12-27T14:19:12.226059', 'gensim': '4.3.2', 'python': '3.11.5 (main, Aug 24 2023, 15:18:16) [Clang 14.0.3 (clang-1403.0.22.14.1)]', 'platform': 'macOS-13.5-x86_64-i386-64bit', 'event': 'created'}\n",
      "2023-12-27 14:19:12,226 : INFO : Word2Vec lifecycle event {'fname_or_handle': 'thesis_w2v_2022_tweets', 'separately': 'None', 'sep_limit': 10485760, 'ignore': frozenset(), 'datetime': '2023-12-27T14:19:12.226478', 'gensim': '4.3.2', 'python': '3.11.5 (main, Aug 24 2023, 15:18:16) [Clang 14.0.3 (clang-1403.0.22.14.1)]', 'platform': 'macOS-13.5-x86_64-i386-64bit', 'event': 'saving'}\n",
      "2023-12-27 14:19:12,227 : INFO : not storing attribute cum_table\n",
      "2023-12-27 14:19:12,300 : INFO : saved thesis_w2v_2022_tweets\n"
     ]
    }
   ],
   "source": [
    "# train and save word2vec model for 2022\n",
    "run_word2vec(\"2022\", tokens_2022)"
   ]
  },
  {
   "cell_type": "code",
   "execution_count": 23,
   "metadata": {},
   "outputs": [
    {
     "name": "stderr",
     "output_type": "stream",
     "text": [
      "2024-03-26 16:22:31,453 : INFO : loading Word2Vec object from saved_w2v_models/w2v_model_2015\n",
      "2024-03-26 16:22:31,487 : INFO : loading wv recursively from saved_w2v_models/w2v_model_2015.wv.* with mmap=None\n",
      "2024-03-26 16:22:31,493 : INFO : setting ignored attribute cum_table to None\n",
      "2024-03-26 16:22:31,652 : INFO : Word2Vec lifecycle event {'fname': 'saved_w2v_models/w2v_model_2015', 'datetime': '2024-03-26T16:22:31.652575', 'gensim': '4.3.2', 'python': '3.11.5 (main, Aug 24 2023, 15:18:16) [Clang 14.0.3 (clang-1403.0.22.14.1)]', 'platform': 'macOS-14.3.1-x86_64-i386-64bit', 'event': 'loaded'}\n"
     ]
    },
    {
     "name": "stdout",
     "output_type": "stream",
     "text": [
      "[('人種差別', 0.9681127667427063), ('反日', 0.9560563564300537), ('自民', 0.9556175470352173), ('参院', 0.9535259008407593), ('拘束', 0.951295018196106), ('憲法違反', 0.9512634873390198), ('民主', 0.9504404067993164), ('非難', 0.9497846961021423), ('他国', 0.9497363567352295), ('民族', 0.9492263793945312)]\n",
      "[('韓国人', 0.8849018812179565), ('人質事件', 0.8831086754798889), ('出身', 0.8805031776428223), ('アジア', 0.8722708821296692), ('記者', 0.8704305291175842), ('月給', 0.8682972192764282), ('専門家', 0.8682597279548645), ('中韓', 0.8673125505447388), ('維新', 0.8641927242279053), ('若者', 0.8639814853668213)]\n"
     ]
    }
   ],
   "source": [
    "# load trained word2vec model\n",
    "model_2015 = gensim.models.Word2Vec.load(\"saved_w2v_models/w2v_model_2015\")\n",
    "\n",
    "# check similarity given by trained model\n",
    "print(model_2015.wv.most_similar(positive='在日',topn=10))\n",
    "print(model_2015.wv.most_similar(positive='外国人',topn=10))"
   ]
  },
  {
   "cell_type": "code",
   "execution_count": 11,
   "metadata": {},
   "outputs": [
    {
     "name": "stderr",
     "output_type": "stream",
     "text": [
      "2023-12-27 14:19:20,091 : INFO : loading Word2Vec object from thesis_w2v_2022_tweets\n",
      "2023-12-27 14:19:20,133 : INFO : loading wv recursively from thesis_w2v_2022_tweets.wv.* with mmap=None\n",
      "2023-12-27 14:19:20,133 : INFO : setting ignored attribute cum_table to None\n",
      "2023-12-27 14:19:20,339 : INFO : Word2Vec lifecycle event {'fname': 'thesis_w2v_2022_tweets', 'datetime': '2023-12-27T14:19:20.339315', 'gensim': '4.3.2', 'python': '3.11.5 (main, Aug 24 2023, 15:18:16) [Clang 14.0.3 (clang-1403.0.22.14.1)]', 'platform': 'macOS-13.5-x86_64-i386-64bit', 'event': 'loaded'}\n"
     ]
    },
    {
     "name": "stdout",
     "output_type": "stream",
     "text": [
      "[('共産主義', 0.9306224584579468), ('併合', 0.9204510450363159), ('略奪', 0.9177254438400269), ('ナチス', 0.914193332195282), ('イラク', 0.9130715131759644), ('軍事力', 0.9127207398414612), ('従わ', 0.9111466407775879), ('人身売買', 0.9108579158782959), ('諸国', 0.9105721712112427), ('辺野古', 0.9075276255607605)]\n",
      "[('中国人', 0.8970280885696411), ('自国', 0.894239604473114), ('欧米', 0.8910224437713623), ('中国', 0.8830902576446533), ('日本人', 0.8747531175613403), ('れいわ', 0.8741739988327026), ('イスラム教', 0.8676839470863342), ('独立', 0.8672612905502319), ('教会', 0.8656696677207947), ('カルト', 0.8599515557289124)]\n"
     ]
    }
   ],
   "source": [
    "# same for 2022\n",
    "model_2022 = gensim.models.Word2Vec.load(\"saved_w2v_models/w2v_model_2022\")\n",
    "\n",
    "print(model_2022.wv.most_similar(positive='在日',topn=10))\n",
    "print(model_2022.wv.most_similar(positive='外国人',topn=10))"
   ]
  },
  {
   "cell_type": "markdown",
   "metadata": {},
   "source": [
    "#### Plot Word2Vec Findings"
   ]
  },
  {
   "cell_type": "code",
   "execution_count": 26,
   "metadata": {},
   "outputs": [],
   "source": [
    "# https://radimrehurek.com/gensim/auto_examples/tutorials/run_word2vec.html#sphx-glr-auto-examples-tutorials-run-word2vec-py\n",
    "def reduce_dimensions(model):\n",
    "    num_dimensions = 2\n",
    "\n",
    "    # extract the words & their vectors, as numpy arrays\n",
    "    vectors = np.asarray(model.wv.vectors)\n",
    "    labels = np.asarray(model.wv.index_to_key)\n",
    "\n",
    "    # reduce using t-SNE\n",
    "    tsne = TSNE(n_components=num_dimensions, random_state=0)\n",
    "    vectors = tsne.fit_transform(vectors)\n",
    "\n",
    "    x_vals = [v[0] for v in vectors]\n",
    "    y_vals = [v[1] for v in vectors]\n",
    "    return x_vals, y_vals"
   ]
  },
  {
   "cell_type": "code",
   "execution_count": 24,
   "metadata": {},
   "outputs": [],
   "source": [
    "# plot similar words\n",
    "# https://aneesha.medium.com/using-tsne-to-plot-a-subset-of-similar-words-from-word2vec-bb8eeaea6229 \n",
    "# https://albertauyeung.github.io/2020/03/15/matplotlib-cjk-fonts.html/\n",
    "# https://stackoverflow.com/questions/70268270/how-to-plot-tsne-on-word2vec-created-from-gensim-for-the-most-similar-20-cases\n",
    "\n",
    "def plot_closest_words(word, model, x_vals, y_vals):\n",
    "    labels = [i for i in model.wv.index_to_key]\n",
    "    close_words = [i[0] for i in model.wv.most_similar(positive=word, topn=15)]\n",
    "\n",
    "    fprop = fm.FontProperties(fname='NotoSansJP-VariableFont_wght.ttf')\n",
    "    for word in close_words:\n",
    "        i = labels.index(word)\n",
    "        plt.scatter(x_vals[i],y_vals[i])\n",
    "        plt.annotate(labels[i], xy=(x_vals[i], y_vals[i]), xytext=(5, 2), textcoords='offset points', ha='right', va='bottom', fontproperties=fprop)"
   ]
  },
  {
   "cell_type": "code",
   "execution_count": 27,
   "metadata": {},
   "outputs": [
    {
     "data": {
      "image/png": "[encoded data removed]",
      "text/plain": [
       "<Figure size 640x480 with 1 Axes>"
      ]
     },
     "metadata": {},
     "output_type": "display_data"
    }
   ],
   "source": [
    "x_vals, y_vals = reduce_dimensions(model_2015)\n",
    "plot_closest_words(\"外人\", model_2015, x_vals, y_vals)"
   ]
  },
  {
   "cell_type": "code",
   "execution_count": 21,
   "metadata": {},
   "outputs": [
    {
     "data": {
      "image/png": "[encoded data removed]",
      "text/plain": [
       "<Figure size 640x480 with 1 Axes>"
      ]
     },
     "metadata": {},
     "output_type": "display_data"
    }
   ],
   "source": [
    "x_vals, y_vals = reduce_dimensions(model_2022)\n",
    "plot_closest_words(\"外人\", model_2022, x_vals, y_vals)"
   ]
  },
  {
   "cell_type": "code",
   "execution_count": 29,
   "metadata": {},
   "outputs": [
    {
     "name": "stdout",
     "output_type": "stream",
     "text": [
      "てる\n",
      "笑\n",
      "いい\n",
      "今日\n",
      "ありがとう\n",
      "やっ\n",
      "おはよう\n",
      "思っ\n",
      "好き\n",
      "すぎ\n",
      "もう\n",
      "ください\n",
      "フォロ\n",
      "み\n",
      "ノ\n",
      "くれ\n",
      "言っ\n",
      "寝\n",
      "っ\n",
      "明日\n",
      "思う\n",
      "トレクル\n",
      "どう\n",
      "行っ\n",
      "無料\n",
      "来\n",
      "くん\n",
      "出\n",
      "まだ\n",
      "食べ\n",
      "行く\n",
      "ちょっと\n",
      "仕事\n",
      "おは\n",
      "くる\n",
      "お願い\n",
      "行き\n",
      "可愛い\n",
      "めっちゃ\n",
      "そんな\n",
      "良い\n",
      "僕\n",
      "映像\n",
      "虫\n",
      "よく\n",
      "電\n",
      "伝\n",
      "大丈夫\n",
      "言わ\n",
      "昨日\n"
     ]
    }
   ],
   "source": [
    "common = model_2015.wv.index_to_key[:50]\n",
    "for word in common:\n",
    "    print(word)"
   ]
  },
  {
   "cell_type": "code",
   "execution_count": 23,
   "metadata": {},
   "outputs": [
    {
     "name": "stdout",
     "output_type": "stream",
     "text": [
      "てる\n",
      "おはよう\n",
      "ありがとう\n",
      "今日\n",
      "いい\n",
      "ください\n",
      "おは\n",
      "くれ\n",
      "思っ\n",
      "参加\n",
      "すぎ\n",
      "好き\n",
      "結果\n",
      "笑\n",
      "やっ\n",
      "み\n",
      "良い\n",
      "寝\n",
      "フォロ\n",
      "お願い\n",
      "明日\n",
      "くん\n",
      "来\n",
      "もう\n",
      "思う\n",
      "朝\n",
      "昨日\n",
      "言っ\n",
      "キャンペン\n",
      "すぎる\n",
      "行っ\n",
      "出\n",
      "楽しみ\n",
      "動画\n",
      "思い\n",
      "応募\n",
      "食べ\n",
      "っ\n",
      "仕事\n",
      "どう\n",
      "嬉しい\n",
      "当たる\n",
      "ござい\n",
      "おめでとう\n",
      "起き\n",
      "可愛い\n",
      "まだ\n",
      "本当に\n",
      "よろしくお願いします\n",
      "残念\n"
     ]
    }
   ],
   "source": [
    "common = model_2022.wv.index_to_key[:50]\n",
    "for word in common:\n",
    "    print(word)"
   ]
  },
  {
   "cell_type": "markdown",
   "metadata": {},
   "source": [
    "### W2V Similar Words - Minority Groups"
   ]
  },
  {
   "cell_type": "code",
   "execution_count": 86,
   "metadata": {},
   "outputs": [],
   "source": [
    "def compare_similar_words(keyword:str, model_2015, model_2022, positive=[], negative=[], topn=10):\n",
    "    if len(positive) == 0: positive = keyword\n",
    "\n",
    "    # 2015\n",
    "    print(\"\\nSimilar words to \" + keyword + \": 2015\")\n",
    "    try:\n",
    "        words_15 = model_2015.wv.most_similar(positive=positive, negative=negative, topn=topn)\n",
    "        for w in words_15:\n",
    "            print(w[0])\n",
    "    except:\n",
    "        print(\"Error\\n\")\n",
    "\n",
    "    # 2022\n",
    "    print(\"\\nSimilar words to \" + keyword + \": 2022\")\n",
    "    try:\n",
    "        words_22 = model_2022.wv.most_similar(positive=positive, negative=negative, topn=topn)\n",
    "        for w in words_22:\n",
    "            print(w[0])\n",
    "    except:\n",
    "        print(\"Error\\n\")"
   ]
  },
  {
   "cell_type": "code",
   "execution_count": 78,
   "metadata": {},
   "outputs": [
    {
     "name": "stderr",
     "output_type": "stream",
     "text": [
      "2024-03-28 14:23:16,870 : INFO : loading Word2Vec object from saved_w2v_models/w2v_model_2015\n"
     ]
    },
    {
     "name": "stderr",
     "output_type": "stream",
     "text": [
      "2024-03-28 14:23:17,008 : INFO : loading wv recursively from saved_w2v_models/w2v_model_2015.wv.* with mmap=None\n",
      "2024-03-28 14:23:17,014 : INFO : setting ignored attribute cum_table to None\n",
      "2024-03-28 14:23:17,265 : INFO : Word2Vec lifecycle event {'fname': 'saved_w2v_models/w2v_model_2015', 'datetime': '2024-03-28T14:23:17.265259', 'gensim': '4.3.2', 'python': '3.11.5 (main, Aug 24 2023, 15:18:16) [Clang 14.0.3 (clang-1403.0.22.14.1)]', 'platform': 'macOS-14.3.1-x86_64-i386-64bit', 'event': 'loaded'}\n",
      "2024-03-28 14:23:17,266 : INFO : loading Word2Vec object from saved_w2v_models/w2v_model_2022\n",
      "2024-03-28 14:23:17,304 : INFO : loading wv recursively from saved_w2v_models/w2v_model_2022.wv.* with mmap=None\n",
      "2024-03-28 14:23:17,307 : INFO : setting ignored attribute cum_table to None\n",
      "2024-03-28 14:23:17,492 : INFO : Word2Vec lifecycle event {'fname': 'saved_w2v_models/w2v_model_2022', 'datetime': '2024-03-28T14:23:17.492934', 'gensim': '4.3.2', 'python': '3.11.5 (main, Aug 24 2023, 15:18:16) [Clang 14.0.3 (clang-1403.0.22.14.1)]', 'platform': 'macOS-14.3.1-x86_64-i386-64bit', 'event': 'loaded'}\n"
     ]
    }
   ],
   "source": [
    "model_2015 = gensim.models.Word2Vec.load(\"saved_w2v_models/w2v_model_2015\")\n",
    "model_2022 = gensim.models.Word2Vec.load(\"saved_w2v_models/w2v_model_2022\")"
   ]
  },
  {
   "cell_type": "code",
   "execution_count": 115,
   "metadata": {},
   "outputs": [
    {
     "name": "stdout",
     "output_type": "stream",
     "text": [
      "\n",
      "Similar words to 在日: 2015\n",
      "自民\n",
      "政策\n",
      "不正\n",
      "参院\n",
      "軍事\n",
      "ロシア\n",
      "他国\n",
      "介入\n",
      "人種差別\n",
      "首相\n",
      "\n",
      "Similar words to 在日: 2022\n",
      "共産主義\n",
      "併合\n",
      "略奪\n",
      "ナチス\n",
      "イラク\n",
      "軍事力\n",
      "従わ\n",
      "人身売買\n",
      "諸国\n",
      "辺野古\n"
     ]
    }
   ],
   "source": [
    "# Zainichi Koreans\n",
    "compare_similar_words(\"在日\", model_2015, model_2022)\n",
    "# compare_similar_words(\"在日コリアン\", model_2015, model_2022)\n",
    "# compare_similar_words(\"在日韓国人\", model_2015, model_2022)\n",
    "# compare_similar_words(\"韓国人\", model_2015, model_2022)"
   ]
  },
  {
   "cell_type": "code",
   "execution_count": 51,
   "metadata": {},
   "outputs": [
    {
     "name": "stdout",
     "output_type": "stream",
     "text": [
      "\n",
      "Similar words to アイヌ: 2015\n",
      "Error\n",
      "\n",
      "\n",
      "Similar words to アイヌ: 2022\n",
      "航空機\n",
      "非難決議\n",
      "都市計画\n",
      "穀物\n",
      "大輔\n",
      "超党派\n",
      "弾薬\n",
      "数学者\n",
      "西暦\n",
      "死去\n"
     ]
    }
   ],
   "source": [
    "# Ainu\n",
    "compare_similar_words(\"アイヌ\", model_2015, model_2022)"
   ]
  },
  {
   "cell_type": "code",
   "execution_count": 53,
   "metadata": {},
   "outputs": [
    {
     "name": "stdout",
     "output_type": "stream",
     "text": [
      "\n",
      "Similar words to 沖縄: 2015\n",
      "観光\n",
      "東北\n",
      "周辺\n",
      "北海道\n",
      "神戸\n",
      "神奈川\n",
      "川崎\n",
      "横浜\n",
      "関東\n",
      "品川\n",
      "\n",
      "Similar words to 沖縄: 2022\n",
      "観光\n",
      "東北\n",
      "博物館\n",
      "周辺\n",
      "四国\n",
      "相模原\n",
      "札幌\n",
      "金沢\n",
      "九州\n",
      "鎌倉\n",
      "\n",
      "Similar words to 琉球: 2015\n",
      "京都市\n",
      "庭園\n",
      "西日本\n",
      "京都府\n",
      "国内線\n",
      "足立区\n",
      "好立地\n",
      "島根県\n",
      "札幌市\n",
      "大田区\n",
      "\n",
      "Similar words to 琉球: 2022\n",
      "沈没\n",
      "神道\n",
      "上海\n",
      "習\n",
      "イギリス東インド会社\n",
      "誇る\n",
      "元首相\n",
      "非難決議\n",
      "幾\n",
      "現在地\n"
     ]
    }
   ],
   "source": [
    "# Okinawa\n",
    "compare_similar_words(\"沖縄\", model_2015, model_2022)\n",
    "compare_similar_words(\"琉球\", model_2015, model_2022)"
   ]
  },
  {
   "cell_type": "code",
   "execution_count": 112,
   "metadata": {},
   "outputs": [
    {
     "name": "stdout",
     "output_type": "stream",
     "text": [
      "\n",
      "Similar words to ハフ: 2015\n",
      "批判\n",
      "国民\n",
      "政治\n",
      "自己\n",
      "国家\n",
      "安保法案\n",
      "政府\n",
      "憲法\n",
      "民主党\n",
      "議員\n",
      "\n",
      "Similar words to ハフ: 2022\n",
      "援助\n",
      "支持\n",
      "組織\n",
      "自国\n",
      "暴力\n",
      "左翼\n",
      "教育\n",
      "若者\n",
      "欧米\n",
      "宗教\n"
     ]
    }
   ],
   "source": [
    "compare_similar_words(\"ハフ\", model_2015, model_2022, positive=[\"ハフ\",\"人間\",\"日本人\"\n",
    "                                                              ], negative=[\"髪\",\"服\"])"
   ]
  },
  {
   "cell_type": "markdown",
   "metadata": {},
   "source": []
  },
  {
   "cell_type": "code",
   "execution_count": 56,
   "metadata": {},
   "outputs": [
    {
     "name": "stdout",
     "output_type": "stream",
     "text": [
      "\n",
      "Similar words to 外人: 2015\n",
      "話し方\n",
      "困惑\n",
      "標準語\n",
      "錯覚\n",
      "ウケ\n",
      "スペイン語\n",
      "通じる\n",
      "韓国語\n",
      "一時期\n",
      "ワケ\n",
      "\n",
      "Similar words to 外人: 2022\n",
      "不発\n",
      "軍備\n",
      "共産\n",
      "国籍\n",
      "電力\n",
      "輸出\n",
      "正規\n",
      "貧富の差\n",
      "ゼレンスキ\n",
      "社民党\n"
     ]
    }
   ],
   "source": [
    "compare_similar_words(\"外人\", model_2015, model_2022)"
   ]
  },
  {
   "cell_type": "code",
   "execution_count": 57,
   "metadata": {},
   "outputs": [
    {
     "name": "stdout",
     "output_type": "stream",
     "text": [
      "\n",
      "Similar words to 外国人: 2015\n",
      "韓国人\n",
      "人質事件\n",
      "出身\n",
      "アジア\n",
      "記者\n",
      "月給\n",
      "専門家\n",
      "中韓\n",
      "維新\n",
      "若者\n",
      "\n",
      "Similar words to 外国人: 2022\n",
      "中国人\n",
      "自国\n",
      "欧米\n",
      "中国\n",
      "日本人\n",
      "れいわ\n",
      "イスラム教\n",
      "独立\n",
      "教会\n",
      "カルト\n"
     ]
    }
   ],
   "source": [
    "compare_similar_words(\"外国人\", model_2015, model_2022)"
   ]
  },
  {
   "cell_type": "code",
   "execution_count": 58,
   "metadata": {},
   "outputs": [
    {
     "name": "stdout",
     "output_type": "stream",
     "text": [
      "\n",
      "Similar words to 人種差別: 2015\n",
      "軍事\n",
      "憲法違反\n",
      "民主\n",
      "介入\n",
      "自民\n",
      "参院\n",
      "大統領\n",
      "安倍政権\n",
      "民族\n",
      "竹島\n",
      "\n",
      "Similar words to 人種差別: 2022\n",
      "左派\n",
      "活動家\n",
      "欠如\n",
      "無謀\n",
      "都民\n",
      "売国奴\n",
      "トランスジェンダ\n",
      "知性\n",
      "権力者\n",
      "振りかざし\n"
     ]
    }
   ],
   "source": [
    "compare_similar_words(\"人種差別\", model_2015, model_2022)"
   ]
  },
  {
   "cell_type": "code",
   "execution_count": 60,
   "metadata": {},
   "outputs": [
    {
     "name": "stdout",
     "output_type": "stream",
     "text": [
      "\n",
      "Similar words to 差別: 2015\n",
      "マスコミ\n",
      "国民\n",
      "思想\n",
      "本質\n",
      "得る\n",
      "主張\n",
      "与える\n",
      "公正\n",
      "法律\n",
      "義務\n",
      "\n",
      "Similar words to 差別: 2022\n",
      "批判\n",
      "宗教\n",
      "犯罪\n",
      "外交\n",
      "政治家\n",
      "立場\n",
      "主張\n",
      "常識\n",
      "政治\n",
      "加担\n"
     ]
    }
   ],
   "source": [
    "compare_similar_words(\"差別\", model_2015, model_2022)"
   ]
  },
  {
   "cell_type": "code",
   "execution_count": 105,
   "metadata": {},
   "outputs": [
    {
     "name": "stdout",
     "output_type": "stream",
     "text": [
      "\n",
      "Similar words to 来日: 2015\n",
      "欧米\n",
      "球団\n",
      "山口県\n",
      "貿易\n",
      "京大\n",
      "首都圏\n",
      "円高\n",
      "特設\n",
      "財団\n",
      "ライセンス\n",
      "\n",
      "Similar words to 来日: 2022\n",
      "本拠地\n",
      "集結\n",
      "選抜\n",
      "通算\n",
      "連盟\n",
      "修業\n",
      "琉球\n",
      "ドキュメンタリ\n",
      "代役\n",
      "著名\n"
     ]
    }
   ],
   "source": [
    "compare_similar_words(\"来日\", model_2015, model_2022)"
   ]
  },
  {
   "cell_type": "code",
   "execution_count": 73,
   "metadata": {},
   "outputs": [
    {
     "name": "stdout",
     "output_type": "stream",
     "text": [
      "\n",
      "Similar words to ヘイトスピチ: 2015\n",
      "容認\n",
      "官邸\n",
      "愛国\n",
      "左翼\n",
      "閣議決定\n",
      "竹島\n",
      "言論\n",
      "保守\n",
      "歴史的\n",
      "ナチス\n",
      "\n",
      "Similar words to ヘイトスピチ: 2022\n",
      "Error\n",
      "\n"
     ]
    }
   ],
   "source": [
    "compare_similar_words(\"ヘイトスピチ\", model_2015, model_2022)"
   ]
  },
  {
   "cell_type": "code",
   "execution_count": 81,
   "metadata": {},
   "outputs": [
    {
     "name": "stdout",
     "output_type": "stream",
     "text": [
      "\n",
      "Similar words to ヘイト: 2015\n",
      "ハンド\n",
      "普遍\n",
      "倒せる\n",
      "無敵\n",
      "加担\n",
      "ランサ\n",
      "求愛\n",
      "干渉\n",
      "ダイナモ\n",
      "唱え\n",
      "\n",
      "Similar words to ヘイト: 2022\n",
      "法的\n",
      "同列\n",
      "既得権益\n",
      "彼等\n",
      "社会的\n",
      "糾弾\n",
      "見下す\n",
      "人種差別\n",
      "定め\n",
      "従わ\n"
     ]
    }
   ],
   "source": [
    "compare_similar_words(\"ヘイト\", model_2015, model_2022)"
   ]
  },
  {
   "cell_type": "code",
   "execution_count": 65,
   "metadata": {},
   "outputs": [
    {
     "name": "stdout",
     "output_type": "stream",
     "text": [
      "\n",
      "Similar words to マイノリティ: 2015\n",
      "Error\n",
      "\n",
      "\n",
      "Similar words to マイノリティ: 2022\n",
      "自認\n",
      "自他\n",
      "罰せ\n",
      "同性愛\n",
      "見受け\n",
      "マスメディア\n",
      "言説\n",
      "目くそ\n",
      "弱いっ\n",
      "レイシスト\n"
     ]
    }
   ],
   "source": [
    "compare_similar_words(\"マイノリティ\", model_2015, model_2022)"
   ]
  },
  {
   "cell_type": "markdown",
   "metadata": {},
   "source": [
    "### Word2Vec for Minority Group Datasets"
   ]
  },
  {
   "cell_type": "code",
   "execution_count": 66,
   "metadata": {},
   "outputs": [],
   "source": [
    "import csv"
   ]
  },
  {
   "cell_type": "code",
   "execution_count": 67,
   "metadata": {},
   "outputs": [],
   "source": [
    "# pass in filename of csv you want to load, including '.csv'\n",
    "def load_from_csv(filename):\n",
    "    with open(filename, newline='') as f:\n",
    "        reader = csv.reader(f)\n",
    "        tweet_tokens = list(reader)\n",
    "    return tweet_tokens"
   ]
  },
  {
   "cell_type": "code",
   "execution_count": 74,
   "metadata": {},
   "outputs": [],
   "source": [
    "# train and save word2vec model for given year\n",
    "def run_word2vec(tokens):\n",
    "    # logging.basicConfig(format='%(asctime)s : %(levelname)s : %(message)s', level=logging.INFO)\n",
    "    model = gensim.models.Word2Vec(tokens, min_count=5)\n",
    "    # model.save(\"saved_w2v_models/w2v_model_\" + name)\n",
    "\n",
    "    return model"
   ]
  },
  {
   "cell_type": "code",
   "execution_count": 75,
   "metadata": {},
   "outputs": [
    {
     "name": "stderr",
     "output_type": "stream",
     "text": [
      "2024-03-27 16:32:24,708 : INFO : collecting all words and their counts\n",
      "2024-03-27 16:32:24,709 : INFO : PROGRESS: at sentence #0, processed 0 words, keeping 0 word types\n",
      "2024-03-27 16:32:24,730 : INFO : PROGRESS: at sentence #10000, processed 153925 words, keeping 13654 word types\n",
      "2024-03-27 16:32:24,751 : INFO : PROGRESS: at sentence #20000, processed 305877 words, keeping 19862 word types\n",
      "2024-03-27 16:32:24,760 : INFO : collected 22136 word types from a corpus of 365268 raw words and 23653 sentences\n",
      "2024-03-27 16:32:24,761 : INFO : Creating a fresh vocabulary\n",
      "2024-03-27 16:32:24,775 : INFO : Word2Vec lifecycle event {'msg': 'effective_min_count=5 retains 5800 unique words (26.20% of original 22136, drops 16336)', 'datetime': '2024-03-27T16:32:24.775163', 'gensim': '4.3.2', 'python': '3.11.5 (main, Aug 24 2023, 15:18:16) [Clang 14.0.3 (clang-1403.0.22.14.1)]', 'platform': 'macOS-14.3.1-x86_64-i386-64bit', 'event': 'prepare_vocab'}\n",
      "2024-03-27 16:32:24,775 : INFO : Word2Vec lifecycle event {'msg': 'effective_min_count=5 leaves 338895 word corpus (92.78% of original 365268, drops 26373)', 'datetime': '2024-03-27T16:32:24.775956', 'gensim': '4.3.2', 'python': '3.11.5 (main, Aug 24 2023, 15:18:16) [Clang 14.0.3 (clang-1403.0.22.14.1)]', 'platform': 'macOS-14.3.1-x86_64-i386-64bit', 'event': 'prepare_vocab'}\n",
      "2024-03-27 16:32:24,794 : INFO : deleting the raw counts dictionary of 22136 items\n",
      "2024-03-27 16:32:24,794 : INFO : sample=0.001 downsamples 31 most-common words\n",
      "2024-03-27 16:32:24,795 : INFO : Word2Vec lifecycle event {'msg': 'downsampling leaves estimated 295909.6449781772 word corpus (87.3%% of prior 338895)', 'datetime': '2024-03-27T16:32:24.795267', 'gensim': '4.3.2', 'python': '3.11.5 (main, Aug 24 2023, 15:18:16) [Clang 14.0.3 (clang-1403.0.22.14.1)]', 'platform': 'macOS-14.3.1-x86_64-i386-64bit', 'event': 'prepare_vocab'}\n",
      "2024-03-27 16:32:24,828 : INFO : estimated required memory for 5800 words and 100 dimensions: 7540000 bytes\n",
      "2024-03-27 16:32:24,829 : INFO : resetting layer weights\n",
      "2024-03-27 16:32:24,838 : INFO : Word2Vec lifecycle event {'update': False, 'trim_rule': 'None', 'datetime': '2024-03-27T16:32:24.838203', 'gensim': '4.3.2', 'python': '3.11.5 (main, Aug 24 2023, 15:18:16) [Clang 14.0.3 (clang-1403.0.22.14.1)]', 'platform': 'macOS-14.3.1-x86_64-i386-64bit', 'event': 'build_vocab'}\n",
      "2024-03-27 16:32:24,838 : INFO : Word2Vec lifecycle event {'msg': 'training model with 3 workers on 5800 vocabulary and 100 features, using sg=0 hs=0 sample=0.001 negative=5 window=5 shrink_windows=True', 'datetime': '2024-03-27T16:32:24.838647', 'gensim': '4.3.2', 'python': '3.11.5 (main, Aug 24 2023, 15:18:16) [Clang 14.0.3 (clang-1403.0.22.14.1)]', 'platform': 'macOS-14.3.1-x86_64-i386-64bit', 'event': 'train'}\n",
      "2024-03-27 16:32:24,967 : INFO : EPOCH 0: training on 365268 raw words (296097 effective words) took 0.1s, 2372426 effective words/s\n",
      "2024-03-27 16:32:25,141 : INFO : EPOCH 1: training on 365268 raw words (296114 effective words) took 0.2s, 1751931 effective words/s\n",
      "2024-03-27 16:32:25,269 : INFO : EPOCH 2: training on 365268 raw words (295961 effective words) took 0.1s, 2376715 effective words/s\n",
      "2024-03-27 16:32:25,395 : INFO : EPOCH 3: training on 365268 raw words (295956 effective words) took 0.1s, 2433749 effective words/s\n",
      "2024-03-27 16:32:25,519 : INFO : EPOCH 4: training on 365268 raw words (296117 effective words) took 0.1s, 2437607 effective words/s\n",
      "2024-03-27 16:32:25,520 : INFO : Word2Vec lifecycle event {'msg': 'training on 1826340 raw words (1480245 effective words) took 0.7s, 2173353 effective words/s', 'datetime': '2024-03-27T16:32:25.520233', 'gensim': '4.3.2', 'python': '3.11.5 (main, Aug 24 2023, 15:18:16) [Clang 14.0.3 (clang-1403.0.22.14.1)]', 'platform': 'macOS-14.3.1-x86_64-i386-64bit', 'event': 'train'}\n",
      "2024-03-27 16:32:25,520 : INFO : Word2Vec lifecycle event {'params': 'Word2Vec<vocab=5800, vector_size=100, alpha=0.025>', 'datetime': '2024-03-27T16:32:25.520528', 'gensim': '4.3.2', 'python': '3.11.5 (main, Aug 24 2023, 15:18:16) [Clang 14.0.3 (clang-1403.0.22.14.1)]', 'platform': 'macOS-14.3.1-x86_64-i386-64bit', 'event': 'created'}\n"
     ]
    },
    {
     "name": "stdout",
     "output_type": "stream",
     "text": [
      "在日コリアン\n",
      "日本\n",
      "通名\n",
      "日本人\n",
      "ヘイトスピチ\n",
      "在日\n",
      "てる\n",
      "韓国\n",
      "廃止\n",
      "万人\n",
      "デマ\n",
      "起こす\n",
      "しよ\n",
      "悪用\n",
      "詐欺事件\n",
      "差別\n",
      "韓国人\n",
      "強制送還\n",
      "ネット\n",
      "弁護士\n"
     ]
    }
   ],
   "source": [
    "tokens_z15 = load_from_csv(\"saved_tokens/save_tokens_zainichi_2015.csv\")\n",
    "model = run_word2vec(tokens_z15)\n",
    "common = model.wv.index_to_key[:20]\n",
    "for word in common:\n",
    "    print(word)"
   ]
  },
  {
   "cell_type": "code",
   "execution_count": 76,
   "metadata": {},
   "outputs": [
    {
     "name": "stderr",
     "output_type": "stream",
     "text": [
      "2024-03-27 16:32:27,269 : INFO : collecting all words and their counts\n",
      "2024-03-27 16:32:27,270 : INFO : PROGRESS: at sentence #0, processed 0 words, keeping 0 word types\n",
      "2024-03-27 16:32:27,298 : INFO : PROGRESS: at sentence #10000, processed 165061 words, keeping 18537 word types\n",
      "2024-03-27 16:32:27,324 : INFO : PROGRESS: at sentence #20000, processed 329767 words, keeping 27445 word types\n",
      "2024-03-27 16:32:27,350 : INFO : PROGRESS: at sentence #30000, processed 501516 words, keeping 33722 word types\n",
      "2024-03-27 16:32:27,356 : INFO : collected 34645 word types from a corpus of 532809 raw words and 31901 sentences\n",
      "2024-03-27 16:32:27,356 : INFO : Creating a fresh vocabulary\n",
      "2024-03-27 16:32:27,381 : INFO : Word2Vec lifecycle event {'msg': 'effective_min_count=5 retains 10037 unique words (28.97% of original 34645, drops 24608)', 'datetime': '2024-03-27T16:32:27.381814', 'gensim': '4.3.2', 'python': '3.11.5 (main, Aug 24 2023, 15:18:16) [Clang 14.0.3 (clang-1403.0.22.14.1)]', 'platform': 'macOS-14.3.1-x86_64-i386-64bit', 'event': 'prepare_vocab'}\n",
      "2024-03-27 16:32:27,382 : INFO : Word2Vec lifecycle event {'msg': 'effective_min_count=5 leaves 492578 word corpus (92.45% of original 532809, drops 40231)', 'datetime': '2024-03-27T16:32:27.382939', 'gensim': '4.3.2', 'python': '3.11.5 (main, Aug 24 2023, 15:18:16) [Clang 14.0.3 (clang-1403.0.22.14.1)]', 'platform': 'macOS-14.3.1-x86_64-i386-64bit', 'event': 'prepare_vocab'}\n",
      "2024-03-27 16:32:27,421 : INFO : deleting the raw counts dictionary of 34645 items\n",
      "2024-03-27 16:32:27,422 : INFO : sample=0.001 downsamples 19 most-common words\n",
      "2024-03-27 16:32:27,423 : INFO : Word2Vec lifecycle event {'msg': 'downsampling leaves estimated 442426.04227290826 word corpus (89.8%% of prior 492578)', 'datetime': '2024-03-27T16:32:27.423008', 'gensim': '4.3.2', 'python': '3.11.5 (main, Aug 24 2023, 15:18:16) [Clang 14.0.3 (clang-1403.0.22.14.1)]', 'platform': 'macOS-14.3.1-x86_64-i386-64bit', 'event': 'prepare_vocab'}\n",
      "2024-03-27 16:32:27,480 : INFO : estimated required memory for 10037 words and 100 dimensions: 13048100 bytes\n",
      "2024-03-27 16:32:27,480 : INFO : resetting layer weights\n",
      "2024-03-27 16:32:27,503 : INFO : Word2Vec lifecycle event {'update': False, 'trim_rule': 'None', 'datetime': '2024-03-27T16:32:27.503480', 'gensim': '4.3.2', 'python': '3.11.5 (main, Aug 24 2023, 15:18:16) [Clang 14.0.3 (clang-1403.0.22.14.1)]', 'platform': 'macOS-14.3.1-x86_64-i386-64bit', 'event': 'build_vocab'}\n",
      "2024-03-27 16:32:27,503 : INFO : Word2Vec lifecycle event {'msg': 'training model with 3 workers on 10037 vocabulary and 100 features, using sg=0 hs=0 sample=0.001 negative=5 window=5 shrink_windows=True', 'datetime': '2024-03-27T16:32:27.503989', 'gensim': '4.3.2', 'python': '3.11.5 (main, Aug 24 2023, 15:18:16) [Clang 14.0.3 (clang-1403.0.22.14.1)]', 'platform': 'macOS-14.3.1-x86_64-i386-64bit', 'event': 'train'}\n",
      "2024-03-27 16:32:27,718 : INFO : EPOCH 0: training on 532809 raw words (442263 effective words) took 0.2s, 2095125 effective words/s\n",
      "2024-03-27 16:32:27,912 : INFO : EPOCH 1: training on 532809 raw words (442428 effective words) took 0.2s, 2314859 effective words/s\n",
      "2024-03-27 16:32:28,103 : INFO : EPOCH 2: training on 532809 raw words (442252 effective words) took 0.2s, 2348728 effective words/s\n",
      "2024-03-27 16:32:28,296 : INFO : EPOCH 3: training on 532809 raw words (442474 effective words) took 0.2s, 2341822 effective words/s\n",
      "2024-03-27 16:32:28,488 : INFO : EPOCH 4: training on 532809 raw words (442384 effective words) took 0.2s, 2340536 effective words/s\n",
      "2024-03-27 16:32:28,489 : INFO : Word2Vec lifecycle event {'msg': 'training on 2664045 raw words (2211801 effective words) took 1.0s, 2245473 effective words/s', 'datetime': '2024-03-27T16:32:28.489240', 'gensim': '4.3.2', 'python': '3.11.5 (main, Aug 24 2023, 15:18:16) [Clang 14.0.3 (clang-1403.0.22.14.1)]', 'platform': 'macOS-14.3.1-x86_64-i386-64bit', 'event': 'train'}\n",
      "2024-03-27 16:32:28,489 : INFO : Word2Vec lifecycle event {'params': 'Word2Vec<vocab=10037, vector_size=100, alpha=0.025>', 'datetime': '2024-03-27T16:32:28.489523', 'gensim': '4.3.2', 'python': '3.11.5 (main, Aug 24 2023, 15:18:16) [Clang 14.0.3 (clang-1403.0.22.14.1)]', 'platform': 'macOS-14.3.1-x86_64-i386-64bit', 'event': 'created'}\n"
     ]
    },
    {
     "name": "stdout",
     "output_type": "stream",
     "text": [
      "在日コリアン\n",
      "差別\n",
      "日本\n",
      "日本人\n",
      "てる\n",
      "韓国\n",
      "在日\n",
      "ください\n",
      "思う\n",
      "現代ビジネス\n",
      "問題\n",
      "事件\n",
      "世\n",
      "読み\n",
      "ぜひ\n",
      "寄稿\n",
      "デマ\n",
      "言っ\n",
      "ヘイトスピチ\n",
      "思っ\n"
     ]
    }
   ],
   "source": [
    "tokens_z22 = load_from_csv(\"saved_tokens/save_tokens_zainichi_2022.csv\")\n",
    "model = run_word2vec(tokens_z22)\n",
    "common = model.wv.index_to_key[:20]\n",
    "for word in common:\n",
    "    print(word)"
   ]
  },
  {
   "cell_type": "code",
   "execution_count": 77,
   "metadata": {},
   "outputs": [
    {
     "name": "stderr",
     "output_type": "stream",
     "text": [
      "2024-03-27 16:34:22,868 : INFO : collecting all words and their counts\n",
      "2024-03-27 16:34:22,871 : INFO : PROGRESS: at sentence #0, processed 0 words, keeping 0 word types\n",
      "2024-03-27 16:34:22,901 : INFO : PROGRESS: at sentence #10000, processed 151785 words, keeping 21877 word types\n",
      "2024-03-27 16:34:22,936 : INFO : PROGRESS: at sentence #20000, processed 308779 words, keeping 31754 word types\n",
      "2024-03-27 16:34:22,963 : INFO : PROGRESS: at sentence #30000, processed 467357 words, keeping 38819 word types\n",
      "2024-03-27 16:34:23,002 : INFO : PROGRESS: at sentence #40000, processed 621528 words, keeping 44789 word types\n",
      "2024-03-27 16:34:23,038 : INFO : PROGRESS: at sentence #50000, processed 777134 words, keeping 50058 word types\n",
      "2024-03-27 16:34:23,069 : INFO : PROGRESS: at sentence #60000, processed 937547 words, keeping 54965 word types\n",
      "2024-03-27 16:34:23,102 : INFO : PROGRESS: at sentence #70000, processed 1096698 words, keeping 59376 word types\n",
      "2024-03-27 16:34:23,151 : INFO : PROGRESS: at sentence #80000, processed 1261121 words, keeping 64066 word types\n",
      "2024-03-27 16:34:23,187 : INFO : PROGRESS: at sentence #90000, processed 1418538 words, keeping 68150 word types\n",
      "2024-03-27 16:34:23,220 : INFO : PROGRESS: at sentence #100000, processed 1576767 words, keeping 71377 word types\n",
      "2024-03-27 16:34:23,250 : INFO : PROGRESS: at sentence #110000, processed 1731131 words, keeping 74704 word types\n",
      "2024-03-27 16:34:23,295 : INFO : PROGRESS: at sentence #120000, processed 1887286 words, keeping 77103 word types\n",
      "2024-03-27 16:34:23,329 : INFO : PROGRESS: at sentence #130000, processed 2046498 words, keeping 80846 word types\n",
      "2024-03-27 16:34:23,361 : INFO : PROGRESS: at sentence #140000, processed 2208219 words, keeping 85193 word types\n",
      "2024-03-27 16:34:23,397 : INFO : PROGRESS: at sentence #150000, processed 2372393 words, keeping 89503 word types\n",
      "2024-03-27 16:34:23,444 : INFO : PROGRESS: at sentence #160000, processed 2527133 words, keeping 92719 word types\n",
      "2024-03-27 16:34:23,477 : INFO : PROGRESS: at sentence #170000, processed 2683954 words, keeping 95757 word types\n",
      "2024-03-27 16:34:23,504 : INFO : collected 97986 word types from a corpus of 2807072 raw words and 177864 sentences\n",
      "2024-03-27 16:34:23,505 : INFO : Creating a fresh vocabulary\n",
      "2024-03-27 16:34:23,583 : INFO : Word2Vec lifecycle event {'msg': 'effective_min_count=5 retains 30689 unique words (31.32% of original 97986, drops 67297)', 'datetime': '2024-03-27T16:34:23.582928', 'gensim': '4.3.2', 'python': '3.11.5 (main, Aug 24 2023, 15:18:16) [Clang 14.0.3 (clang-1403.0.22.14.1)]', 'platform': 'macOS-14.3.1-x86_64-i386-64bit', 'event': 'prepare_vocab'}\n",
      "2024-03-27 16:34:23,583 : INFO : Word2Vec lifecycle event {'msg': 'effective_min_count=5 leaves 2699402 word corpus (96.16% of original 2807072, drops 107670)', 'datetime': '2024-03-27T16:34:23.583546', 'gensim': '4.3.2', 'python': '3.11.5 (main, Aug 24 2023, 15:18:16) [Clang 14.0.3 (clang-1403.0.22.14.1)]', 'platform': 'macOS-14.3.1-x86_64-i386-64bit', 'event': 'prepare_vocab'}\n",
      "2024-03-27 16:34:23,691 : INFO : deleting the raw counts dictionary of 97986 items\n",
      "2024-03-27 16:34:23,693 : INFO : sample=0.001 downsamples 17 most-common words\n",
      "2024-03-27 16:34:23,694 : INFO : Word2Vec lifecycle event {'msg': 'downsampling leaves estimated 2484113.118714474 word corpus (92.0%% of prior 2699402)', 'datetime': '2024-03-27T16:34:23.694336', 'gensim': '4.3.2', 'python': '3.11.5 (main, Aug 24 2023, 15:18:16) [Clang 14.0.3 (clang-1403.0.22.14.1)]', 'platform': 'macOS-14.3.1-x86_64-i386-64bit', 'event': 'prepare_vocab'}\n",
      "2024-03-27 16:34:23,881 : INFO : estimated required memory for 30689 words and 100 dimensions: 39895700 bytes\n",
      "2024-03-27 16:34:23,882 : INFO : resetting layer weights\n",
      "2024-03-27 16:34:24,002 : INFO : Word2Vec lifecycle event {'update': False, 'trim_rule': 'None', 'datetime': '2024-03-27T16:34:24.002513', 'gensim': '4.3.2', 'python': '3.11.5 (main, Aug 24 2023, 15:18:16) [Clang 14.0.3 (clang-1403.0.22.14.1)]', 'platform': 'macOS-14.3.1-x86_64-i386-64bit', 'event': 'build_vocab'}\n",
      "2024-03-27 16:34:24,003 : INFO : Word2Vec lifecycle event {'msg': 'training model with 3 workers on 30689 vocabulary and 100 features, using sg=0 hs=0 sample=0.001 negative=5 window=5 shrink_windows=True', 'datetime': '2024-03-27T16:34:24.003270', 'gensim': '4.3.2', 'python': '3.11.5 (main, Aug 24 2023, 15:18:16) [Clang 14.0.3 (clang-1403.0.22.14.1)]', 'platform': 'macOS-14.3.1-x86_64-i386-64bit', 'event': 'train'}\n",
      "2024-03-27 16:34:25,015 : INFO : EPOCH 0 - PROGRESS: at 75.27% examples, 1853224 words/s, in_qsize 5, out_qsize 0\n",
      "2024-03-27 16:34:25,343 : INFO : EPOCH 0: training on 2807072 raw words (2483925 effective words) took 1.3s, 1861287 effective words/s\n",
      "2024-03-27 16:34:26,352 : INFO : EPOCH 1 - PROGRESS: at 76.32% examples, 1881812 words/s, in_qsize 5, out_qsize 0\n",
      "2024-03-27 16:34:26,676 : INFO : EPOCH 1: training on 2807072 raw words (2483811 effective words) took 1.3s, 1867385 effective words/s\n",
      "2024-03-27 16:34:27,682 : INFO : EPOCH 2 - PROGRESS: at 76.67% examples, 1896436 words/s, in_qsize 5, out_qsize 0\n",
      "2024-03-27 16:34:27,986 : INFO : EPOCH 2: training on 2807072 raw words (2483857 effective words) took 1.3s, 1900172 effective words/s\n",
      "2024-03-27 16:34:28,991 : INFO : EPOCH 3 - PROGRESS: at 77.34% examples, 1918946 words/s, in_qsize 5, out_qsize 0\n",
      "2024-03-27 16:34:29,281 : INFO : EPOCH 3: training on 2807072 raw words (2484354 effective words) took 1.3s, 1925326 effective words/s\n",
      "2024-03-27 16:34:30,288 : INFO : EPOCH 4 - PROGRESS: at 79.40% examples, 1967864 words/s, in_qsize 5, out_qsize 0\n",
      "2024-03-27 16:34:30,602 : INFO : EPOCH 4: training on 2807072 raw words (2483995 effective words) took 1.3s, 1887705 effective words/s\n",
      "2024-03-27 16:34:30,603 : INFO : Word2Vec lifecycle event {'msg': 'training on 14035360 raw words (12419942 effective words) took 6.6s, 1881859 effective words/s', 'datetime': '2024-03-27T16:34:30.603311', 'gensim': '4.3.2', 'python': '3.11.5 (main, Aug 24 2023, 15:18:16) [Clang 14.0.3 (clang-1403.0.22.14.1)]', 'platform': 'macOS-14.3.1-x86_64-i386-64bit', 'event': 'train'}\n",
      "2024-03-27 16:34:30,603 : INFO : Word2Vec lifecycle event {'params': 'Word2Vec<vocab=30689, vector_size=100, alpha=0.025>', 'datetime': '2024-03-27T16:34:30.603621', 'gensim': '4.3.2', 'python': '3.11.5 (main, Aug 24 2023, 15:18:16) [Clang 14.0.3 (clang-1403.0.22.14.1)]', 'platform': 'macOS-14.3.1-x86_64-i386-64bit', 'event': 'created'}\n"
     ]
    },
    {
     "name": "stdout",
     "output_type": "stream",
     "text": [
      "アイヌ\n",
      "北海道\n",
      "アイヌ語\n",
      "てる\n",
      "アイヌ民族\n",
      "日本\n",
      "ロシア\n",
      "アイヌ文化\n",
      "先住民族\n",
      "ゴルデンカムイ\n",
      "文化\n",
      "差別\n",
      "歴史\n",
      "意味\n",
      "思う\n",
      "日本人\n",
      "民族\n",
      "思っ\n",
      "氏\n",
      "いい\n"
     ]
    }
   ],
   "source": [
    "tokens = load_from_csv(\"saved_tokens/save_tokens_ainu_2022.csv\")\n",
    "model = run_word2vec(tokens)\n",
    "common = model.wv.index_to_key[:20]\n",
    "for word in common:\n",
    "    print(word)"
   ]
  },
  {
   "cell_type": "code",
   "execution_count": null,
   "metadata": {},
   "outputs": [],
   "source": []
  }
 ],
 "metadata": {
  "kernelspec": {
   "display_name": "thesis",
   "language": "python",
   "name": "python3"
  },
  "language_info": {
   "codemirror_mode": {
    "name": "ipython",
    "version": 3
   },
   "file_extension": ".py",
   "mimetype": "text/x-python",
   "name": "python",
   "nbconvert_exporter": "python",
   "pygments_lexer": "ipython3",
   "version": "3.11.5"
  }
 },
 "nbformat": 4,
 "nbformat_minor": 2
}
