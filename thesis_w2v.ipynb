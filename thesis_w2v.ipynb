{
 "cells": [
  {
   "cell_type": "markdown",
   "metadata": {},
   "source": [
    "#### Setup"
   ]
  },
  {
   "cell_type": "code",
   "execution_count": 9,
   "metadata": {},
   "outputs": [
    {
     "name": "stdout",
     "output_type": "stream",
     "text": [
      "importing Jupyter notebook from thesis_preprocess.ipynb\n"
     ]
    }
   ],
   "source": [
    "# tokenization\n",
    "import json\n",
    "import MeCab\n",
    "import import_ipynb\n",
    "import thesis_preprocess\n",
    "from stopwords_ja import stop_words\n",
    "from stopwords_slothlib import stop_words_2\n",
    "\n",
    "# word2vec\n",
    "import gensim, logging\n",
    "\n",
    "# plotting\n",
    "from sklearn.manifold import TSNE               \n",
    "import numpy as np                \n",
    "import matplotlib.pyplot as plt\n",
    "import matplotlib.font_manager as fm"
   ]
  },
  {
   "cell_type": "markdown",
   "metadata": {},
   "source": [
    "#### Clean and Tokenize Tweets"
   ]
  },
  {
   "cell_type": "code",
   "execution_count": 6,
   "metadata": {},
   "outputs": [],
   "source": [
    "# tokenize cleaned tweets into words\n",
    "def tokenize(text):\n",
    "    mt = MeCab.Tagger(\"-d /usr/local/lib/mecab/dic/mecab-ipadic-neologd\")\n",
    "    parsed = mt.parseToNode(text)\n",
    "    components = []\n",
    "    \n",
    "    while parsed:\n",
    "        word = parsed.surface\n",
    "        pos = parsed.feature.split(\",\")[0]\n",
    "\n",
    "        # remove beg/end tokens, particles, fillers, auxiliary bound prefixes/endings\n",
    "        exclude_pos = ['BOS/EOS', '助詞', 'フィラー', '接頭詞', '助動詞']\n",
    "        if pos not in exclude_pos: components.append(word)\n",
    "        parsed = parsed.next\n",
    "    \n",
    "    # remove stopwords\n",
    "    components = [token for token in components if ((not token in stop_words) and (not token in stop_words_2))]\n",
    "    \n",
    "    return components"
   ]
  },
  {
   "cell_type": "code",
   "execution_count": 2,
   "metadata": {},
   "outputs": [],
   "source": [
    "# run preprocessing and tokenization for all tweets from given year dataset\n",
    "def preprocess_tokenize_all(year):\n",
    "    # store results and exception tweets\n",
    "    tokens = []\n",
    "    retweets = []\n",
    "    not_parsed = []\n",
    "\n",
    "    # iterate through tweets, preprocess and tokenize\n",
    "    with open(year + '-all.txt', 'r') as file:\n",
    "        for line in file:\n",
    "            tweet = json.loads(line)\n",
    "            if line == None or tweet == None:\n",
    "                not_parsed.append((line, tweet))\n",
    "                print(\"Parsing error: \", line, tweet)\n",
    "            elif tweet['retweetedTweet']:\n",
    "                retweets.append(tweet)\n",
    "                print(\"Retweet: \", tweet['id'])\n",
    "            # filter out 2024 sponsored(?) tweets\n",
    "            elif int(tweet['date'].split(\"-\")[0]) < int(year) + 1: \n",
    "                tweet_text = tweet['rawContent'] # note: need other prop for over 140 char?\n",
    "                processed = preprocess(tweet_text)            \n",
    "                components = tokenize(processed)\n",
    "                tokens.append(components)\n",
    "\n",
    "    file.close()\n",
    "    return tokens, retweets, not_parsed"
   ]
  },
  {
   "cell_type": "code",
   "execution_count": 9,
   "metadata": {},
   "outputs": [],
   "source": [
    "# # run for 2015\n",
    "# tokens_2015, retweets_2015, not_parsed_2015 = preprocess_tokenize_all(\"2015\")\n",
    "\n",
    "# # did we get retweets or errors?\n",
    "# print(len(retweets_2015))\n",
    "# print(len(not_parsed_2015))"
   ]
  },
  {
   "cell_type": "code",
   "execution_count": 8,
   "metadata": {},
   "outputs": [
    {
     "name": "stdout",
     "output_type": "stream",
     "text": [
      "0\n",
      "0\n"
     ]
    }
   ],
   "source": [
    "# run for 2022\n",
    "tokens_2022, retweets_2022, not_parsed_2022 = preprocess_tokenize_all(\"2022\")\n",
    "\n",
    "# did we get retweets or errors?\n",
    "print(len(retweets_2022))\n",
    "print(len(not_parsed_2022))"
   ]
  },
  {
   "cell_type": "markdown",
   "metadata": {},
   "source": [
    "#### Word2Vec"
   ]
  },
  {
   "cell_type": "code",
   "execution_count": 7,
   "metadata": {},
   "outputs": [],
   "source": [
    "# train and save word2vec model for given year\n",
    "def run_word2vec(year, tokens):\n",
    "    logging.basicConfig(format='%(asctime)s : %(levelname)s : %(message)s', level=logging.INFO)\n",
    "    model = gensim.models.Word2Vec(tokens, min_count=10)\n",
    "    model.save(\"save_w2v_model_\" + year)"
   ]
  },
  {
   "cell_type": "code",
   "execution_count": 8,
   "metadata": {},
   "outputs": [
    {
     "name": "stderr",
     "output_type": "stream",
     "text": [
      "2023-12-27 14:18:40,328 : INFO : collecting all words and their counts\n",
      "2023-12-27 14:18:40,334 : INFO : PROGRESS: at sentence #0, processed 0 words, keeping 0 word types\n",
      "2023-12-27 14:18:40,375 : INFO : PROGRESS: at sentence #10000, processed 80576 words, keeping 20628 word types\n",
      "2023-12-27 14:18:40,398 : INFO : PROGRESS: at sentence #20000, processed 163751 words, keeping 28771 word types\n",
      "2023-12-27 14:18:40,419 : INFO : PROGRESS: at sentence #30000, processed 240143 words, keeping 37917 word types\n",
      "2023-12-27 14:18:40,459 : INFO : PROGRESS: at sentence #40000, processed 320405 words, keeping 45289 word types\n",
      "2023-12-27 14:18:40,480 : INFO : PROGRESS: at sentence #50000, processed 399765 words, keeping 51821 word types\n",
      "2023-12-27 14:18:40,509 : INFO : PROGRESS: at sentence #60000, processed 476156 words, keeping 53898 word types\n",
      "2023-12-27 14:18:40,534 : INFO : PROGRESS: at sentence #70000, processed 553893 words, keeping 54912 word types\n",
      "2023-12-27 14:18:40,564 : INFO : PROGRESS: at sentence #80000, processed 635395 words, keeping 55538 word types\n",
      "2023-12-27 14:18:40,594 : INFO : PROGRESS: at sentence #90000, processed 733708 words, keeping 62687 word types\n",
      "2023-12-27 14:18:40,616 : INFO : PROGRESS: at sentence #100000, processed 811373 words, keeping 67602 word types\n",
      "2023-12-27 14:18:40,638 : INFO : PROGRESS: at sentence #110000, processed 888886 words, keeping 70064 word types\n",
      "2023-12-27 14:18:40,674 : INFO : PROGRESS: at sentence #120000, processed 966848 words, keeping 74066 word types\n",
      "2023-12-27 14:18:40,694 : INFO : PROGRESS: at sentence #130000, processed 1043877 words, keeping 77744 word types\n",
      "2023-12-27 14:18:40,738 : INFO : PROGRESS: at sentence #140000, processed 1120536 words, keeping 79336 word types\n",
      "2023-12-27 14:18:40,759 : INFO : PROGRESS: at sentence #150000, processed 1194305 words, keeping 82992 word types\n",
      "2023-12-27 14:18:40,779 : INFO : PROGRESS: at sentence #160000, processed 1265436 words, keeping 86798 word types\n",
      "2023-12-27 14:18:40,808 : INFO : PROGRESS: at sentence #170000, processed 1338757 words, keeping 90723 word types\n",
      "2023-12-27 14:18:40,874 : INFO : PROGRESS: at sentence #180000, processed 1416767 words, keeping 94927 word types\n",
      "2023-12-27 14:18:40,898 : INFO : PROGRESS: at sentence #190000, processed 1496423 words, keeping 99010 word types\n",
      "2023-12-27 14:18:40,919 : INFO : PROGRESS: at sentence #200000, processed 1575237 words, keeping 102857 word types\n",
      "2023-12-27 14:18:40,947 : INFO : PROGRESS: at sentence #210000, processed 1656898 words, keeping 106850 word types\n",
      "2023-12-27 14:18:40,986 : INFO : PROGRESS: at sentence #220000, processed 1740146 words, keeping 110801 word types\n",
      "2023-12-27 14:18:41,018 : INFO : PROGRESS: at sentence #230000, processed 1821306 words, keeping 114481 word types\n",
      "2023-12-27 14:18:41,043 : INFO : PROGRESS: at sentence #240000, processed 1904631 words, keeping 118172 word types\n",
      "2023-12-27 14:18:41,075 : INFO : PROGRESS: at sentence #250000, processed 1984653 words, keeping 121631 word types\n",
      "2023-12-27 14:18:41,105 : INFO : PROGRESS: at sentence #260000, processed 2065523 words, keeping 124995 word types\n",
      "2023-12-27 14:18:41,128 : INFO : PROGRESS: at sentence #270000, processed 2147299 words, keeping 128222 word types\n",
      "2023-12-27 14:18:41,164 : INFO : PROGRESS: at sentence #280000, processed 2228925 words, keeping 131439 word types\n",
      "2023-12-27 14:18:41,199 : INFO : PROGRESS: at sentence #290000, processed 2311443 words, keeping 134754 word types\n",
      "2023-12-27 14:18:41,225 : INFO : PROGRESS: at sentence #300000, processed 2394710 words, keeping 138039 word types\n",
      "2023-12-27 14:18:41,252 : INFO : PROGRESS: at sentence #310000, processed 2477707 words, keeping 141240 word types\n",
      "2023-12-27 14:18:41,287 : INFO : PROGRESS: at sentence #320000, processed 2556758 words, keeping 144281 word types\n",
      "2023-12-27 14:18:41,315 : INFO : PROGRESS: at sentence #330000, processed 2638127 words, keeping 147388 word types\n",
      "2023-12-27 14:18:41,341 : INFO : PROGRESS: at sentence #340000, processed 2728191 words, keeping 151796 word types\n",
      "2023-12-27 14:18:41,363 : INFO : PROGRESS: at sentence #350000, processed 2801701 words, keeping 154586 word types\n",
      "2023-12-27 14:18:41,393 : INFO : PROGRESS: at sentence #360000, processed 2881357 words, keeping 157778 word types\n",
      "2023-12-27 14:18:41,417 : INFO : PROGRESS: at sentence #370000, processed 2955310 words, keeping 160441 word types\n",
      "2023-12-27 14:18:41,440 : INFO : PROGRESS: at sentence #380000, processed 3032362 words, keeping 163131 word types\n",
      "2023-12-27 14:18:41,465 : INFO : PROGRESS: at sentence #390000, processed 3113323 words, keeping 165871 word types\n",
      "2023-12-27 14:18:41,488 : INFO : PROGRESS: at sentence #400000, processed 3194257 words, keeping 168472 word types\n",
      "2023-12-27 14:18:41,520 : INFO : PROGRESS: at sentence #410000, processed 3273034 words, keeping 171076 word types\n",
      "2023-12-27 14:18:41,558 : INFO : PROGRESS: at sentence #420000, processed 3354981 words, keeping 173846 word types\n",
      "2023-12-27 14:18:41,603 : INFO : PROGRESS: at sentence #430000, processed 3434240 words, keeping 176424 word types\n",
      "2023-12-27 14:18:41,636 : INFO : PROGRESS: at sentence #440000, processed 3514238 words, keeping 179002 word types\n",
      "2023-12-27 14:18:41,667 : INFO : PROGRESS: at sentence #450000, processed 3595436 words, keeping 181478 word types\n",
      "2023-12-27 14:18:41,718 : INFO : PROGRESS: at sentence #460000, processed 3676260 words, keeping 183900 word types\n",
      "2023-12-27 14:18:41,750 : INFO : PROGRESS: at sentence #470000, processed 3755812 words, keeping 186254 word types\n",
      "2023-12-27 14:18:41,783 : INFO : PROGRESS: at sentence #480000, processed 3839519 words, keeping 189097 word types\n",
      "2023-12-27 14:18:41,807 : INFO : PROGRESS: at sentence #490000, processed 3915227 words, keeping 191533 word types\n",
      "2023-12-27 14:18:41,863 : INFO : PROGRESS: at sentence #500000, processed 3991811 words, keeping 193809 word types\n",
      "2023-12-27 14:18:41,903 : INFO : PROGRESS: at sentence #510000, processed 4073037 words, keeping 196144 word types\n",
      "2023-12-27 14:18:41,926 : INFO : PROGRESS: at sentence #520000, processed 4147072 words, keeping 198214 word types\n",
      "2023-12-27 14:18:41,960 : INFO : PROGRESS: at sentence #530000, processed 4227116 words, keeping 200505 word types\n",
      "2023-12-27 14:18:41,982 : INFO : PROGRESS: at sentence #540000, processed 4302872 words, keeping 202720 word types\n",
      "2023-12-27 14:18:42,004 : INFO : PROGRESS: at sentence #550000, processed 4382387 words, keeping 205167 word types\n",
      "2023-12-27 14:18:42,028 : INFO : PROGRESS: at sentence #560000, processed 4463197 words, keeping 207658 word types\n",
      "2023-12-27 14:18:42,057 : INFO : PROGRESS: at sentence #570000, processed 4544712 words, keeping 210097 word types\n",
      "2023-12-27 14:18:42,064 : INFO : collected 210377 word types from a corpus of 4555591 raw words and 571403 sentences\n",
      "2023-12-27 14:18:42,065 : INFO : Creating a fresh vocabulary\n",
      "2023-12-27 14:18:42,172 : INFO : Word2Vec lifecycle event {'msg': 'effective_min_count=10 retains 33757 unique words (16.05% of original 210377, drops 176620)', 'datetime': '2023-12-27T14:18:42.172105', 'gensim': '4.3.2', 'python': '3.11.5 (main, Aug 24 2023, 15:18:16) [Clang 14.0.3 (clang-1403.0.22.14.1)]', 'platform': 'macOS-13.5-x86_64-i386-64bit', 'event': 'prepare_vocab'}\n",
      "2023-12-27 14:18:42,172 : INFO : Word2Vec lifecycle event {'msg': 'effective_min_count=10 leaves 4184082 word corpus (91.84% of original 4555591, drops 371509)', 'datetime': '2023-12-27T14:18:42.172783', 'gensim': '4.3.2', 'python': '3.11.5 (main, Aug 24 2023, 15:18:16) [Clang 14.0.3 (clang-1403.0.22.14.1)]', 'platform': 'macOS-13.5-x86_64-i386-64bit', 'event': 'prepare_vocab'}\n",
      "2023-12-27 14:18:42,293 : INFO : deleting the raw counts dictionary of 210377 items\n",
      "2023-12-27 14:18:42,303 : INFO : sample=0.001 downsamples 14 most-common words\n",
      "2023-12-27 14:18:42,304 : INFO : Word2Vec lifecycle event {'msg': 'downsampling leaves estimated 4063456.221423475 word corpus (97.1%% of prior 4184082)', 'datetime': '2023-12-27T14:18:42.304931', 'gensim': '4.3.2', 'python': '3.11.5 (main, Aug 24 2023, 15:18:16) [Clang 14.0.3 (clang-1403.0.22.14.1)]', 'platform': 'macOS-13.5-x86_64-i386-64bit', 'event': 'prepare_vocab'}\n",
      "2023-12-27 14:18:42,514 : INFO : estimated required memory for 33757 words and 100 dimensions: 43884100 bytes\n",
      "2023-12-27 14:18:42,515 : INFO : resetting layer weights\n",
      "2023-12-27 14:18:42,535 : INFO : Word2Vec lifecycle event {'update': False, 'trim_rule': 'None', 'datetime': '2023-12-27T14:18:42.535500', 'gensim': '4.3.2', 'python': '3.11.5 (main, Aug 24 2023, 15:18:16) [Clang 14.0.3 (clang-1403.0.22.14.1)]', 'platform': 'macOS-13.5-x86_64-i386-64bit', 'event': 'build_vocab'}\n",
      "2023-12-27 14:18:42,536 : INFO : Word2Vec lifecycle event {'msg': 'training model with 3 workers on 33757 vocabulary and 100 features, using sg=0 hs=0 sample=0.001 negative=5 window=5 shrink_windows=True', 'datetime': '2023-12-27T14:18:42.536058', 'gensim': '4.3.2', 'python': '3.11.5 (main, Aug 24 2023, 15:18:16) [Clang 14.0.3 (clang-1403.0.22.14.1)]', 'platform': 'macOS-13.5-x86_64-i386-64bit', 'event': 'train'}\n",
      "2023-12-27 14:18:43,569 : INFO : EPOCH 0 - PROGRESS: at 39.56% examples, 1576926 words/s, in_qsize 6, out_qsize 1\n",
      "2023-12-27 14:18:44,576 : INFO : EPOCH 0 - PROGRESS: at 74.42% examples, 1501235 words/s, in_qsize 6, out_qsize 1\n",
      "2023-12-27 14:18:45,340 : INFO : EPOCH 0: training on 4555591 raw words (4063863 effective words) took 2.8s, 1460202 effective words/s\n",
      "2023-12-27 14:18:46,360 : INFO : EPOCH 1 - PROGRESS: at 33.31% examples, 1323733 words/s, in_qsize 5, out_qsize 0\n",
      "2023-12-27 14:18:47,362 : INFO : EPOCH 1 - PROGRESS: at 65.27% examples, 1319615 words/s, in_qsize 5, out_qsize 0\n",
      "2023-12-27 14:18:48,256 : INFO : EPOCH 1: training on 4555591 raw words (4063371 effective words) took 2.9s, 1398179 effective words/s\n",
      "2023-12-27 14:18:49,273 : INFO : EPOCH 2 - PROGRESS: at 38.90% examples, 1554773 words/s, in_qsize 5, out_qsize 0\n",
      "2023-12-27 14:18:50,277 : INFO : EPOCH 2 - PROGRESS: at 70.29% examples, 1421602 words/s, in_qsize 5, out_qsize 0\n",
      "2023-12-27 14:18:51,079 : INFO : EPOCH 2: training on 4555591 raw words (4063491 effective words) took 2.8s, 1444109 effective words/s\n",
      "2023-12-27 14:18:52,088 : INFO : EPOCH 3 - PROGRESS: at 40.82% examples, 1645681 words/s, in_qsize 5, out_qsize 0\n",
      "2023-12-27 14:18:53,095 : INFO : EPOCH 3 - PROGRESS: at 81.39% examples, 1651766 words/s, in_qsize 6, out_qsize 0\n",
      "2023-12-27 14:18:53,514 : INFO : EPOCH 3: training on 4555591 raw words (4063529 effective words) took 2.4s, 1673548 effective words/s\n",
      "2023-12-27 14:18:54,525 : INFO : EPOCH 4 - PROGRESS: at 42.54% examples, 1711242 words/s, in_qsize 5, out_qsize 0\n",
      "2023-12-27 14:18:55,529 : INFO : EPOCH 4 - PROGRESS: at 83.94% examples, 1705437 words/s, in_qsize 5, out_qsize 0\n",
      "2023-12-27 14:18:55,937 : INFO : EPOCH 4: training on 4555591 raw words (4063766 effective words) took 2.4s, 1681867 effective words/s\n",
      "2023-12-27 14:18:55,938 : INFO : Word2Vec lifecycle event {'msg': 'training on 22777955 raw words (20318020 effective words) took 13.4s, 1516051 effective words/s', 'datetime': '2023-12-27T14:18:55.938228', 'gensim': '4.3.2', 'python': '3.11.5 (main, Aug 24 2023, 15:18:16) [Clang 14.0.3 (clang-1403.0.22.14.1)]', 'platform': 'macOS-13.5-x86_64-i386-64bit', 'event': 'train'}\n",
      "2023-12-27 14:18:55,938 : INFO : Word2Vec lifecycle event {'params': 'Word2Vec<vocab=33757, vector_size=100, alpha=0.025>', 'datetime': '2023-12-27T14:18:55.938742', 'gensim': '4.3.2', 'python': '3.11.5 (main, Aug 24 2023, 15:18:16) [Clang 14.0.3 (clang-1403.0.22.14.1)]', 'platform': 'macOS-13.5-x86_64-i386-64bit', 'event': 'created'}\n",
      "2023-12-27 14:18:55,939 : INFO : Word2Vec lifecycle event {'fname_or_handle': 'thesis_w2v_2015_tweets', 'separately': 'None', 'sep_limit': 10485760, 'ignore': frozenset(), 'datetime': '2023-12-27T14:18:55.939258', 'gensim': '4.3.2', 'python': '3.11.5 (main, Aug 24 2023, 15:18:16) [Clang 14.0.3 (clang-1403.0.22.14.1)]', 'platform': 'macOS-13.5-x86_64-i386-64bit', 'event': 'saving'}\n",
      "2023-12-27 14:18:55,943 : INFO : not storing attribute cum_table\n",
      "2023-12-27 14:18:56,016 : INFO : saved thesis_w2v_2015_tweets\n"
     ]
    }
   ],
   "source": [
    "# train and save word2vec model for 2015 \n",
    "run_word2vec(\"2015\", tokens_2015)"
   ]
  },
  {
   "cell_type": "code",
   "execution_count": 9,
   "metadata": {},
   "outputs": [
    {
     "name": "stderr",
     "output_type": "stream",
     "text": [
      "2023-12-27 14:18:56,026 : INFO : collecting all words and their counts\n",
      "2023-12-27 14:18:56,028 : INFO : PROGRESS: at sentence #0, processed 0 words, keeping 0 word types\n",
      "2023-12-27 14:18:56,047 : INFO : PROGRESS: at sentence #10000, processed 80462 words, keeping 16625 word types\n",
      "2023-12-27 14:18:56,096 : INFO : PROGRESS: at sentence #20000, processed 159565 words, keeping 20951 word types\n",
      "2023-12-27 14:18:56,117 : INFO : PROGRESS: at sentence #30000, processed 241422 words, keeping 32244 word types\n",
      "2023-12-27 14:18:56,152 : INFO : PROGRESS: at sentence #40000, processed 319983 words, keeping 40793 word types\n",
      "2023-12-27 14:18:56,186 : INFO : PROGRESS: at sentence #50000, processed 397617 words, keeping 44689 word types\n",
      "2023-12-27 14:18:56,216 : INFO : PROGRESS: at sentence #60000, processed 479082 words, keeping 46657 word types\n",
      "2023-12-27 14:18:56,249 : INFO : PROGRESS: at sentence #70000, processed 559626 words, keeping 51208 word types\n",
      "2023-12-27 14:18:56,268 : INFO : PROGRESS: at sentence #80000, processed 637275 words, keeping 51733 word types\n",
      "2023-12-27 14:18:56,288 : INFO : PROGRESS: at sentence #90000, processed 717609 words, keeping 55687 word types\n",
      "2023-12-27 14:18:56,309 : INFO : PROGRESS: at sentence #100000, processed 797871 words, keeping 57505 word types\n",
      "2023-12-27 14:18:56,344 : INFO : PROGRESS: at sentence #110000, processed 878514 words, keeping 63415 word types\n",
      "2023-12-27 14:18:56,370 : INFO : PROGRESS: at sentence #120000, processed 960752 words, keeping 69039 word types\n",
      "2023-12-27 14:18:56,392 : INFO : PROGRESS: at sentence #130000, processed 1043469 words, keeping 71710 word types\n",
      "2023-12-27 14:18:56,415 : INFO : PROGRESS: at sentence #140000, processed 1122307 words, keeping 74931 word types\n",
      "2023-12-27 14:18:56,439 : INFO : PROGRESS: at sentence #150000, processed 1204105 words, keeping 75344 word types\n",
      "2023-12-27 14:18:56,470 : INFO : PROGRESS: at sentence #160000, processed 1286992 words, keeping 76051 word types\n",
      "2023-12-27 14:18:56,492 : INFO : PROGRESS: at sentence #170000, processed 1366956 words, keeping 80045 word types\n",
      "2023-12-27 14:18:56,516 : INFO : PROGRESS: at sentence #180000, processed 1450114 words, keeping 83435 word types\n",
      "2023-12-27 14:18:56,538 : INFO : PROGRESS: at sentence #190000, processed 1529324 words, keeping 87077 word types\n",
      "2023-12-27 14:18:56,565 : INFO : PROGRESS: at sentence #200000, processed 1607212 words, keeping 91028 word types\n",
      "2023-12-27 14:18:56,600 : INFO : PROGRESS: at sentence #210000, processed 1685337 words, keeping 94969 word types\n",
      "2023-12-27 14:18:56,622 : INFO : PROGRESS: at sentence #220000, processed 1762466 words, keeping 98937 word types\n",
      "2023-12-27 14:18:56,643 : INFO : PROGRESS: at sentence #230000, processed 1838149 words, keeping 102579 word types\n",
      "2023-12-27 14:18:56,664 : INFO : PROGRESS: at sentence #240000, processed 1915233 words, keeping 105825 word types\n",
      "2023-12-27 14:18:56,689 : INFO : PROGRESS: at sentence #250000, processed 1994227 words, keeping 109202 word types\n",
      "2023-12-27 14:18:56,712 : INFO : PROGRESS: at sentence #260000, processed 2070866 words, keeping 111031 word types\n",
      "2023-12-27 14:18:56,734 : INFO : PROGRESS: at sentence #270000, processed 2148494 words, keeping 113956 word types\n",
      "2023-12-27 14:18:56,777 : INFO : PROGRESS: at sentence #280000, processed 2226475 words, keeping 117061 word types\n",
      "2023-12-27 14:18:56,816 : INFO : PROGRESS: at sentence #290000, processed 2307120 words, keeping 120526 word types\n",
      "2023-12-27 14:18:56,859 : INFO : PROGRESS: at sentence #300000, processed 2387716 words, keeping 122924 word types\n",
      "2023-12-27 14:18:56,891 : INFO : PROGRESS: at sentence #310000, processed 2468854 words, keeping 125486 word types\n",
      "2023-12-27 14:18:56,916 : INFO : PROGRESS: at sentence #320000, processed 2548029 words, keeping 128667 word types\n",
      "2023-12-27 14:18:56,958 : INFO : PROGRESS: at sentence #330000, processed 2627914 words, keeping 130738 word types\n",
      "2023-12-27 14:18:56,989 : INFO : PROGRESS: at sentence #340000, processed 2707728 words, keeping 133734 word types\n",
      "2023-12-27 14:18:57,020 : INFO : PROGRESS: at sentence #350000, processed 2786220 words, keeping 135132 word types\n",
      "2023-12-27 14:18:57,050 : INFO : PROGRESS: at sentence #360000, processed 2863551 words, keeping 137047 word types\n",
      "2023-12-27 14:18:57,105 : INFO : PROGRESS: at sentence #370000, processed 2942579 words, keeping 138607 word types\n",
      "2023-12-27 14:18:57,133 : INFO : PROGRESS: at sentence #380000, processed 3020622 words, keeping 140523 word types\n",
      "2023-12-27 14:18:57,159 : INFO : PROGRESS: at sentence #390000, processed 3098190 words, keeping 143513 word types\n",
      "2023-12-27 14:18:57,202 : INFO : PROGRESS: at sentence #400000, processed 3174962 words, keeping 146379 word types\n",
      "2023-12-27 14:18:57,239 : INFO : PROGRESS: at sentence #410000, processed 3249297 words, keeping 149235 word types\n",
      "2023-12-27 14:18:57,295 : INFO : PROGRESS: at sentence #420000, processed 3324444 words, keeping 152028 word types\n",
      "2023-12-27 14:18:57,321 : INFO : PROGRESS: at sentence #430000, processed 3400596 words, keeping 154458 word types\n",
      "2023-12-27 14:18:57,346 : INFO : PROGRESS: at sentence #440000, processed 3476176 words, keeping 156213 word types\n",
      "2023-12-27 14:18:57,374 : INFO : PROGRESS: at sentence #450000, processed 3552398 words, keeping 157776 word types\n",
      "2023-12-27 14:18:57,399 : INFO : PROGRESS: at sentence #460000, processed 3626683 words, keeping 160439 word types\n",
      "2023-12-27 14:18:57,431 : INFO : PROGRESS: at sentence #470000, processed 3704746 words, keeping 162972 word types\n",
      "2023-12-27 14:18:57,471 : INFO : PROGRESS: at sentence #480000, processed 3792367 words, keeping 165053 word types\n",
      "2023-12-27 14:18:57,500 : INFO : PROGRESS: at sentence #490000, processed 3876055 words, keeping 165622 word types\n",
      "2023-12-27 14:18:57,528 : INFO : PROGRESS: at sentence #500000, processed 3954265 words, keeping 167804 word types\n",
      "2023-12-27 14:18:57,556 : INFO : PROGRESS: at sentence #510000, processed 4037603 words, keeping 169399 word types\n",
      "2023-12-27 14:18:57,580 : INFO : PROGRESS: at sentence #520000, processed 4113643 words, keeping 170350 word types\n",
      "2023-12-27 14:18:57,612 : INFO : PROGRESS: at sentence #530000, processed 4192899 words, keeping 170654 word types\n",
      "2023-12-27 14:18:57,644 : INFO : PROGRESS: at sentence #540000, processed 4271125 words, keeping 171402 word types\n",
      "2023-12-27 14:18:57,672 : INFO : PROGRESS: at sentence #550000, processed 4355129 words, keeping 172036 word types\n",
      "2023-12-27 14:18:57,702 : INFO : PROGRESS: at sentence #560000, processed 4439527 words, keeping 172129 word types\n",
      "2023-12-27 14:18:57,734 : INFO : collected 172153 word types from a corpus of 4485711 raw words and 565434 sentences\n",
      "2023-12-27 14:18:57,735 : INFO : Creating a fresh vocabulary\n",
      "2023-12-27 14:18:57,854 : INFO : Word2Vec lifecycle event {'msg': 'effective_min_count=10 retains 33743 unique words (19.60% of original 172153, drops 138410)', 'datetime': '2023-12-27T14:18:57.854533', 'gensim': '4.3.2', 'python': '3.11.5 (main, Aug 24 2023, 15:18:16) [Clang 14.0.3 (clang-1403.0.22.14.1)]', 'platform': 'macOS-13.5-x86_64-i386-64bit', 'event': 'prepare_vocab'}\n",
      "2023-12-27 14:18:57,855 : INFO : Word2Vec lifecycle event {'msg': 'effective_min_count=10 leaves 4143259 word corpus (92.37% of original 4485711, drops 342452)', 'datetime': '2023-12-27T14:18:57.855208', 'gensim': '4.3.2', 'python': '3.11.5 (main, Aug 24 2023, 15:18:16) [Clang 14.0.3 (clang-1403.0.22.14.1)]', 'platform': 'macOS-13.5-x86_64-i386-64bit', 'event': 'prepare_vocab'}\n",
      "2023-12-27 14:18:57,978 : INFO : deleting the raw counts dictionary of 172153 items\n",
      "2023-12-27 14:18:57,983 : INFO : sample=0.001 downsamples 14 most-common words\n",
      "2023-12-27 14:18:57,984 : INFO : Word2Vec lifecycle event {'msg': 'downsampling leaves estimated 4030735.473314464 word corpus (97.3%% of prior 4143259)', 'datetime': '2023-12-27T14:18:57.984405', 'gensim': '4.3.2', 'python': '3.11.5 (main, Aug 24 2023, 15:18:16) [Clang 14.0.3 (clang-1403.0.22.14.1)]', 'platform': 'macOS-13.5-x86_64-i386-64bit', 'event': 'prepare_vocab'}\n",
      "2023-12-27 14:18:58,187 : INFO : estimated required memory for 33743 words and 100 dimensions: 43865900 bytes\n",
      "2023-12-27 14:18:58,188 : INFO : resetting layer weights\n",
      "2023-12-27 14:18:58,209 : INFO : Word2Vec lifecycle event {'update': False, 'trim_rule': 'None', 'datetime': '2023-12-27T14:18:58.209637', 'gensim': '4.3.2', 'python': '3.11.5 (main, Aug 24 2023, 15:18:16) [Clang 14.0.3 (clang-1403.0.22.14.1)]', 'platform': 'macOS-13.5-x86_64-i386-64bit', 'event': 'build_vocab'}\n",
      "2023-12-27 14:18:58,210 : INFO : Word2Vec lifecycle event {'msg': 'training model with 3 workers on 33743 vocabulary and 100 features, using sg=0 hs=0 sample=0.001 negative=5 window=5 shrink_windows=True', 'datetime': '2023-12-27T14:18:58.210278', 'gensim': '4.3.2', 'python': '3.11.5 (main, Aug 24 2023, 15:18:16) [Clang 14.0.3 (clang-1403.0.22.14.1)]', 'platform': 'macOS-13.5-x86_64-i386-64bit', 'event': 'train'}\n",
      "2023-12-27 14:18:59,222 : INFO : EPOCH 0 - PROGRESS: at 38.82% examples, 1567865 words/s, in_qsize 5, out_qsize 0\n",
      "2023-12-27 14:19:00,227 : INFO : EPOCH 0 - PROGRESS: at 79.01% examples, 1572694 words/s, in_qsize 5, out_qsize 0\n",
      "2023-12-27 14:19:00,840 : INFO : EPOCH 0: training on 4485711 raw words (4030380 effective words) took 2.6s, 1536537 effective words/s\n",
      "2023-12-27 14:19:01,861 : INFO : EPOCH 1 - PROGRESS: at 36.76% examples, 1480192 words/s, in_qsize 5, out_qsize 0\n",
      "2023-12-27 14:19:02,870 : INFO : EPOCH 1 - PROGRESS: at 59.47% examples, 1188824 words/s, in_qsize 6, out_qsize 0\n",
      "2023-12-27 14:19:03,872 : INFO : EPOCH 1 - PROGRESS: at 94.98% examples, 1261356 words/s, in_qsize 6, out_qsize 0\n",
      "2023-12-27 14:19:04,006 : INFO : EPOCH 1: training on 4485711 raw words (4030934 effective words) took 3.2s, 1277165 effective words/s\n",
      "2023-12-27 14:19:05,019 : INFO : EPOCH 2 - PROGRESS: at 39.29% examples, 1585521 words/s, in_qsize 5, out_qsize 0\n",
      "2023-12-27 14:19:06,020 : INFO : EPOCH 2 - PROGRESS: at 67.82% examples, 1361078 words/s, in_qsize 5, out_qsize 0\n",
      "2023-12-27 14:19:06,875 : INFO : EPOCH 2: training on 4485711 raw words (4030473 effective words) took 2.9s, 1408925 effective words/s\n",
      "2023-12-27 14:19:07,881 : INFO : EPOCH 3 - PROGRESS: at 41.40% examples, 1673401 words/s, in_qsize 5, out_qsize 0\n",
      "2023-12-27 14:19:08,885 : INFO : EPOCH 3 - PROGRESS: at 81.12% examples, 1617459 words/s, in_qsize 5, out_qsize 0\n",
      "2023-12-27 14:19:09,367 : INFO : EPOCH 3: training on 4485711 raw words (4030417 effective words) took 2.5s, 1621159 effective words/s\n",
      "2023-12-27 14:19:10,374 : INFO : EPOCH 4 - PROGRESS: at 37.00% examples, 1504043 words/s, in_qsize 5, out_qsize 0\n",
      "2023-12-27 14:19:11,384 : INFO : EPOCH 4 - PROGRESS: at 74.81% examples, 1491513 words/s, in_qsize 6, out_qsize 1\n",
      "2023-12-27 14:19:12,224 : INFO : EPOCH 4: training on 4485711 raw words (4030492 effective words) took 2.9s, 1413730 effective words/s\n",
      "2023-12-27 14:19:12,225 : INFO : Word2Vec lifecycle event {'msg': 'training on 22428555 raw words (20152696 effective words) took 14.0s, 1437934 effective words/s', 'datetime': '2023-12-27T14:19:12.225623', 'gensim': '4.3.2', 'python': '3.11.5 (main, Aug 24 2023, 15:18:16) [Clang 14.0.3 (clang-1403.0.22.14.1)]', 'platform': 'macOS-13.5-x86_64-i386-64bit', 'event': 'train'}\n",
      "2023-12-27 14:19:12,226 : INFO : Word2Vec lifecycle event {'params': 'Word2Vec<vocab=33743, vector_size=100, alpha=0.025>', 'datetime': '2023-12-27T14:19:12.226059', 'gensim': '4.3.2', 'python': '3.11.5 (main, Aug 24 2023, 15:18:16) [Clang 14.0.3 (clang-1403.0.22.14.1)]', 'platform': 'macOS-13.5-x86_64-i386-64bit', 'event': 'created'}\n",
      "2023-12-27 14:19:12,226 : INFO : Word2Vec lifecycle event {'fname_or_handle': 'thesis_w2v_2022_tweets', 'separately': 'None', 'sep_limit': 10485760, 'ignore': frozenset(), 'datetime': '2023-12-27T14:19:12.226478', 'gensim': '4.3.2', 'python': '3.11.5 (main, Aug 24 2023, 15:18:16) [Clang 14.0.3 (clang-1403.0.22.14.1)]', 'platform': 'macOS-13.5-x86_64-i386-64bit', 'event': 'saving'}\n",
      "2023-12-27 14:19:12,227 : INFO : not storing attribute cum_table\n",
      "2023-12-27 14:19:12,300 : INFO : saved thesis_w2v_2022_tweets\n"
     ]
    }
   ],
   "source": [
    "# train and save word2vec model for 2022\n",
    "run_word2vec(\"2022\", tokens_2022)"
   ]
  },
  {
   "cell_type": "code",
   "execution_count": 10,
   "metadata": {},
   "outputs": [
    {
     "name": "stderr",
     "output_type": "stream",
     "text": [
      "2023-12-27 14:19:18,615 : INFO : loading Word2Vec object from thesis_w2v_2015_tweets\n",
      "2023-12-27 14:19:18,669 : INFO : loading wv recursively from thesis_w2v_2015_tweets.wv.* with mmap=None\n",
      "2023-12-27 14:19:18,671 : INFO : setting ignored attribute cum_table to None\n",
      "2023-12-27 14:19:18,891 : INFO : Word2Vec lifecycle event {'fname': 'thesis_w2v_2015_tweets', 'datetime': '2023-12-27T14:19:18.891225', 'gensim': '4.3.2', 'python': '3.11.5 (main, Aug 24 2023, 15:18:16) [Clang 14.0.3 (clang-1403.0.22.14.1)]', 'platform': 'macOS-13.5-x86_64-i386-64bit', 'event': 'loaded'}\n"
     ]
    },
    {
     "name": "stdout",
     "output_type": "stream",
     "text": [
      "[('密輸', 0.9225761890411377), ('社説', 0.921892523765564), ('皇太子', 0.9214861392974854), ('日刊ゲンダイ', 0.9205718636512756), ('半島', 0.9186257719993591), ('領土', 0.9182296395301819), ('偽装', 0.9176166653633118), ('緊縮', 0.9176071882247925), ('戦争犯罪', 0.917079508304596), ('霞', 0.9158768057823181)]\n",
      "[('他国', 0.9100844860076904), ('外国', 0.9091653823852539), ('中国人', 0.9011421799659729), ('日本人', 0.8940977454185486), ('移民', 0.8915354609489441), ('難民', 0.8761928081512451), ('左翼', 0.8747358322143555), ('国会議員', 0.8564897775650024), ('若者', 0.8546940684318542), ('雇用', 0.8544275164604187)]\n"
     ]
    }
   ],
   "source": [
    "# load trained word2vec model\n",
    "model_2015 = gensim.models.Word2Vec.load(\"save_w2v_model_2015\")\n",
    "\n",
    "# check similarity given by trained model\n",
    "print(model_2015.wv.most_similar(positive='在日',topn=10))\n",
    "print(model_2015.wv.most_similar(positive='外国人',topn=10))"
   ]
  },
  {
   "cell_type": "code",
   "execution_count": 11,
   "metadata": {},
   "outputs": [
    {
     "name": "stderr",
     "output_type": "stream",
     "text": [
      "2023-12-27 14:19:20,091 : INFO : loading Word2Vec object from thesis_w2v_2022_tweets\n",
      "2023-12-27 14:19:20,133 : INFO : loading wv recursively from thesis_w2v_2022_tweets.wv.* with mmap=None\n",
      "2023-12-27 14:19:20,133 : INFO : setting ignored attribute cum_table to None\n",
      "2023-12-27 14:19:20,339 : INFO : Word2Vec lifecycle event {'fname': 'thesis_w2v_2022_tweets', 'datetime': '2023-12-27T14:19:20.339315', 'gensim': '4.3.2', 'python': '3.11.5 (main, Aug 24 2023, 15:18:16) [Clang 14.0.3 (clang-1403.0.22.14.1)]', 'platform': 'macOS-13.5-x86_64-i386-64bit', 'event': 'loaded'}\n"
     ]
    },
    {
     "name": "stdout",
     "output_type": "stream",
     "text": [
      "[('共産主義', 0.9306224584579468), ('併合', 0.9204510450363159), ('略奪', 0.9177254438400269), ('ナチス', 0.914193332195282), ('イラク', 0.9130715131759644), ('軍事力', 0.9127207398414612), ('従わ', 0.9111466407775879), ('人身売買', 0.9108579158782959), ('諸国', 0.9105721712112427), ('辺野古', 0.9075276255607605)]\n",
      "[('中国人', 0.8970280885696411), ('自国', 0.894239604473114), ('欧米', 0.8910224437713623), ('中国', 0.8830902576446533), ('日本人', 0.8747531175613403), ('れいわ', 0.8741739988327026), ('イスラム教', 0.8676839470863342), ('独立', 0.8672612905502319), ('教会', 0.8656696677207947), ('カルト', 0.8599515557289124)]\n"
     ]
    }
   ],
   "source": [
    "# same for 2022\n",
    "model_2022 = gensim.models.Word2Vec.load(\"save_w2v_model_2022\")\n",
    "\n",
    "print(model_2022.wv.most_similar(positive='在日',topn=10))\n",
    "print(model_2022.wv.most_similar(positive='外国人',topn=10))"
   ]
  },
  {
   "cell_type": "markdown",
   "metadata": {},
   "source": [
    "#### Plot Word2Vec Findings"
   ]
  },
  {
   "cell_type": "code",
   "execution_count": 12,
   "metadata": {},
   "outputs": [],
   "source": [
    "# https://radimrehurek.com/gensim/auto_examples/tutorials/run_word2vec.html#sphx-glr-auto-examples-tutorials-run-word2vec-py\n",
    "\n",
    "def reduce_dimensions(model):\n",
    "    num_dimensions = 2\n",
    "\n",
    "    # extract the words & their vectors, as numpy arrays\n",
    "    vectors = np.asarray(model.wv.vectors)\n",
    "    labels = np.asarray(model.wv.index_to_key)\n",
    "\n",
    "    # reduce using t-SNE\n",
    "    tsne = TSNE(n_components=num_dimensions, random_state=0)\n",
    "    vectors = tsne.fit_transform(vectors)\n",
    "\n",
    "    x_vals = [v[0] for v in vectors]\n",
    "    y_vals = [v[1] for v in vectors]\n",
    "    return x_vals, y_vals"
   ]
  },
  {
   "cell_type": "code",
   "execution_count": 13,
   "metadata": {},
   "outputs": [],
   "source": [
    "# plot similar words\n",
    "# https://aneesha.medium.com/using-tsne-to-plot-a-subset-of-similar-words-from-word2vec-bb8eeaea6229 \n",
    "# https://albertauyeung.github.io/2020/03/15/matplotlib-cjk-fonts.html/\n",
    "# https://stackoverflow.com/questions/70268270/how-to-plot-tsne-on-word2vec-created-from-gensim-for-the-most-similar-20-cases\n",
    "\n",
    "def plot_closest_words(word, model, x_vals, y_vals):\n",
    "    labels = [i for i in model.wv.index_to_key]\n",
    "    close_words = [i[0] for i in model.wv.most_similar(positive=word, topn=15)]\n",
    "\n",
    "    fprop = fm.FontProperties(fname='NotoSansJP-VariableFont_wght.ttf')\n",
    "    for word in close_words:\n",
    "        i = labels.index(word)\n",
    "        plt.scatter(x_vals[i],y_vals[i])\n",
    "        plt.annotate(labels[i], xy=(x_vals[i], y_vals[i]), xytext=(5, 2), textcoords='offset points', ha='right', va='bottom', fontproperties=fprop)"
   ]
  },
  {
   "cell_type": "code",
   "execution_count": 14,
   "metadata": {},
   "outputs": [
    {
     "data": {
      "image/png": "[encoded data removed]",
      "text/plain": [
       "<Figure size 640x480 with 1 Axes>"
      ]
     },
     "metadata": {},
     "output_type": "display_data"
    }
   ],
   "source": [
    "x_vals, y_vals = reduce_dimensions(model_2015)\n",
    "plot_closest_words(\"外人\", model_2015, x_vals, y_vals)"
   ]
  },
  {
   "cell_type": "code",
   "execution_count": 21,
   "metadata": {},
   "outputs": [
    {
     "data": {
      "image/png": "[encoded data removed]",
      "text/plain": [
       "<Figure size 640x480 with 1 Axes>"
      ]
     },
     "metadata": {},
     "output_type": "display_data"
    }
   ],
   "source": [
    "x_vals, y_vals = reduce_dimensions(model_2022)\n",
    "plot_closest_words(\"外人\", model_2022, x_vals, y_vals)"
   ]
  },
  {
   "cell_type": "code",
   "execution_count": 15,
   "metadata": {},
   "outputs": [
    {
     "data": {
      "text/plain": [
       "[('割り込み', 0.8860533237457275),\n",
       " ('反社', 0.8832544684410095),\n",
       " ('同胞', 0.8824900388717651),\n",
       " ('不法', 0.8819209337234497),\n",
       " ('振るう', 0.8811072707176208),\n",
       " ('呼称', 0.8809957504272461),\n",
       " ('扇動', 0.876920759677887),\n",
       " ('イスラム教徒', 0.8765144944190979),\n",
       " ('執行', 0.8759120106697083),\n",
       " ('ヤクザ', 0.8744602799415588),\n",
       " ('何でもかんでも', 0.8738333582878113),\n",
       " ('泥棒', 0.8737172484397888),\n",
       " ('パヨク', 0.8736859560012817),\n",
       " ('営業妨害', 0.8731456995010376),\n",
       " ('野蛮', 0.8725719451904297)]"
      ]
     },
     "execution_count": 15,
     "metadata": {},
     "output_type": "execute_result"
    }
   ],
   "source": [
    "model_2015.wv.most_similar(positive=\"外人\", topn=15)"
   ]
  },
  {
   "cell_type": "code",
   "execution_count": 16,
   "metadata": {},
   "outputs": [
    {
     "data": {
      "text/plain": [
       "[('不発', 0.8506039977073669),\n",
       " ('軍備', 0.8255631923675537),\n",
       " ('共産', 0.8236428499221802),\n",
       " ('国籍', 0.821510910987854),\n",
       " ('電力', 0.8174948692321777),\n",
       " ('輸出', 0.8158841133117676),\n",
       " ('正規', 0.8158621191978455),\n",
       " ('貧富の差', 0.8142353892326355),\n",
       " ('ゼレンスキ', 0.8098755478858948),\n",
       " ('社民党', 0.8073658347129822),\n",
       " ('莫大', 0.807080090045929),\n",
       " ('候補者', 0.8061603903770447),\n",
       " ('捕虜', 0.8054761290550232),\n",
       " ('標的', 0.8051358461380005),\n",
       " ('売国', 0.8046982288360596)]"
      ]
     },
     "execution_count": 16,
     "metadata": {},
     "output_type": "execute_result"
    }
   ],
   "source": [
    "model_2022.wv.most_similar(positive=\"外人\", topn=15)"
   ]
  },
  {
   "cell_type": "code",
   "execution_count": 17,
   "metadata": {},
   "outputs": [
    {
     "name": "stdout",
     "output_type": "stream",
     "text": [
      "密輸\n",
      "社説\n",
      "皇太子\n",
      "日刊ゲンダイ\n",
      "半島\n",
      "領土\n",
      "偽装\n",
      "緊縮\n",
      "戦争犯罪\n",
      "霞\n",
      "結託\n",
      "似非\n",
      "邪教\n",
      "カタル\n",
      "東京地検特捜部\n"
     ]
    }
   ],
   "source": [
    "words = model_2015.wv.most_similar(positive=\"在日\", topn=15)\n",
    "for word in words:\n",
    "    print(word[0])"
   ]
  },
  {
   "cell_type": "code",
   "execution_count": 18,
   "metadata": {},
   "outputs": [
    {
     "name": "stdout",
     "output_type": "stream",
     "text": [
      "共産主義\n",
      "併合\n",
      "略奪\n",
      "ナチス\n",
      "イラク\n",
      "軍事力\n",
      "従わ\n",
      "人身売買\n",
      "諸国\n",
      "辺野古\n",
      "クルド人\n",
      "イスラム\n",
      "ひろゆき\n",
      "核\n",
      "菅\n"
     ]
    }
   ],
   "source": [
    "words = model_2022.wv.most_similar(positive=\"在日\", topn=15)\n",
    "for word in words:\n",
    "    print(word[0])"
   ]
  },
  {
   "cell_type": "code",
   "execution_count": 22,
   "metadata": {},
   "outputs": [
    {
     "name": "stdout",
     "output_type": "stream",
     "text": [
      "てる\n",
      "おはよう\n",
      "ありがとう\n",
      "今日\n",
      "いい\n",
      "おは\n",
      "ください\n",
      "くれ\n",
      "フォロ\n",
      "参加\n",
      "思っ\n",
      "すぎ\n",
      "好き\n",
      "やっ\n",
      "み\n",
      "笑\n",
      "応募\n",
      "お願い\n",
      "来\n",
      "良い\n",
      "キャンペン\n",
      "くん\n",
      "結果\n",
      "思う\n",
      "もう\n",
      "楽しみ\n",
      "寝\n",
      "言っ\n",
      "仕事\n",
      "思い\n",
      "すぎる\n",
      "良かっ\n",
      "よろしく\n",
      "出\n",
      "行っ\n",
      "朝\n",
      "食べ\n",
      "明日\n",
      "配信\n",
      "欲しい\n",
      "昨日\n",
      "よろしくお願いします\n",
      "おめでとう\n",
      "待っ\n",
      "ぜひ\n",
      "嬉しい\n",
      "どう\n",
      "っ\n",
      "動画\n",
      "本当に\n"
     ]
    }
   ],
   "source": [
    "common = model_2015.wv.index_to_key[:50]\n",
    "for word in common:\n",
    "    print(word)"
   ]
  },
  {
   "cell_type": "code",
   "execution_count": 23,
   "metadata": {},
   "outputs": [
    {
     "name": "stdout",
     "output_type": "stream",
     "text": [
      "てる\n",
      "おはよう\n",
      "ありがとう\n",
      "今日\n",
      "いい\n",
      "ください\n",
      "おは\n",
      "くれ\n",
      "思っ\n",
      "参加\n",
      "すぎ\n",
      "好き\n",
      "結果\n",
      "笑\n",
      "やっ\n",
      "み\n",
      "良い\n",
      "寝\n",
      "フォロ\n",
      "お願い\n",
      "明日\n",
      "くん\n",
      "来\n",
      "もう\n",
      "思う\n",
      "朝\n",
      "昨日\n",
      "言っ\n",
      "キャンペン\n",
      "すぎる\n",
      "行っ\n",
      "出\n",
      "楽しみ\n",
      "動画\n",
      "思い\n",
      "応募\n",
      "食べ\n",
      "っ\n",
      "仕事\n",
      "どう\n",
      "嬉しい\n",
      "当たる\n",
      "ござい\n",
      "おめでとう\n",
      "起き\n",
      "可愛い\n",
      "まだ\n",
      "本当に\n",
      "よろしくお願いします\n",
      "残念\n"
     ]
    }
   ],
   "source": [
    "common = model_2022.wv.index_to_key[:50]\n",
    "for word in common:\n",
    "    print(word)"
   ]
  }
 ],
 "metadata": {
  "kernelspec": {
   "display_name": "thesis",
   "language": "python",
   "name": "python3"
  },
  "language_info": {
   "codemirror_mode": {
    "name": "ipython",
    "version": 3
   },
   "file_extension": ".py",
   "mimetype": "text/x-python",
   "name": "python",
   "nbconvert_exporter": "python",
   "pygments_lexer": "ipython3",
   "version": "3.11.5"
  }
 },
 "nbformat": 4,
 "nbformat_minor": 2
}
