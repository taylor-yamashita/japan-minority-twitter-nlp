{
 "cells": [
  {
   "cell_type": "code",
   "execution_count": 2,
   "metadata": {},
   "outputs": [
    {
     "name": "stdout",
     "output_type": "stream",
     "text": [
      "\u001b[33mWARNING: Skipping mecab as it is not installed.\u001b[0m\u001b[33m\n",
      "\u001b[0m\u001b[33mWARNING: Skipping mecab-python3 as it is not installed.\u001b[0m\u001b[33m\n",
      "\u001b[0m"
     ]
    }
   ],
   "source": [
    "!pip3 uninstall mecab --yes\n",
    "!pip3 uninstall mecab-python3 --yes"
   ]
  },
  {
   "cell_type": "code",
   "execution_count": 3,
   "metadata": {},
   "outputs": [
    {
     "name": "stdout",
     "output_type": "stream",
     "text": [
      "\u001b[33mWarning:\u001b[0m mecab 0.996 is already installed and up-to-date.\n",
      "To reinstall 0.996, run:\n",
      "  brew reinstall mecab\n",
      "Collecting mecab-python3\n",
      "  Downloading mecab-python3-1.0.8.tar.gz (78 kB)\n",
      "\u001b[2K     \u001b[90m━━━━━━━━━━━━━━━━━━━━━━━━━━━━━━━━━━━━━━━━\u001b[0m \u001b[32m78.5/78.5 kB\u001b[0m \u001b[31m7.4 MB/s\u001b[0m eta \u001b[36m0:00:00\u001b[0m\n",
      "\u001b[?25h  Installing build dependencies ... \u001b[?25ldone\n",
      "\u001b[?25h  Getting requirements to build wheel ... \u001b[?25ldone\n",
      "\u001b[?25h  Installing backend dependencies ... \u001b[?25ldone\n",
      "\u001b[?25h  Preparing metadata (pyproject.toml) ... \u001b[?25ldone\n",
      "\u001b[?25hBuilding wheels for collected packages: mecab-python3\n",
      "  Building wheel for mecab-python3 (pyproject.toml) ... \u001b[?25ldone\n",
      "\u001b[?25h  Created wheel for mecab-python3: filename=mecab_python3-1.0.8-cp312-cp312-macosx_11_0_arm64.whl size=39714 sha256=665cdacebb81abd7009feaeede0f8144759729fccabac577dd4832681ea5771e\n",
      "  Stored in directory: /private/var/folders/zj/mbm_nh6j6bn7bqqd10llb1lm0000gn/T/pip-ephem-wheel-cache-_kbhw03x/wheels/58/73/51/e2f5f2305bc33c57b0e03dc8cbbbc41b0e640273c31a20befa\n",
      "Successfully built mecab-python3\n",
      "Installing collected packages: mecab-python3\n",
      "Successfully installed mecab-python3-1.0.8\n",
      "Collecting mecab\n",
      "  Downloading mecab-0.996.3.tar.gz (62 kB)\n",
      "\u001b[2K     \u001b[90m━━━━━━━━━━━━━━━━━━━━━━━━━━━━━━━━━━━━━━━━\u001b[0m \u001b[32m62.6/62.6 kB\u001b[0m \u001b[31m6.7 MB/s\u001b[0m eta \u001b[36m0:00:00\u001b[0m\n",
      "\u001b[?25h  Installing build dependencies ... \u001b[?25ldone\n",
      "\u001b[?25h  Getting requirements to build wheel ... \u001b[?25ldone\n",
      "\u001b[?25h  Preparing metadata (pyproject.toml) ... \u001b[?25ldone\n",
      "\u001b[?25hBuilding wheels for collected packages: mecab\n",
      "  Building wheel for mecab (pyproject.toml) ... \u001b[?25ldone\n",
      "\u001b[?25h  Created wheel for mecab: filename=mecab-0.996.3-cp312-cp312-macosx_11_0_arm64.whl size=34046 sha256=973f7b8a968eee227a030cfac6ebc28f6709f57c2276bb28aec6925e123039b4\n",
      "  Stored in directory: /private/var/folders/zj/mbm_nh6j6bn7bqqd10llb1lm0000gn/T/pip-ephem-wheel-cache-dp3g80wa/wheels/fa/fe/2a/c3ff1a0b05d12bcd1e4908374a5000c016b5f07f48d9c54c01\n",
      "Successfully built mecab\n",
      "Installing collected packages: mecab\n",
      "Successfully installed mecab-0.996.3\n"
     ]
    }
   ],
   "source": [
    "!brew install --build-from-source mecab\n",
    "!ARCHFLAGS='-arch arm64' pip3 install --no-binary :all: --compile --use-pep517 --no-cache-dir --force mecab-python3\n",
    "!ARCHFLAGS='-arch arm64' pip3 install --no-binary :all: --compile --use-pep517 --no-cache-dir --force mecab"
   ]
  },
  {
   "cell_type": "code",
   "execution_count": 5,
   "metadata": {},
   "outputs": [
    {
     "ename": "ImportError",
     "evalue": "dlopen(/usr/local/Caskroom/miniforge/base/envs/thesis/lib/python3.12/site-packages/MeCab/_MeCab.cpython-312-darwin.so, 0x0002): symbol not found in flat namespace '__ZN5MeCab11createModelEPKc'",
     "output_type": "error",
     "traceback": [
      "\u001b[0;31m---------------------------------------------------------------------------\u001b[0m",
      "\u001b[0;31mImportError\u001b[0m                               Traceback (most recent call last)",
      "\u001b[1;32m/Users/taylory/Desktop/*Thesis/thesis/mecab.ipynb Cell 3\u001b[0m line \u001b[0;36m2\n\u001b[1;32m      <a href='vscode-notebook-cell:/Users/taylory/Desktop/%2AThesis/thesis/mecab.ipynb#X20sZmlsZQ%3D%3D?line=0'>1</a>\u001b[0m \u001b[39mimport\u001b[39;00m \u001b[39mjson\u001b[39;00m\n\u001b[0;32m----> <a href='vscode-notebook-cell:/Users/taylory/Desktop/%2AThesis/thesis/mecab.ipynb#X20sZmlsZQ%3D%3D?line=1'>2</a>\u001b[0m \u001b[39mimport\u001b[39;00m \u001b[39mMeCab\u001b[39;00m\n\u001b[1;32m      <a href='vscode-notebook-cell:/Users/taylory/Desktop/%2AThesis/thesis/mecab.ipynb#X20sZmlsZQ%3D%3D?line=2'>3</a>\u001b[0m \u001b[39mimport\u001b[39;00m \u001b[39mdemoji\u001b[39;00m\n\u001b[1;32m      <a href='vscode-notebook-cell:/Users/taylory/Desktop/%2AThesis/thesis/mecab.ipynb#X20sZmlsZQ%3D%3D?line=3'>4</a>\u001b[0m \u001b[39mimport\u001b[39;00m \u001b[39mre\u001b[39;00m\n",
      "File \u001b[0;32m/usr/local/Caskroom/miniforge/base/envs/thesis/lib/python3.12/site-packages/MeCab/__init__.py:10\u001b[0m\n\u001b[1;32m      1\u001b[0m \u001b[39m# Second-level Python wrappers for the SWIG-generated MeCab interface.\u001b[39;00m\n\u001b[1;32m      2\u001b[0m \u001b[39m# This file bypasses and replaces the SWIG-generated MeCab.py.\u001b[39;00m\n\u001b[1;32m      3\u001b[0m \u001b[39m# Since we use SWIG's `-builtin` mode, it does almost nothing that we\u001b[39;00m\n\u001b[0;32m   (...)\u001b[0m\n\u001b[1;32m      6\u001b[0m \u001b[39m# modifications to MeCab.i, but then we would have to diverge that file\u001b[39;00m\n\u001b[1;32m      7\u001b[0m \u001b[39m# further from upstream.\u001b[39;00m\n\u001b[1;32m      9\u001b[0m \u001b[39mfrom\u001b[39;00m \u001b[39m__future__\u001b[39;00m \u001b[39mimport\u001b[39;00m absolute_import, print_function\n\u001b[0;32m---> 10\u001b[0m \u001b[39mfrom\u001b[39;00m \u001b[39m.\u001b[39;00m \u001b[39mimport\u001b[39;00m _MeCab\n\u001b[1;32m     12\u001b[0m \u001b[39mimport\u001b[39;00m \u001b[39mos\u001b[39;00m\n\u001b[1;32m     13\u001b[0m \u001b[39mimport\u001b[39;00m \u001b[39msys\u001b[39;00m\n",
      "\u001b[0;31mImportError\u001b[0m: dlopen(/usr/local/Caskroom/miniforge/base/envs/thesis/lib/python3.12/site-packages/MeCab/_MeCab.cpython-312-darwin.so, 0x0002): symbol not found in flat namespace '__ZN5MeCab11createModelEPKc'"
     ]
    }
   ],
   "source": [
    "import json\n",
    "import MeCab\n",
    "import demoji\n",
    "import re\n",
    "from stop_words import stop_words\n",
    "import gensim, logging"
   ]
  },
  {
   "cell_type": "markdown",
   "metadata": {},
   "source": [
    "cleaning and tokenizing"
   ]
  },
  {
   "cell_type": "code",
   "execution_count": null,
   "metadata": {},
   "outputs": [
    {
     "name": "stderr",
     "output_type": "stream",
     "text": [
      "<>:20: SyntaxWarning: invalid escape sequence '\\('\n",
      "<>:21: SyntaxWarning: invalid escape sequence '\\{'\n",
      "<>:20: SyntaxWarning: invalid escape sequence '\\('\n",
      "<>:21: SyntaxWarning: invalid escape sequence '\\{'\n",
      "/var/folders/zj/mbm_nh6j6bn7bqqd10llb1lm0000gn/T/ipykernel_66914/4078735437.py:20: SyntaxWarning: invalid escape sequence '\\('\n",
      "  remove_links = re.sub(\"http[s]?://(?:[a-zA-Z]|[0-9]|[$-_@.&+]|[!*\\(\\),]|(?:%[0-9a-fA-F][0-9a-fA-F]))+\", \"\", remove_hashtags)\n",
      "/var/folders/zj/mbm_nh6j6bn7bqqd10llb1lm0000gn/T/ipykernel_66914/4078735437.py:21: SyntaxWarning: invalid escape sequence '\\{'\n",
      "  remove_punc = re.sub(\"([-.,;\\\"\\'!?~@#$%^&*():\\{\\}\\[\\]\\/\\\\\\\\]+)\", \"\", remove_links)\n",
      "/var/folders/zj/mbm_nh6j6bn7bqqd10llb1lm0000gn/T/ipykernel_66914/4078735437.py:20: SyntaxWarning: invalid escape sequence '\\('\n",
      "  remove_links = re.sub(\"http[s]?://(?:[a-zA-Z]|[0-9]|[$-_@.&+]|[!*\\(\\),]|(?:%[0-9a-fA-F][0-9a-fA-F]))+\", \"\", remove_hashtags)\n",
      "/var/folders/zj/mbm_nh6j6bn7bqqd10llb1lm0000gn/T/ipykernel_66914/4078735437.py:21: SyntaxWarning: invalid escape sequence '\\{'\n",
      "  remove_punc = re.sub(\"([-.,;\\\"\\'!?~@#$%^&*():\\{\\}\\[\\]\\/\\\\\\\\]+)\", \"\", remove_links)\n"
     ]
    },
    {
     "ename": "NameError",
     "evalue": "name 'MeCab' is not defined",
     "output_type": "error",
     "traceback": [
      "\u001b[0;31m---------------------------------------------------------------------------\u001b[0m",
      "\u001b[0;31mNameError\u001b[0m                                 Traceback (most recent call last)",
      "\u001b[1;32m/Users/taylory/Desktop/*Thesis/thesis/mecab.ipynb Cell 3\u001b[0m line \u001b[0;36m3\n\u001b[1;32m      <a href='vscode-notebook-cell:/Users/taylory/Desktop/%2AThesis/thesis/mecab.ipynb#X22sZmlsZQ%3D%3D?line=0'>1</a>\u001b[0m \u001b[39m# cleaning and tokenizing\u001b[39;00m\n\u001b[0;32m----> <a href='vscode-notebook-cell:/Users/taylory/Desktop/%2AThesis/thesis/mecab.ipynb#X22sZmlsZQ%3D%3D?line=2'>3</a>\u001b[0m mt \u001b[39m=\u001b[39m MeCab\u001b[39m.\u001b[39mTagger(\u001b[39m\"\u001b[39m\u001b[39m-d /usr/local/lib/mecab/dic/mecab-ipadic-neologd\u001b[39m\u001b[39m\"\u001b[39m)\n\u001b[1;32m      <a href='vscode-notebook-cell:/Users/taylory/Desktop/%2AThesis/thesis/mecab.ipynb#X22sZmlsZQ%3D%3D?line=3'>4</a>\u001b[0m file \u001b[39m=\u001b[39m \u001b[39mopen\u001b[39m(\u001b[39m'\u001b[39m\u001b[39mtest-tweets.txt\u001b[39m\u001b[39m'\u001b[39m, \u001b[39m'\u001b[39m\u001b[39mr\u001b[39m\u001b[39m'\u001b[39m)\n\u001b[1;32m      <a href='vscode-notebook-cell:/Users/taylory/Desktop/%2AThesis/thesis/mecab.ipynb#X22sZmlsZQ%3D%3D?line=5'>6</a>\u001b[0m \u001b[39m# we'll just test on a few tweets for now\u001b[39;00m\n",
      "\u001b[0;31mNameError\u001b[0m: name 'MeCab' is not defined"
     ]
    }
   ],
   "source": [
    "# cleaning and tokenizing\n",
    "\n",
    "mt = MeCab.Tagger(\"-d /usr/local/lib/mecab/dic/mecab-ipadic-neologd\")\n",
    "file = open('test-tweets.txt', 'r')\n",
    "\n",
    "# we'll just test on a few tweets for now\n",
    "tweets = []\n",
    "for i in range(100):\n",
    "    # load tweet, convert to py dict, access content\n",
    "    tweet_json = file.readline()\n",
    "    tweet_py = json.loads(tweet_json)\n",
    "    tweet_text = tweet_py['rawContent'] # note: need other prop for over 140 char?\n",
    "\n",
    "    # clean tweet content\n",
    "    remove_emojis = demoji.replace(tweet_text, \"\")\n",
    "    remove_more_emojis = re.sub(\"([\\uD83E-\\uD83E])+\", \"\", remove_emojis)\n",
    "    remove_newlines = re.sub(\"(\\n)+\", \"\", remove_more_emojis)\n",
    "    remove_usernames = re.sub(\"@([a-zA-Z0-9_]+)\", \"\", remove_newlines)\n",
    "    remove_hashtags = re.sub(\"#([a-zA-Z0-9_ぁ-んァ-ン一-龠]+)\", \"\", remove_usernames)\n",
    "    remove_links = re.sub(\"http[s]?://(?:[a-zA-Z]|[0-9]|[$-_@.&+]|[!*\\(\\),]|(?:%[0-9a-fA-F][0-9a-fA-F]))+\", \"\", remove_hashtags)\n",
    "    remove_punc = re.sub(\"([-.,;\\\"\\'!?~@#$%^&*():\\{\\}\\[\\]\\/\\\\\\\\]+)\", \"\", remove_links)\n",
    "    remove_jp_punc = re.sub(\"([\\uFF01-\\uFF0F\\uFF1A-\\uFF20\\uFF3B-\\uFF40\\uFF5B-\\uFF65\\uFF9E-\\uFFEE\\u3000-\\u303F]+)\", \"\", remove_punc)\n",
    "    remove_geo_shapes = re.sub(\"([\\u25A0-\\u25FF])+\", \"\", remove_jp_punc)\n",
    "    remove_misc_symbols = re.sub(\"([\\u2600-\\u26FF])+\", \"\", remove_geo_shapes)\n",
    "\n",
    "    # mecab tokenization\n",
    "    parsed = mt.parseToNode(remove_misc_symbols)\n",
    "    components = []\n",
    "    while parsed:\n",
    "        components.append(parsed.surface)\n",
    "        parsed = parsed.next\n",
    "    components = [token for token in components if not token in stop_words]\n",
    "    tweets.append(components)"
   ]
  },
  {
   "cell_type": "markdown",
   "metadata": {},
   "source": [
    "we'll just test on a few tweets for now"
   ]
  },
  {
   "cell_type": "code",
   "execution_count": null,
   "metadata": {},
   "outputs": [],
   "source": [
    "tweets = []\n",
    "for i in range(100):\n",
    "    # load tweet, convert to py dict, access content\n",
    "    tweet_json = file.readline()\n",
    "    tweet_py = json.loads(tweet_json)\n",
    "    tweet_text = tweet_py['rawContent'] # note: need other prop for over 140 char?\n",
    "\n",
    "    # clean tweet content\n",
    "    remove_emojis = demoji.replace(tweet_text, \"\")\n",
    "    remove_more_emojis = re.sub(\"([\\uD83E-\\uD83E])+\", \"\", remove_emojis)\n",
    "    remove_newlines = re.sub(\"(\\n)+\", \"\", remove_more_emojis)\n",
    "    remove_usernames = re.sub(\"@([a-zA-Z0-9_]+)\", \"\", remove_newlines)\n",
    "    remove_hashtags = re.sub(\"#([a-zA-Z0-9_ぁ-んァ-ン一-龠]+)\", \"\", remove_usernames)\n",
    "    remove_links = re.sub(\"http[s]?://(?:[a-zA-Z]|[0-9]|[$-_@.&+]|[!*\\(\\),]|(?:%[0-9a-fA-F][0-9a-fA-F]))+\", \"\", remove_hashtags)\n",
    "    remove_punc = re.sub(\"([-.,;\\\"\\'!?~@#$%^&*():\\{\\}\\[\\]\\/\\\\\\\\]+)\", \"\", remove_links)\n",
    "    remove_jp_punc = re.sub(\"([\\uFF01-\\uFF0F\\uFF1A-\\uFF20\\uFF3B-\\uFF40\\uFF5B-\\uFF65\\uFF9E-\\uFFEE\\u3000-\\u303F]+)\", \"\", remove_punc)\n",
    "    remove_geo_shapes = re.sub(\"([\\u25A0-\\u25FF])+\", \"\", remove_jp_punc)\n",
    "    remove_misc_symbols = re.sub(\"([\\u2600-\\u26FF])+\", \"\", remove_geo_shapes)\n",
    "\n",
    "    # mecab tokenization\n",
    "    parsed = mt.parseToNode(remove_misc_symbols)\n",
    "    components = []\n",
    "    while parsed:\n",
    "        components.append(parsed.surface)\n",
    "        parsed = parsed.next\n",
    "    components = [token for token in components if not token in stop_words]\n",
    "    tweets.append(components)"
   ]
  },
  {
   "cell_type": "markdown",
   "metadata": {},
   "source": [
    "print(tweets)"
   ]
  },
  {
   "cell_type": "markdown",
   "metadata": {},
   "source": [
    "word2vec"
   ]
  },
  {
   "cell_type": "markdown",
   "metadata": {},
   "source": [
    "set up logging"
   ]
  },
  {
   "cell_type": "code",
   "execution_count": null,
   "metadata": {},
   "outputs": [],
   "source": [
    "logging.basicConfig(format='%(asctime)s : %(levelname)s : %(message)s', level=logging.INFO)"
   ]
  },
  {
   "cell_type": "markdown",
   "metadata": {},
   "source": [
    "train word2vec"
   ]
  },
  {
   "cell_type": "code",
   "execution_count": null,
   "metadata": {},
   "outputs": [],
   "source": [
    "model = gensim.models.Word2Vec(tweets, min_count=3)"
   ]
  },
  {
   "cell_type": "markdown",
   "metadata": {},
   "source": [
    "check similarity given by trained model"
   ]
  },
  {
   "cell_type": "code",
   "execution_count": null,
   "metadata": {},
   "outputs": [],
   "source": [
    "sim = model.wv.most_similar('今日')\n",
    "print(sim)"
   ]
  }
 ],
 "metadata": {
  "kernelspec": {
   "display_name": "Python 3 (ipykernel)",
   "language": "python",
   "name": "python3"
  },
  "language_info": {
   "codemirror_mode": {
    "name": "ipython",
    "version": 3
   },
   "file_extension": ".py",
   "mimetype": "text/x-python",
   "name": "python",
   "nbconvert_exporter": "python",
   "pygments_lexer": "ipython3",
   "version": "3.12.0"
  }
 },
 "nbformat": 4,
 "nbformat_minor": 4
}
