{
 "cells": [
  {
   "cell_type": "code",
   "execution_count": 4,
   "metadata": {},
   "outputs": [],
   "source": [
    "import re\n",
    "import mojimoji\n",
    "import demoji\n",
    "import json\n",
    "import csv"
   ]
  },
  {
   "cell_type": "code",
   "execution_count": 2,
   "metadata": {},
   "outputs": [],
   "source": [
    "# preprocess tweet content\n",
    "def preprocess(text):    \n",
    "    # convert half-width/full-width chars \n",
    "    text = text.lower()\n",
    "    text = mojimoji.zen_to_han(text, kana=False)\n",
    "    text = mojimoji.han_to_zen(text, digit=False, ascii=False)\n",
    "    \n",
    "    # convert jp punctuation (code from https://colab.research.google.com/drive/1bX-JyY4xmCm_RFkJg3QNcthUvEJaBghP)\n",
    "    text = text.translate(str.maketrans({\n",
    "        '!': '！', '\"': '”', '#': '＃', '$': '＄', '%': '％', '&': '＆', '\\'': '’',\n",
    "        '(': '（', ')': '）', '*': '＊', '+': '＋', ',': '，', '-': '−', '.': '．',\n",
    "        '/': '／', ':': '：', ';': '；', '<': '＜', '=': '＝', '>': '＞', '?': '？',\n",
    "        '@': '＠', '[': '［', '\\\\': '＼', ']': '］', '^': '＾', '_': '＿', '`': '｀',\n",
    "        '{': '｛', '|': '｜', '}': '｝'\n",
    "        }))\n",
    "    zenkaku_leftsingle = b'\\xe2\\x80\\x98'.decode('utf-8')\n",
    "    text = re.sub('[’´｀]', zenkaku_leftsingle, text)\n",
    "    \n",
    "    # remove twitter-specific strings (handles, hashtags, etc.)\n",
    "    text = re.sub(\"@([a-zA-Z0-9_]+)\", \"\", text)\n",
    "    text = re.sub(\"#([a-zA-Z0-9_ぁ-んァ-ン一-龠]+)\", \"\", text)\n",
    "    text = re.sub(\"http[s]?://(?:[a-zA-Z]|[0-9]|[$-_@.&+]|[!*\\(\\),]|(?:%[0-9a-fA-F][0-9a-fA-F]))+\", \"\", text)\n",
    "\n",
    "    # remove emojis\n",
    "    text = demoji.replace(text, \"\")\n",
    "    text = re.sub(\"([\\uD83E-\\uD83E])+\", \"\", text)\n",
    "\n",
    "    # remove punctuation and whitespace\n",
    "    text = re.sub(\"([^一-龯ぁ-んァ-ン])+\",\"\",text)  \n",
    "    text = re.sub(\"(\\s)+\", \"\", text)\n",
    "\n",
    "    return text"
   ]
  },
  {
   "cell_type": "code",
   "execution_count": 3,
   "metadata": {},
   "outputs": [],
   "source": [
    "# takes .txt file of tweet objects, returns unique tweet texts as list\n",
    "def get_unique_tweets(filename, year):\n",
    "    tweets = []\n",
    "    # iterate through tweets\n",
    "    with open(filename, 'r') as file:\n",
    "        for line in file:\n",
    "            tweet = json.loads(line)\n",
    "            if line == None or tweet == None:   # discard empty/problem tweets\n",
    "                print(\"Parsing error: \", line, tweet)\n",
    "            elif tweet['retweetedTweet']:       # discard retweets\n",
    "                print(\"Retweet: \", tweet['id'])\n",
    "            elif int(tweet['date'].split(\"-\")[0]) < int(year) + 1:  # filter out 2024 sponsored tweets\n",
    "                tweet_text = tweet['rawContent'] \n",
    "                tweets.append(tweet_text)\n",
    "    file.close()\n",
    "    tweets_unique = list(set(tweets))           # discard duplicate tweets (bot spam, etc.) \n",
    "    return tweets_unique"
   ]
  },
  {
   "cell_type": "code",
   "execution_count": null,
   "metadata": {},
   "outputs": [],
   "source": [
    "# pass in filename you want to save data as, including '.csv'\n",
    "def save_to_csv(tweet_tokens, filename):\n",
    "    f = open(filename, 'w')\n",
    "    writer = csv.writer(f)\n",
    "    for tweet in tweet_tokens:\n",
    "        writer.writerow(tweet)\n",
    "    f.close()"
   ]
  },
  {
   "cell_type": "code",
   "execution_count": null,
   "metadata": {},
   "outputs": [],
   "source": [
    "# pass in filename of csv you want to load, including '.csv'\n",
    "def load_from_csv(filename):\n",
    "    with open(filename, newline='') as f:\n",
    "        reader = csv.reader(f)\n",
    "        tweet_tokens = list(reader)\n",
    "    return tweet_tokens"
   ]
  }
 ],
 "metadata": {
  "kernelspec": {
   "display_name": "thesis-hw276cHk",
   "language": "python",
   "name": "python3"
  },
  "language_info": {
   "codemirror_mode": {
    "name": "ipython",
    "version": 3
   },
   "file_extension": ".py",
   "mimetype": "text/x-python",
   "name": "python",
   "nbconvert_exporter": "python",
   "pygments_lexer": "ipython3",
   "version": "3.11.5"
  }
 },
 "nbformat": 4,
 "nbformat_minor": 2
}
