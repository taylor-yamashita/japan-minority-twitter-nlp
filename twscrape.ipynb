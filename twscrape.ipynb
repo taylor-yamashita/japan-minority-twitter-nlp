{
 "cells": [
  {
   "cell_type": "code",
   "execution_count": 32,
   "metadata": {},
   "outputs": [],
   "source": [
    "import os\n",
    "import random\n",
    "from typing import List\n",
    "import twscrape"
   ]
  },
  {
   "cell_type": "code",
   "execution_count": 23,
   "metadata": {},
   "outputs": [],
   "source": [
    "# set up directories, e.g. for 2008\n",
    "\n",
    "year = 2008\n",
    "os.mkdir(str(year))\n",
    "\n",
    "# single digit month\n",
    "for i in range(1,10):\n",
    "    path = str(year) + \"/\" + str(year) + \"-0\" + str(i)\n",
    "    os.mkdir(path) \n",
    "\n",
    "# double digit month\n",
    "for j in range(10,13):\n",
    "    path = str(year) + \"/\" + str(year) + \"-\" + str(j)\n",
    "    os.mkdir(path) "
   ]
  },
  {
   "cell_type": "code",
   "execution_count": 22,
   "metadata": {},
   "outputs": [],
   "source": [
    "# remove directories if needed\n",
    "!rm -rf 2008/"
   ]
  },
  {
   "cell_type": "code",
   "execution_count": 66,
   "metadata": {},
   "outputs": [
    {
     "name": "stdout",
     "output_type": "stream",
     "text": [
      "twscrape search \"since:2015-02-01_14:00:00_UTC lang:ja\"　> 2015/2015-02/2015-02-01.txt --limit=4500\n",
      "twscrape search \"since:2015-02-09_10:00:00_UTC lang:ja\"　> 2015/2015-02/2015-02-09.txt --limit=4500\n",
      "twscrape search \"since:2015-02-10_07:00:00_UTC lang:ja\"　> 2015/2015-02/2015-02-10.txt --limit=4500\n",
      "twscrape search \"since:2015-02-19_21:00:00_UTC lang:ja\"　> 2015/2015-02/2015-02-19.txt --limit=4500\n",
      "twscrape search \"since:2015-02-21_09:00:00_UTC lang:ja\"　> 2015/2015-02/2015-02-21.txt --limit=4500\n",
      "twscrape search \"since:2015-02-22_04:00:00_UTC lang:ja\"　> 2015/2015-02/2015-02-22.txt --limit=4500\n",
      "twscrape search \"since:2015-02-23_08:00:00_UTC lang:ja\"　> 2015/2015-02/2015-02-23.txt --limit=4500\n",
      "twscrape search \"since:2015-02-26_17:00:00_UTC lang:ja\"　> 2015/2015-02/2015-02-26.txt --limit=4500\n",
      "twscrape search \"since:2015-02-27_23:00:00_UTC lang:ja\"　> 2015/2015-02/2015-02-27.txt --limit=4500\n",
      "twscrape search \"since:2015-02-28_17:00:00_UTC lang:ja\"　> 2015/2015-02/2015-02-28.txt --limit=4500\n",
      "\u001b[34m2008\u001b[m\u001b[m\n",
      "\u001b[34m2015\u001b[m\u001b[m\n",
      "2022-all.txt\n",
      "Pipfile\n",
      "Pipfile.lock\n",
      "README.md\n",
      "\u001b[34m__pycache__\u001b[m\u001b[m\n",
      "accounts.db\n",
      "accounts.txt\n",
      "\u001b[34mmecab-python3-1.0.8\u001b[m\u001b[m\n",
      "mecab_test.py\n",
      "\u001b[34mminority_groups\u001b[m\u001b[m\n",
      "\u001b[34mpeople\u001b[m\u001b[m\n",
      "stop_words.py\n",
      "test-tweets.txt\n",
      "thesis.ipynb\n",
      "thesis_w2v_2022_tweets\n",
      "twscrape.ipynb\n",
      "\u001b[34mvenv\u001b[m\u001b[m\n"
     ]
    }
   ],
   "source": [
    "# collect tweets for 10 randomly sampled days of month at randomly sampled time of day\n",
    "\n",
    "def scrape_tweets(year: str, months: List[str], days_in_month: int):\n",
    "    range_days = list(range(1,days_in_month+1))\n",
    "    range_times = list(range(0,24))\n",
    "\n",
    "    # sample 10 random days and times of day for each month\n",
    "    for m in months: \n",
    "        month_path = year + \"/\" + year + \"-\" + m\n",
    "        days = sorted(random.sample(range_days, k=10))   # random days of month (no replacement)\n",
    "        times = random.choices(range_times, k=10)   # random hours of day (replacement)\n",
    "        \n",
    "        # scrape tweets for the 10 picked days and times\n",
    "        for t in range(10):     \n",
    "            day = \"0\" + str(days[t]) if days[t] < 10 else str(days[t])\n",
    "            time = \"0\" + str(times[t]) if times[t] < 10 else str(times[t])\n",
    "            day_path = month_path + \"/\" + year + \"-\" + m + \"-\" + day + \".txt\"\n",
    "            command = 'twscrape search \"since:' + year + '-' + m + '-' + day + '_' + time + ':00:00_UTC lang:ja\"　> ' + day_path + ' --limit=4500'\n",
    "            # os.system(command)\n",
    "\n",
    "# 28 day months\n",
    "scrape_tweets(\"2015\",[\"02\"], 28)    # omit leap year 29th days for simplicity...?\n",
    "\n",
    "# 30 day months\n",
    "months_30 = [4,6,9,11]\n",
    "scrape_tweets(\"2015\",months_30, 30)\n",
    "\n",
    "# 31 day months\n",
    "months_31 = [1,3,5,7,8,10,12]\n",
    "scrape_tweets(\"2015\",months_31, 31)"
   ]
  },
  {
   "cell_type": "code",
   "execution_count": null,
   "metadata": {},
   "outputs": [],
   "source": []
  },
  {
   "cell_type": "code",
   "execution_count": null,
   "metadata": {},
   "outputs": [],
   "source": []
  }
 ],
 "metadata": {
  "kernelspec": {
   "display_name": "thesis-hw276cHk",
   "language": "python",
   "name": "python3"
  },
  "language_info": {
   "codemirror_mode": {
    "name": "ipython",
    "version": 3
   },
   "file_extension": ".py",
   "mimetype": "text/x-python",
   "name": "python",
   "nbconvert_exporter": "python",
   "pygments_lexer": "ipython3",
   "version": "3.11.5"
  }
 },
 "nbformat": 4,
 "nbformat_minor": 2
}
