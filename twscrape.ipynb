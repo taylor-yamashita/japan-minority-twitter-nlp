{
 "cells": [
  {
   "cell_type": "code",
   "execution_count": 68,
   "metadata": {},
   "outputs": [],
   "source": [
    "import os\n",
    "import random\n",
    "from typing import List\n",
    "import twscrape"
   ]
  },
  {
   "cell_type": "code",
   "execution_count": 23,
   "metadata": {},
   "outputs": [],
   "source": [
    "# set up directories, e.g. for 2008\n",
    "\n",
    "year = 2008\n",
    "os.mkdir(str(year))\n",
    "\n",
    "# single digit month\n",
    "for i in range(1,10):\n",
    "    path = str(year) + \"/\" + str(year) + \"-0\" + str(i)\n",
    "    os.mkdir(path) \n",
    "\n",
    "# double digit month\n",
    "for j in range(10,13):\n",
    "    path = str(year) + \"/\" + str(year) + \"-\" + str(j)\n",
    "    os.mkdir(path) "
   ]
  },
  {
   "cell_type": "code",
   "execution_count": 22,
   "metadata": {},
   "outputs": [],
   "source": [
    "# remove directories if needed\n",
    "!rm -rf 2008/"
   ]
  },
  {
   "cell_type": "code",
   "execution_count": 73,
   "metadata": {},
   "outputs": [],
   "source": [
    "# collect tweets for 10 randomly sampled days of month at randomly sampled time of day\n",
    "\n",
    "def scrape_tweets(year: str, months: List[str], days_in_month: int):\n",
    "    range_days = list(range(1,days_in_month+1))\n",
    "    range_times = list(range(0,24))\n",
    "\n",
    "    # sample 10 random days and times of day for each month\n",
    "    for m in months: \n",
    "        month_path = year + \"/\" + year + \"-\" + m\n",
    "        days = sorted(random.sample(range_days, k=10))   # random days of month (no replacement)\n",
    "        times = random.choices(range_times, k=10)   # random hours of day (replacement)\n",
    "        \n",
    "        # scrape tweets for the 10 picked days and times\n",
    "        for t in range(10):     \n",
    "            day = \"0\" + str(days[t]) if days[t] < 10 else str(days[t])\n",
    "            time = \"0\" + str(times[t]) if times[t] < 10 else str(times[t])\n",
    "            day_path = month_path + \"/\" + year + \"-\" + m + \"-\" + day + \".txt\"\n",
    "            command = 'twscrape search \"since:' + year + '-' + m + '-' + day + '_' + time + ':00:00_UTC lang:ja\"　> ' + day_path + ' --limit=4500'\n",
    "            os.system(command)"
   ]
  },
  {
   "cell_type": "code",
   "execution_count": 72,
   "metadata": {},
   "outputs": [],
   "source": [
    "# # for a full year\n",
    "# year = \"2015\"\n",
    "\n",
    "# # 28 day months\n",
    "# scrape_tweets(year,[\"02\"], 28)    # omit leap year 29th days for simplicity...?\n",
    "\n",
    "# # 30 day months\n",
    "# months_30 = [\"04\",\"06\",\"09\",\"11\"]\n",
    "# scrape_tweets(year,months_30, 30)\n",
    "\n",
    "# # 31 day months\n",
    "# months_31 = [\"01\",\"03\",\"05\",\"07\",\"08\",\"10\",\"12\"]\n",
    "# scrape_tweets(year,months_31, 31)"
   ]
  },
  {
   "cell_type": "code",
   "execution_count": 74,
   "metadata": {},
   "outputs": [
    {
     "name": "stderr",
     "output_type": "stream",
     "text": [
      "2023-11-26 13:06:55.336 | INFO     | twscrape.accounts_pool:get_for_queue_or_wait:260 - No account available for queue \"SearchTimeline\". Next available at 13:10:11\n"
     ]
    }
   ],
   "source": [
    "# right now we were partway through 2015\n",
    "year = 2015\n",
    "\n",
    "# 30 day months\n",
    "months_30 = [\"04\",\"06\",\"09\",\"11\"]\n",
    "scrape_tweets(year,months_30, 30)\n",
    "\n",
    "# 31 day months\n",
    "months_31 = [\"05\",\"07\",\"08\",\"10\",\"12\"]\n",
    "scrape_tweets(year,months_31, 31)"
   ]
  },
  {
   "cell_type": "code",
   "execution_count": null,
   "metadata": {},
   "outputs": [],
   "source": []
  }
 ],
 "metadata": {
  "kernelspec": {
   "display_name": "thesis-hw276cHk",
   "language": "python",
   "name": "python3"
  },
  "language_info": {
   "codemirror_mode": {
    "name": "ipython",
    "version": 3
   },
   "file_extension": ".py",
   "mimetype": "text/x-python",
   "name": "python",
   "nbconvert_exporter": "python",
   "pygments_lexer": "ipython3",
   "version": "3.11.5"
  }
 },
 "nbformat": 4,
 "nbformat_minor": 2
}
