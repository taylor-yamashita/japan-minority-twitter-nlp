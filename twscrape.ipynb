{
 "cells": [
  {
   "cell_type": "code",
   "execution_count": 3,
   "metadata": {},
   "outputs": [],
   "source": [
    "import os\n",
    "import random\n",
    "from typing import List\n",
    "import twscrape"
   ]
  },
  {
   "cell_type": "code",
   "execution_count": 4,
   "metadata": {},
   "outputs": [],
   "source": [
    "# # set up directories, e.g. for 2008\n",
    "\n",
    "# year = 2008\n",
    "# os.mkdir(str(year))\n",
    "\n",
    "# # single digit month\n",
    "# for i in range(1,10):\n",
    "#     path = str(year) + \"/\" + str(year) + \"-0\" + str(i)\n",
    "#     os.mkdir(path) \n",
    "\n",
    "# # double digit month\n",
    "# for j in range(10,13):\n",
    "#     path = str(year) + \"/\" + str(year) + \"-\" + str(j)\n",
    "#     os.mkdir(path) "
   ]
  },
  {
   "cell_type": "code",
   "execution_count": 5,
   "metadata": {},
   "outputs": [],
   "source": [
    "# # remove directories if needed\n",
    "# !rm -rf 2008/"
   ]
  },
  {
   "cell_type": "code",
   "execution_count": 6,
   "metadata": {},
   "outputs": [],
   "source": [
    "# collect tweets for 10 randomly sampled days of month at randomly sampled time of day\n",
    "\n",
    "def scrape_tweets(year: str, months: List[str], days_in_month: int):\n",
    "    range_days = list(range(1,days_in_month+1))\n",
    "    range_times = list(range(0,24))\n",
    "\n",
    "    # sample 10 random days and times of day for each month\n",
    "    for m in months: \n",
    "        month_path = year + \"/\" + year + \"-\" + m\n",
    "        days = sorted(random.sample(range_days, k=10))   # random days of month (no replacement)\n",
    "        times = random.choices(range_times, k=10)   # random hours of day (replacement)\n",
    "        \n",
    "        # scrape tweets for the 10 picked days and times\n",
    "        for t in range(10):     \n",
    "            day = \"0\" + str(days[t]) if days[t] < 10 else str(days[t])\n",
    "            time = \"0\" + str(times[t]) if times[t] < 10 else str(times[t])\n",
    "            day_path = month_path + \"/\" + year + \"-\" + m + \"-\" + day + \".txt\"\n",
    "            command = 'twscrape search \"since:' + year + '-' + m + '-' + day + '_' + time + ':00:00_UTC lang:ja\"　> ' + day_path + ' --limit=4500'\n",
    "            os.system(command)"
   ]
  },
  {
   "cell_type": "code",
   "execution_count": 7,
   "metadata": {},
   "outputs": [],
   "source": [
    "# # for a full year\n",
    "# year = \"2015\"\n",
    "\n",
    "# # 28 day months\n",
    "# scrape_tweets(year,[\"02\"], 28)    # omit leap year 29th days for simplicity...?\n",
    "\n",
    "# # 30 day months\n",
    "# months_30 = [\"04\",\"06\",\"09\",\"11\"]\n",
    "# scrape_tweets(year,months_30, 30)\n",
    "\n",
    "# # 31 day months\n",
    "# months_31 = [\"01\",\"03\",\"05\",\"07\",\"08\",\"10\",\"12\"]\n",
    "# scrape_tweets(year,months_31, 31)"
   ]
  },
  {
   "cell_type": "code",
   "execution_count": 8,
   "metadata": {},
   "outputs": [
    {
     "ename": "TypeError",
     "evalue": "unsupported operand type(s) for +: 'int' and 'str'",
     "output_type": "error",
     "traceback": [
      "\u001b[0;31m---------------------------------------------------------------------------\u001b[0m",
      "\u001b[0;31mTypeError\u001b[0m                                 Traceback (most recent call last)",
      "\u001b[1;32m/Users/taylory/Desktop/*Thesis/thesis/twscrape.ipynb Cell 6\u001b[0m line \u001b[0;36m6\n\u001b[1;32m      <a href='vscode-notebook-cell:/Users/taylory/Desktop/%2AThesis/thesis/twscrape.ipynb#W5sZmlsZQ%3D%3D?line=3'>4</a>\u001b[0m \u001b[39m# 30 day months\u001b[39;00m\n\u001b[1;32m      <a href='vscode-notebook-cell:/Users/taylory/Desktop/%2AThesis/thesis/twscrape.ipynb#W5sZmlsZQ%3D%3D?line=4'>5</a>\u001b[0m months_30 \u001b[39m=\u001b[39m [\u001b[39m\"\u001b[39m\u001b[39m04\u001b[39m\u001b[39m\"\u001b[39m,\u001b[39m\"\u001b[39m\u001b[39m06\u001b[39m\u001b[39m\"\u001b[39m,\u001b[39m\"\u001b[39m\u001b[39m09\u001b[39m\u001b[39m\"\u001b[39m,\u001b[39m\"\u001b[39m\u001b[39m11\u001b[39m\u001b[39m\"\u001b[39m]\n\u001b[0;32m----> <a href='vscode-notebook-cell:/Users/taylory/Desktop/%2AThesis/thesis/twscrape.ipynb#W5sZmlsZQ%3D%3D?line=5'>6</a>\u001b[0m scrape_tweets(year,months_30, \u001b[39m30\u001b[39;49m)\n\u001b[1;32m      <a href='vscode-notebook-cell:/Users/taylory/Desktop/%2AThesis/thesis/twscrape.ipynb#W5sZmlsZQ%3D%3D?line=7'>8</a>\u001b[0m \u001b[39m# 31 day months\u001b[39;00m\n\u001b[1;32m      <a href='vscode-notebook-cell:/Users/taylory/Desktop/%2AThesis/thesis/twscrape.ipynb#W5sZmlsZQ%3D%3D?line=8'>9</a>\u001b[0m months_31 \u001b[39m=\u001b[39m [\u001b[39m\"\u001b[39m\u001b[39m05\u001b[39m\u001b[39m\"\u001b[39m,\u001b[39m\"\u001b[39m\u001b[39m07\u001b[39m\u001b[39m\"\u001b[39m,\u001b[39m\"\u001b[39m\u001b[39m08\u001b[39m\u001b[39m\"\u001b[39m,\u001b[39m\"\u001b[39m\u001b[39m10\u001b[39m\u001b[39m\"\u001b[39m,\u001b[39m\"\u001b[39m\u001b[39m12\u001b[39m\u001b[39m\"\u001b[39m]\n",
      "\u001b[1;32m/Users/taylory/Desktop/*Thesis/thesis/twscrape.ipynb Cell 6\u001b[0m line \u001b[0;36m9\n\u001b[1;32m      <a href='vscode-notebook-cell:/Users/taylory/Desktop/%2AThesis/thesis/twscrape.ipynb#W5sZmlsZQ%3D%3D?line=6'>7</a>\u001b[0m \u001b[39m# sample 10 random days and times of day for each month\u001b[39;00m\n\u001b[1;32m      <a href='vscode-notebook-cell:/Users/taylory/Desktop/%2AThesis/thesis/twscrape.ipynb#W5sZmlsZQ%3D%3D?line=7'>8</a>\u001b[0m \u001b[39mfor\u001b[39;00m m \u001b[39min\u001b[39;00m months: \n\u001b[0;32m----> <a href='vscode-notebook-cell:/Users/taylory/Desktop/%2AThesis/thesis/twscrape.ipynb#W5sZmlsZQ%3D%3D?line=8'>9</a>\u001b[0m     month_path \u001b[39m=\u001b[39m year \u001b[39m+\u001b[39;49m \u001b[39m\"\u001b[39;49m\u001b[39m/\u001b[39;49m\u001b[39m\"\u001b[39;49m \u001b[39m+\u001b[39m year \u001b[39m+\u001b[39m \u001b[39m\"\u001b[39m\u001b[39m-\u001b[39m\u001b[39m\"\u001b[39m \u001b[39m+\u001b[39m m\n\u001b[1;32m     <a href='vscode-notebook-cell:/Users/taylory/Desktop/%2AThesis/thesis/twscrape.ipynb#W5sZmlsZQ%3D%3D?line=9'>10</a>\u001b[0m     days \u001b[39m=\u001b[39m \u001b[39msorted\u001b[39m(random\u001b[39m.\u001b[39msample(range_days, k\u001b[39m=\u001b[39m\u001b[39m10\u001b[39m))   \u001b[39m# random days of month (no replacement)\u001b[39;00m\n\u001b[1;32m     <a href='vscode-notebook-cell:/Users/taylory/Desktop/%2AThesis/thesis/twscrape.ipynb#W5sZmlsZQ%3D%3D?line=10'>11</a>\u001b[0m     times \u001b[39m=\u001b[39m random\u001b[39m.\u001b[39mchoices(range_times, k\u001b[39m=\u001b[39m\u001b[39m10\u001b[39m)   \u001b[39m# random hours of day (replacement)\u001b[39;00m\n",
      "\u001b[0;31mTypeError\u001b[0m: unsupported operand type(s) for +: 'int' and 'str'"
     ]
    }
   ],
   "source": [
    "# right now we were partway through 2015\n",
    "year = \"2015\"\n",
    "\n",
    "# 30 day months\n",
    "months_30 = [\"04\",\"06\",\"09\",\"11\"]\n",
    "scrape_tweets(year,months_30, 30)\n",
    "\n",
    "# 31 day months\n",
    "months_31 = [\"05\",\"07\",\"08\",\"10\",\"12\"]\n",
    "scrape_tweets(year,months_31, 31)"
   ]
  },
  {
   "cell_type": "code",
   "execution_count": null,
   "metadata": {},
   "outputs": [],
   "source": []
  }
 ],
 "metadata": {
  "kernelspec": {
   "display_name": "thesis-hw276cHk",
   "language": "python",
   "name": "python3"
  },
  "language_info": {
   "codemirror_mode": {
    "name": "ipython",
    "version": 3
   },
   "file_extension": ".py",
   "mimetype": "text/x-python",
   "name": "python",
   "nbconvert_exporter": "python",
   "pygments_lexer": "ipython3",
   "version": "3.11.5"
  }
 },
 "nbformat": 4,
 "nbformat_minor": 2
}
