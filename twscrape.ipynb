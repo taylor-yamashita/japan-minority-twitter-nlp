{
 "cells": [
  {
   "cell_type": "code",
   "execution_count": 2,
   "metadata": {},
   "outputs": [],
   "source": [
    "import os\n",
    "import random\n",
    "from typing import List\n",
    "import twscrape"
   ]
  },
  {
   "cell_type": "code",
   "execution_count": 11,
   "metadata": {},
   "outputs": [],
   "source": [
    "# set up directories\n",
    "\n",
    "keyword_eng = \"zainichi\"\n",
    "year = \"2022\"\n",
    "os.mkdir(keyword_eng + \"_\" + str(year))\n",
    "\n",
    "# single digit month\n",
    "for i in range(1,10):\n",
    "    path = keyword_eng + \"_\" + str(year) + \"/\" + str(year) + \"-0\" + str(i)\n",
    "    os.mkdir(path) \n",
    "\n",
    "# double digit month\n",
    "for j in range(10,13):\n",
    "    path = keyword_eng + \"_\" + str(year) + \"/\" + str(year) + \"-\" + str(j)\n",
    "    os.mkdir(path) "
   ]
  },
  {
   "cell_type": "code",
   "execution_count": 5,
   "metadata": {},
   "outputs": [],
   "source": [
    "# remove directories if needed\n",
    "# !rm -rf 2008/"
   ]
  },
  {
   "cell_type": "code",
   "execution_count": 9,
   "metadata": {},
   "outputs": [],
   "source": [
    "# collect tweets for 10 randomly sampled days of month at randomly sampled time of day\n",
    "def scrape_tweets(year: str, months: List[str], days_in_month: int, keyword: str):\n",
    "    range_days = list(range(1,days_in_month+1))\n",
    "    range_times = list(range(0,24))\n",
    "\n",
    "    # sample 10 random days and times of day for each month\n",
    "    for m in months: \n",
    "        month_path = year + \"/\" + year + \"-\" + m\n",
    "        days = sorted(random.sample(range_days, k=10))   # random days of month (no replacement)\n",
    "        times = random.choices(range_times, k=10)   # random hours of day (replacement)\n",
    "        \n",
    "        # scrape tweets for the 10 picked days and times\n",
    "        for t in range(10):     \n",
    "            day = \"0\" + str(days[t]) if days[t] < 10 else str(days[t])\n",
    "            time = \"0\" + str(times[t]) if times[t] < 10 else str(times[t])\n",
    "            day_path = month_path + \"/\" + year + \"-\" + m + \"-\" + day + \".txt\"\n",
    "            command = 'twscrape search \"' + keyword + ' since:' + year + '-' + m + '-' + day + '_' + time + ':00:00_UTC lang:ja\"　> ' + day_path + ' --limit=4500'\n",
    "            # os.system(command)\n",
    "            print(command)"
   ]
  },
  {
   "cell_type": "code",
   "execution_count": 12,
   "metadata": {},
   "outputs": [
    {
     "name": "stderr",
     "output_type": "stream",
     "text": [
      "sh: 2022/2022-02/2022-02-07.txt: No such file or directory\n",
      "sh: 2022/2022-02/2022-02-10.txt: No such file or directory\n",
      "sh: 2022/2022-02/2022-02-14.txt: No such file or directory\n",
      "sh: 2022/2022-02/2022-02-15.txt: No such file or directory\n",
      "sh: 2022/2022-02/2022-02-21.txt: No such file or directory\n",
      "sh: 2022/2022-02/2022-02-23.txt: No such file or directory\n",
      "sh: 2022/2022-02/2022-02-24.txt: No such file or directory\n",
      "sh: 2022/2022-02/2022-02-25.txt: No such file or directory\n",
      "sh: 2022/2022-02/2022-02-26.txt: No such file or directory\n",
      "sh: 2022/2022-02/2022-02-27.txt: No such file or directory\n"
     ]
    },
    {
     "ename": "TypeError",
     "evalue": "scrape_tweets() missing 1 required positional argument: 'keyword'",
     "output_type": "error",
     "traceback": [
      "\u001b[0;31m---------------------------------------------------------------------------\u001b[0m",
      "\u001b[0;31mTypeError\u001b[0m                                 Traceback (most recent call last)",
      "Cell \u001b[0;32mIn[12], line 10\u001b[0m\n\u001b[1;32m      8\u001b[0m \u001b[38;5;66;03m# 30 day months\u001b[39;00m\n\u001b[1;32m      9\u001b[0m months_30 \u001b[38;5;241m=\u001b[39m [\u001b[38;5;124m\"\u001b[39m\u001b[38;5;124m04\u001b[39m\u001b[38;5;124m\"\u001b[39m,\u001b[38;5;124m\"\u001b[39m\u001b[38;5;124m06\u001b[39m\u001b[38;5;124m\"\u001b[39m,\u001b[38;5;124m\"\u001b[39m\u001b[38;5;124m09\u001b[39m\u001b[38;5;124m\"\u001b[39m,\u001b[38;5;124m\"\u001b[39m\u001b[38;5;124m11\u001b[39m\u001b[38;5;124m\"\u001b[39m]\n\u001b[0;32m---> 10\u001b[0m \u001b[43mscrape_tweets\u001b[49m\u001b[43m(\u001b[49m\u001b[43myear\u001b[49m\u001b[43m,\u001b[49m\u001b[43mmonths_30\u001b[49m\u001b[43m,\u001b[49m\u001b[43m \u001b[49m\u001b[38;5;241;43m30\u001b[39;49m\u001b[43m)\u001b[49m\n\u001b[1;32m     12\u001b[0m \u001b[38;5;66;03m# 31 day months\u001b[39;00m\n\u001b[1;32m     13\u001b[0m months_31 \u001b[38;5;241m=\u001b[39m [\u001b[38;5;124m\"\u001b[39m\u001b[38;5;124m01\u001b[39m\u001b[38;5;124m\"\u001b[39m,\u001b[38;5;124m\"\u001b[39m\u001b[38;5;124m03\u001b[39m\u001b[38;5;124m\"\u001b[39m,\u001b[38;5;124m\"\u001b[39m\u001b[38;5;124m05\u001b[39m\u001b[38;5;124m\"\u001b[39m,\u001b[38;5;124m\"\u001b[39m\u001b[38;5;124m07\u001b[39m\u001b[38;5;124m\"\u001b[39m,\u001b[38;5;124m\"\u001b[39m\u001b[38;5;124m08\u001b[39m\u001b[38;5;124m\"\u001b[39m,\u001b[38;5;124m\"\u001b[39m\u001b[38;5;124m10\u001b[39m\u001b[38;5;124m\"\u001b[39m,\u001b[38;5;124m\"\u001b[39m\u001b[38;5;124m12\u001b[39m\u001b[38;5;124m\"\u001b[39m]\n",
      "\u001b[0;31mTypeError\u001b[0m: scrape_tweets() missing 1 required positional argument: 'keyword'"
     ]
    }
   ],
   "source": [
    "# for a full year\n",
    "keyword = \"在日コリアン\"\n",
    "year = \"2022\"\n",
    "\n",
    "# 28 day months\n",
    "scrape_tweets(year,[\"02\"], 28, keyword)    # omit leap year 29th days for simplicity...?\n",
    "\n",
    "# 30 day months\n",
    "months_30 = [\"04\",\"06\",\"09\",\"11\"]\n",
    "scrape_tweets(year,months_30, 30, keyword)\n",
    "\n",
    "# 31 day months\n",
    "months_31 = [\"01\",\"03\",\"05\",\"07\",\"08\",\"10\",\"12\"]\n",
    "scrape_tweets(year,months_31, 31, keyword)"
   ]
  },
  {
   "cell_type": "code",
   "execution_count": 17,
   "metadata": {},
   "outputs": [],
   "source": [
    "# concatenate .txt files into one file per month\n",
    "year = \"2022\"\n",
    "for root, dirs, files in os.walk(\"./\" + year):\n",
    "    for name in dirs:\n",
    "      month_path = os.path.join(root, name)\n",
    "      os.system(\"cat \" + month_path + \"/*.txt > \" + name + \".txt\")"
   ]
  },
  {
   "cell_type": "code",
   "execution_count": 22,
   "metadata": {},
   "outputs": [
    {
     "data": {
      "text/plain": [
       "0"
      ]
     },
     "execution_count": 22,
     "metadata": {},
     "output_type": "execute_result"
    }
   ],
   "source": [
    "# concatenate month .txt files into one file for the year\n",
    "os.system(\"cat \" + year + \"-*.txt > \" + keyword + \"_\" + year + \"-all.txt\")"
   ]
  }
 ],
 "metadata": {
  "kernelspec": {
   "display_name": "thesis-hw276cHk",
   "language": "python",
   "name": "python3"
  },
  "language_info": {
   "codemirror_mode": {
    "name": "ipython",
    "version": 3
   },
   "file_extension": ".py",
   "mimetype": "text/x-python",
   "name": "python",
   "nbconvert_exporter": "python",
   "pygments_lexer": "ipython3",
   "version": "3.11.5"
  }
 },
 "nbformat": 4,
 "nbformat_minor": 2
}
