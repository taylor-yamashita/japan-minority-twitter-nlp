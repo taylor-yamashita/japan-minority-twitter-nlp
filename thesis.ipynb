{
 "cells": [
  {
   "cell_type": "code",
   "execution_count": 3,
   "metadata": {},
   "outputs": [
    {
     "ename": "ImportError",
     "evalue": "dlopen(/usr/local/Caskroom/miniforge/base/envs/thesis/lib/python3.12/site-packages/MeCab/_MeCab.cpython-312-darwin.so, 0x0002): tried: '/usr/local/Caskroom/miniforge/base/envs/thesis/lib/python3.12/site-packages/MeCab/_MeCab.cpython-312-darwin.so' (mach-o file, but is an incompatible architecture (have 'x86_64', need 'arm64')), '/System/Volumes/Preboot/Cryptexes/OS/usr/local/Caskroom/miniforge/base/envs/thesis/lib/python3.12/site-packages/MeCab/_MeCab.cpython-312-darwin.so' (no such file), '/usr/local/Caskroom/miniforge/base/envs/thesis/lib/python3.12/site-packages/MeCab/_MeCab.cpython-312-darwin.so' (mach-o file, but is an incompatible architecture (have 'x86_64', need 'arm64'))",
     "output_type": "error",
     "traceback": [
      "\u001b[0;31m---------------------------------------------------------------------------\u001b[0m",
      "\u001b[0;31mImportError\u001b[0m                               Traceback (most recent call last)",
      "\u001b[1;32m/Users/taylory/Desktop/*Thesis/thesis/thesis.ipynb Cell 1\u001b[0m line \u001b[0;36m3\n\u001b[1;32m      <a href='vscode-notebook-cell:/Users/taylory/Desktop/%2AThesis/thesis/thesis.ipynb#W0sZmlsZQ%3D%3D?line=0'>1</a>\u001b[0m \u001b[39m# import packages\u001b[39;00m\n\u001b[1;32m      <a href='vscode-notebook-cell:/Users/taylory/Desktop/%2AThesis/thesis/thesis.ipynb#W0sZmlsZQ%3D%3D?line=1'>2</a>\u001b[0m \u001b[39mimport\u001b[39;00m \u001b[39mjson\u001b[39;00m\n\u001b[0;32m----> <a href='vscode-notebook-cell:/Users/taylory/Desktop/%2AThesis/thesis/thesis.ipynb#W0sZmlsZQ%3D%3D?line=2'>3</a>\u001b[0m \u001b[39mimport\u001b[39;00m \u001b[39mMeCab\u001b[39;00m\n\u001b[1;32m      <a href='vscode-notebook-cell:/Users/taylory/Desktop/%2AThesis/thesis/thesis.ipynb#W0sZmlsZQ%3D%3D?line=3'>4</a>\u001b[0m \u001b[39mimport\u001b[39;00m \u001b[39mdemoji\u001b[39;00m\n\u001b[1;32m      <a href='vscode-notebook-cell:/Users/taylory/Desktop/%2AThesis/thesis/thesis.ipynb#W0sZmlsZQ%3D%3D?line=4'>5</a>\u001b[0m \u001b[39mimport\u001b[39;00m \u001b[39mre\u001b[39;00m\n",
      "File \u001b[0;32m/usr/local/Caskroom/miniforge/base/envs/thesis/lib/python3.12/site-packages/MeCab/__init__.py:10\u001b[0m\n\u001b[1;32m      1\u001b[0m \u001b[39m# Second-level Python wrappers for the SWIG-generated MeCab interface.\u001b[39;00m\n\u001b[1;32m      2\u001b[0m \u001b[39m# This file bypasses and replaces the SWIG-generated MeCab.py.\u001b[39;00m\n\u001b[1;32m      3\u001b[0m \u001b[39m# Since we use SWIG's `-builtin` mode, it does almost nothing that we\u001b[39;00m\n\u001b[0;32m   (...)\u001b[0m\n\u001b[1;32m      6\u001b[0m \u001b[39m# modifications to MeCab.i, but then we would have to diverge that file\u001b[39;00m\n\u001b[1;32m      7\u001b[0m \u001b[39m# further from upstream.\u001b[39;00m\n\u001b[1;32m      9\u001b[0m \u001b[39mfrom\u001b[39;00m \u001b[39m__future__\u001b[39;00m \u001b[39mimport\u001b[39;00m absolute_import, print_function\n\u001b[0;32m---> 10\u001b[0m \u001b[39mfrom\u001b[39;00m \u001b[39m.\u001b[39;00m \u001b[39mimport\u001b[39;00m _MeCab\n\u001b[1;32m     12\u001b[0m \u001b[39mimport\u001b[39;00m \u001b[39mos\u001b[39;00m\n\u001b[1;32m     13\u001b[0m \u001b[39mimport\u001b[39;00m \u001b[39msys\u001b[39;00m\n",
      "\u001b[0;31mImportError\u001b[0m: dlopen(/usr/local/Caskroom/miniforge/base/envs/thesis/lib/python3.12/site-packages/MeCab/_MeCab.cpython-312-darwin.so, 0x0002): tried: '/usr/local/Caskroom/miniforge/base/envs/thesis/lib/python3.12/site-packages/MeCab/_MeCab.cpython-312-darwin.so' (mach-o file, but is an incompatible architecture (have 'x86_64', need 'arm64')), '/System/Volumes/Preboot/Cryptexes/OS/usr/local/Caskroom/miniforge/base/envs/thesis/lib/python3.12/site-packages/MeCab/_MeCab.cpython-312-darwin.so' (no such file), '/usr/local/Caskroom/miniforge/base/envs/thesis/lib/python3.12/site-packages/MeCab/_MeCab.cpython-312-darwin.so' (mach-o file, but is an incompatible architecture (have 'x86_64', need 'arm64'))"
     ]
    }
   ],
   "source": [
    "# import packages\n",
    "import json\n",
    "import MeCab\n",
    "import demoji\n",
    "import re\n",
    "from stop_words import stop_words\n",
    "import gensim, logging"
   ]
  },
  {
   "cell_type": "code",
   "execution_count": 24,
   "metadata": {},
   "outputs": [
    {
     "name": "stdout",
     "output_type": "stream",
     "text": [
      "Collecting package metadata (current_repodata.json): done\n",
      "Solving environment: unsuccessful initial attempt using frozen solve. Retrying with flexible solve.\n",
      "Collecting package metadata (repodata.json): done\n",
      "Solving environment: unsuccessful initial attempt using frozen solve. Retrying with flexible solve.\n",
      "\n",
      "PackagesNotFoundError: The following packages are not available from current channels:\n",
      "\n",
      "  - mecab\n",
      "\n",
      "Current channels:\n",
      "\n",
      "  - https://conda.anaconda.org/conda-forge/osx-arm64\n",
      "  - https://conda.anaconda.org/conda-forge/noarch\n",
      "\n",
      "To search for alternate channels that may provide the conda package you're\n",
      "looking for, navigate to\n",
      "\n",
      "    https://anaconda.org\n",
      "\n",
      "and use the search bar at the top of the page.\n",
      "\n",
      "\n",
      "\n",
      "Note: you may need to restart the kernel to use updated packages.\n"
     ]
    }
   ],
   "source": [
    "# !pip3 download mecab-python3\n",
    "# !cd /Users/taylory/Desktop/*Thesis/thesis/\n",
    "# !tar xfv mecab-python3-1.0.5.tar.gz\n",
    "# !cd mecab-python3-1.0.5    \n",
    "# !brew install mecab\n",
    "# !python3 setup.py build\n",
    "# !python3 setup.py install\n",
    "# !pip3 list\n"
   ]
  },
  {
   "cell_type": "code",
   "execution_count": 16,
   "metadata": {},
   "outputs": [],
   "source": [
    "!pip3 uninstall mecab-python3"
   ]
  },
  {
   "cell_type": "code",
   "execution_count": 2,
   "metadata": {},
   "outputs": [
    {
     "name": "stdout",
     "output_type": "stream",
     "text": [
      "/usr/local/bin/MeCab\n"
     ]
    }
   ],
   "source": [
    "!install_name_tool -change \"/usr/lib/libmecab.dylib\" /usr/local/lib/libmecab.dylib /usr/local/Caskroom/miniforge/base/envs/thesis/lib/python3.12/site-packages/MeCab/_MeCab.cpython-312-darwin.so"
   ]
  },
  {
   "cell_type": "code",
   "execution_count": null,
   "metadata": {},
   "outputs": [],
   "source": [
    "ARCHFLAGS=\"-arch arm64\" pip3 install mecab  --compile --no-cache-dir\n",
    "\n"
   ]
  }
 ],
 "metadata": {
  "kernelspec": {
   "display_name": "thesis",
   "language": "python",
   "name": "python3"
  },
  "language_info": {
   "codemirror_mode": {
    "name": "ipython",
    "version": 3
   },
   "file_extension": ".py",
   "mimetype": "text/x-python",
   "name": "python",
   "nbconvert_exporter": "python",
   "pygments_lexer": "ipython3",
   "version": "3.12.0"
  }
 },
 "nbformat": 4,
 "nbformat_minor": 2
}
