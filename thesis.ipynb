{
 "cells": [
  {
   "cell_type": "markdown",
   "metadata": {},
   "source": [
    "#### Setup"
   ]
  },
  {
   "cell_type": "code",
   "execution_count": 21,
   "metadata": {},
   "outputs": [],
   "source": [
    "# tokenization\n",
    "import json\n",
    "import MeCab\n",
    "import demoji\n",
    "import mojimoji\n",
    "import re\n",
    "from stopwords_ja import stop_words\n",
    "from stopwords_slothlib import stop_words_2\n",
    "\n",
    "# word2vec\n",
    "import gensim, logging\n",
    "\n",
    "# plotting\n",
    "from sklearn.manifold import TSNE               \n",
    "import numpy as np                \n",
    "import matplotlib.pyplot as plt\n",
    "import matplotlib.font_manager as fm"
   ]
  },
  {
   "cell_type": "markdown",
   "metadata": {},
   "source": [
    "#### Clean and Tokenize Tweets"
   ]
  },
  {
   "cell_type": "code",
   "execution_count": null,
   "metadata": {},
   "outputs": [],
   "source": [
    "# tokenize with mecab\n",
    "mt = MeCab.Tagger(\"-d /usr/local/lib/mecab/dic/mecab-ipadic-neologd\")\n",
    "\n",
    "# dataset we are working with\n",
    "year = \"2015\""
   ]
  },
  {
   "cell_type": "code",
   "execution_count": null,
   "metadata": {},
   "outputs": [],
   "source": [
    "# preprocess tweet content\n",
    "def preprocess(text):    \n",
    "    # from https://colab.research.google.com/drive/1bX-JyY4xmCm_RFkJg3QNcthUvEJaBghP\n",
    "    # handle half-width/full-width chars, jp punctuation\n",
    "    text = text.lower()\n",
    "    text = mojimoji.zen_to_han(text, kana=False)\n",
    "    text = mojimoji.han_to_zen(text, digit=False, ascii=False)\n",
    "    text = text.translate(str.maketrans({\n",
    "        '!': '！', '\"': '”', '#': '＃', '$': '＄', '%': '％', '&': '＆', '\\'': '’',\n",
    "        '(': '（', ')': '）', '*': '＊', '+': '＋', ',': '，', '-': '−', '.': '．',\n",
    "        '/': '／', ':': '：', ';': '；', '<': '＜', '=': '＝', '>': '＞', '?': '？',\n",
    "        '@': '＠', '[': '［', '\\\\': '＼', ']': '］', '^': '＾', '_': '＿', '`': '｀',\n",
    "        '{': '｛', '|': '｜', '}': '｝'\n",
    "        }))\n",
    "    zenkaku_leftsingle = b'\\xe2\\x80\\x98'.decode('utf-8')\n",
    "    text = re.sub('[’´｀]', zenkaku_leftsingle, text)\n",
    "    \n",
    "    # remove twitter-specific strings (handles, hashtags, etc.)\n",
    "    text = re.sub(\"@([a-zA-Z0-9_]+)\", \"\", text)\n",
    "    text = re.sub(\"#([a-zA-Z0-9_ぁ-んァ-ン一-龠]+)\", \"\", text)\n",
    "    text = re.sub(\"http[s]?://(?:[a-zA-Z]|[0-9]|[$-_@.&+]|[!*\\(\\),]|(?:%[0-9a-fA-F][0-9a-fA-F]))+\", \"\", text)\n",
    "\n",
    "    # remove emojis\n",
    "    text = demoji.replace(text, \"\")\n",
    "    text = re.sub(\"([\\uD83E-\\uD83E])+\", \"\", text)\n",
    "\n",
    "    # remove punctuation (eng + jp), newlines\n",
    "    text = re.sub(\"(\\n)+\", \"\", text)\n",
    "    text = re.sub(\"([-.,;\\\"\\'!?~@#$%^&*():\\{\\}\\[\\]\\/\\\\\\\\]+)\", \"\", text)\n",
    "    text = re.sub(\"([\\uFF01-\\uFF0F\\uFF1A-\\uFF20\\uFF3B-\\uFF40\\uFF5B-\\uFF65\\uFF9E-\\uFFEE\\u3000-\\u303F]+)\", \"\", text)\n",
    "    text = re.sub(\"([\\u25A0-\\u25FF])+\", \"\", text)\n",
    "    text = re.sub(\"([\\u2600-\\u26FF])+\", \"\", text)\n",
    "\n",
    "    return text"
   ]
  },
  {
   "cell_type": "code",
   "execution_count": null,
   "metadata": {},
   "outputs": [],
   "source": [
    "# tokenize cleaned tweets into words\n",
    "def mecab_tokenize(text):\n",
    "    parsed = mt.parseToNode(text)\n",
    "    components = []\n",
    "    while parsed:\n",
    "        components.append(parsed.surface)\n",
    "        parsed = parsed.next\n",
    "    \n",
    "    # remove stopwords\n",
    "    components = [token for token in components if ((not token in stop_words) and (not token in stop_words_2))]\n",
    "    \n",
    "    return components"
   ]
  },
  {
   "cell_type": "code",
   "execution_count": 22,
   "metadata": {},
   "outputs": [],
   "source": [
    "# store results and exception tweets\n",
    "tokens = []\n",
    "retweets = []\n",
    "not_parsed = []\n",
    "\n",
    "# iterate through tweets, preprocess and tokenize\n",
    "with open(year + '-all.txt', 'r') as file:\n",
    "    for line in file:\n",
    "        tweet = json.loads(line)\n",
    "        if line == None or tweet == None:\n",
    "            not_parsed.append((line, tweet))\n",
    "            print(\"Parsing error: \", line, tweet)\n",
    "        elif tweet['retweetedTweet']:\n",
    "            retweets.append(tweet)\n",
    "            print(\"Retweet: \", tweet['id'])\n",
    "        else: \n",
    "            tweet_text = tweet['rawContent'] # note: need other prop for over 140 char?\n",
    "            # preprocess text\n",
    "            processed = preprocess(tweet_text)            \n",
    "            # tokenize with mecab\n",
    "            components = mecab_tokenize(processed)\n",
    "            tokens.append(components)\n",
    "\n",
    "file.close()"
   ]
  },
  {
   "cell_type": "code",
   "execution_count": null,
   "metadata": {},
   "outputs": [],
   "source": []
  },
  {
   "cell_type": "code",
   "execution_count": 14,
   "metadata": {},
   "outputs": [
    {
     "name": "stdout",
     "output_type": "stream",
     "text": [
      "0\n",
      "0\n"
     ]
    }
   ],
   "source": [
    "# did we get retweets, or did twscrape filter them out?\n",
    "print(len(retweets))\n",
    "\n",
    "# did any tweets fail parsing?\n",
    "print(len(not_parsed))"
   ]
  },
  {
   "cell_type": "markdown",
   "metadata": {},
   "source": [
    "#### Word2Vec"
   ]
  },
  {
   "cell_type": "code",
   "execution_count": 23,
   "metadata": {},
   "outputs": [
    {
     "name": "stderr",
     "output_type": "stream",
     "text": [
      "2023-12-06 18:36:06,552 : INFO : collecting all words and their counts\n",
      "2023-12-06 18:36:06,565 : INFO : PROGRESS: at sentence #0, processed 0 words, keeping 0 word types\n",
      "2023-12-06 18:36:06,633 : INFO : PROGRESS: at sentence #10000, processed 103714 words, keeping 24397 word types\n",
      "2023-12-06 18:36:06,692 : INFO : PROGRESS: at sentence #20000, processed 210368 words, keeping 34677 word types\n",
      "2023-12-06 18:36:06,737 : INFO : PROGRESS: at sentence #30000, processed 308540 words, keeping 46082 word types\n",
      "2023-12-06 18:36:06,778 : INFO : PROGRESS: at sentence #40000, processed 411685 words, keeping 55389 word types\n",
      "2023-12-06 18:36:06,822 : INFO : PROGRESS: at sentence #50000, processed 513512 words, keeping 63516 word types\n",
      "2023-12-06 18:36:06,862 : INFO : PROGRESS: at sentence #60000, processed 612734 words, keeping 66317 word types\n",
      "2023-12-06 18:36:06,918 : INFO : PROGRESS: at sentence #70000, processed 712477 words, keeping 67611 word types\n",
      "2023-12-06 18:36:06,960 : INFO : PROGRESS: at sentence #80000, processed 816611 words, keeping 68479 word types\n",
      "2023-12-06 18:36:07,011 : INFO : PROGRESS: at sentence #90000, processed 939671 words, keeping 77667 word types\n",
      "2023-12-06 18:36:07,054 : INFO : PROGRESS: at sentence #100000, processed 1039355 words, keeping 83730 word types\n",
      "2023-12-06 18:36:07,115 : INFO : PROGRESS: at sentence #110000, processed 1139075 words, keeping 86880 word types\n",
      "2023-12-06 18:36:07,173 : INFO : PROGRESS: at sentence #120000, processed 1238843 words, keeping 91970 word types\n",
      "2023-12-06 18:36:07,217 : INFO : PROGRESS: at sentence #130000, processed 1337169 words, keeping 96630 word types\n",
      "2023-12-06 18:36:07,258 : INFO : PROGRESS: at sentence #140000, processed 1435459 words, keeping 98746 word types\n",
      "2023-12-06 18:36:07,316 : INFO : PROGRESS: at sentence #150000, processed 1531529 words, keeping 103507 word types\n",
      "2023-12-06 18:36:07,357 : INFO : PROGRESS: at sentence #160000, processed 1623965 words, keeping 108254 word types\n",
      "2023-12-06 18:36:07,399 : INFO : PROGRESS: at sentence #170000, processed 1720160 words, keeping 113240 word types\n",
      "2023-12-06 18:36:07,445 : INFO : PROGRESS: at sentence #180000, processed 1821365 words, keeping 118696 word types\n",
      "2023-12-06 18:36:07,491 : INFO : PROGRESS: at sentence #190000, processed 1924784 words, keeping 123915 word types\n",
      "2023-12-06 18:36:07,567 : INFO : PROGRESS: at sentence #200000, processed 2027408 words, keeping 128707 word types\n",
      "2023-12-06 18:36:07,620 : INFO : PROGRESS: at sentence #210000, processed 2133403 words, keeping 133800 word types\n",
      "2023-12-06 18:36:07,668 : INFO : PROGRESS: at sentence #220000, processed 2240169 words, keeping 138663 word types\n",
      "2023-12-06 18:36:07,716 : INFO : PROGRESS: at sentence #230000, processed 2344348 words, keeping 143458 word types\n",
      "2023-12-06 18:36:07,797 : INFO : PROGRESS: at sentence #240000, processed 2451337 words, keeping 148200 word types\n",
      "2023-12-06 18:36:07,840 : INFO : PROGRESS: at sentence #250000, processed 2554824 words, keeping 152540 word types\n",
      "2023-12-06 18:36:07,882 : INFO : PROGRESS: at sentence #260000, processed 2658526 words, keeping 156780 word types\n",
      "2023-12-06 18:36:07,924 : INFO : PROGRESS: at sentence #270000, processed 2762859 words, keeping 161011 word types\n",
      "2023-12-06 18:36:07,977 : INFO : PROGRESS: at sentence #280000, processed 2867673 words, keeping 165190 word types\n",
      "2023-12-06 18:36:08,053 : INFO : PROGRESS: at sentence #290000, processed 2974109 words, keeping 169364 word types\n",
      "2023-12-06 18:36:08,099 : INFO : PROGRESS: at sentence #300000, processed 3080980 words, keeping 173586 word types\n",
      "2023-12-06 18:36:08,147 : INFO : PROGRESS: at sentence #310000, processed 3188444 words, keeping 177755 word types\n",
      "2023-12-06 18:36:08,191 : INFO : PROGRESS: at sentence #320000, processed 3290413 words, keeping 181540 word types\n",
      "2023-12-06 18:36:08,236 : INFO : PROGRESS: at sentence #330000, processed 3395496 words, keeping 185339 word types\n",
      "2023-12-06 18:36:08,323 : INFO : PROGRESS: at sentence #340000, processed 3509569 words, keeping 190925 word types\n",
      "2023-12-06 18:36:08,365 : INFO : PROGRESS: at sentence #350000, processed 3603570 words, keeping 194525 word types\n",
      "2023-12-06 18:36:08,412 : INFO : PROGRESS: at sentence #360000, processed 3705518 words, keeping 198675 word types\n",
      "2023-12-06 18:36:08,450 : INFO : PROGRESS: at sentence #370000, processed 3801691 words, keeping 202231 word types\n",
      "2023-12-06 18:36:08,510 : INFO : PROGRESS: at sentence #380000, processed 3902030 words, keeping 205978 word types\n",
      "2023-12-06 18:36:08,555 : INFO : PROGRESS: at sentence #390000, processed 4005796 words, keeping 209528 word types\n",
      "2023-12-06 18:36:08,617 : INFO : PROGRESS: at sentence #400000, processed 4109509 words, keeping 212853 word types\n",
      "2023-12-06 18:36:08,683 : INFO : PROGRESS: at sentence #410000, processed 4210551 words, keeping 216134 word types\n",
      "2023-12-06 18:36:08,776 : INFO : PROGRESS: at sentence #420000, processed 4315289 words, keeping 219449 word types\n",
      "2023-12-06 18:36:08,820 : INFO : PROGRESS: at sentence #430000, processed 4418301 words, keeping 222780 word types\n",
      "2023-12-06 18:36:08,861 : INFO : PROGRESS: at sentence #440000, processed 4521665 words, keeping 226195 word types\n",
      "2023-12-06 18:36:08,913 : INFO : PROGRESS: at sentence #450000, processed 4627966 words, keeping 229796 word types\n",
      "2023-12-06 18:36:08,974 : INFO : PROGRESS: at sentence #460000, processed 4732730 words, keeping 233130 word types\n",
      "2023-12-06 18:36:09,041 : INFO : PROGRESS: at sentence #470000, processed 4836501 words, keeping 236371 word types\n",
      "2023-12-06 18:36:09,126 : INFO : PROGRESS: at sentence #480000, processed 4944207 words, keeping 240255 word types\n",
      "2023-12-06 18:36:09,188 : INFO : PROGRESS: at sentence #490000, processed 5041222 words, keeping 243422 word types\n",
      "2023-12-06 18:36:09,279 : INFO : PROGRESS: at sentence #500000, processed 5141118 words, keeping 246786 word types\n",
      "2023-12-06 18:36:09,336 : INFO : PROGRESS: at sentence #510000, processed 5245867 words, keeping 249945 word types\n",
      "2023-12-06 18:36:09,401 : INFO : PROGRESS: at sentence #520000, processed 5341959 words, keeping 252631 word types\n",
      "2023-12-06 18:36:09,466 : INFO : PROGRESS: at sentence #530000, processed 5445771 words, keeping 255653 word types\n",
      "2023-12-06 18:36:09,529 : INFO : PROGRESS: at sentence #540000, processed 5544954 words, keeping 258535 word types\n",
      "2023-12-06 18:36:09,591 : INFO : PROGRESS: at sentence #550000, processed 5647699 words, keeping 261606 word types\n",
      "2023-12-06 18:36:09,663 : INFO : PROGRESS: at sentence #560000, processed 5752175 words, keeping 264658 word types\n",
      "2023-12-06 18:36:09,727 : INFO : PROGRESS: at sentence #570000, processed 5857016 words, keeping 267715 word types\n",
      "2023-12-06 18:36:09,734 : INFO : collected 268093 word types from a corpus of 5871097 raw words and 571403 sentences\n",
      "2023-12-06 18:36:09,734 : INFO : Creating a fresh vocabulary\n",
      "2023-12-06 18:36:09,892 : INFO : Word2Vec lifecycle event {'msg': 'effective_min_count=10 retains 39307 unique words (14.66% of original 268093, drops 228786)', 'datetime': '2023-12-06T18:36:09.892332', 'gensim': '4.3.2', 'python': '3.11.5 (main, Aug 24 2023, 15:18:16) [Clang 14.0.3 (clang-1403.0.22.14.1)]', 'platform': 'macOS-13.5-x86_64-i386-64bit', 'event': 'prepare_vocab'}\n",
      "2023-12-06 18:36:09,893 : INFO : Word2Vec lifecycle event {'msg': 'effective_min_count=10 leaves 5394420 word corpus (91.88% of original 5871097, drops 476677)', 'datetime': '2023-12-06T18:36:09.893559', 'gensim': '4.3.2', 'python': '3.11.5 (main, Aug 24 2023, 15:18:16) [Clang 14.0.3 (clang-1403.0.22.14.1)]', 'platform': 'macOS-13.5-x86_64-i386-64bit', 'event': 'prepare_vocab'}\n",
      "2023-12-06 18:36:10,034 : INFO : deleting the raw counts dictionary of 268093 items\n",
      "2023-12-06 18:36:10,044 : INFO : sample=0.001 downsamples 22 most-common words\n",
      "2023-12-06 18:36:10,045 : INFO : Word2Vec lifecycle event {'msg': 'downsampling leaves estimated 4995970.990373494 word corpus (92.6%% of prior 5394420)', 'datetime': '2023-12-06T18:36:10.045486', 'gensim': '4.3.2', 'python': '3.11.5 (main, Aug 24 2023, 15:18:16) [Clang 14.0.3 (clang-1403.0.22.14.1)]', 'platform': 'macOS-13.5-x86_64-i386-64bit', 'event': 'prepare_vocab'}\n",
      "2023-12-06 18:36:10,339 : INFO : estimated required memory for 39307 words and 100 dimensions: 51099100 bytes\n",
      "2023-12-06 18:36:10,340 : INFO : resetting layer weights\n",
      "2023-12-06 18:36:10,367 : INFO : Word2Vec lifecycle event {'update': False, 'trim_rule': 'None', 'datetime': '2023-12-06T18:36:10.367291', 'gensim': '4.3.2', 'python': '3.11.5 (main, Aug 24 2023, 15:18:16) [Clang 14.0.3 (clang-1403.0.22.14.1)]', 'platform': 'macOS-13.5-x86_64-i386-64bit', 'event': 'build_vocab'}\n",
      "2023-12-06 18:36:10,367 : INFO : Word2Vec lifecycle event {'msg': 'training model with 3 workers on 39307 vocabulary and 100 features, using sg=0 hs=0 sample=0.001 negative=5 window=5 shrink_windows=True', 'datetime': '2023-12-06T18:36:10.367952', 'gensim': '4.3.2', 'python': '3.11.5 (main, Aug 24 2023, 15:18:16) [Clang 14.0.3 (clang-1403.0.22.14.1)]', 'platform': 'macOS-13.5-x86_64-i386-64bit', 'event': 'train'}\n",
      "2023-12-06 18:36:11,405 : INFO : EPOCH 0 - PROGRESS: at 30.93% examples, 1519618 words/s, in_qsize 5, out_qsize 0\n",
      "2023-12-06 18:36:12,496 : INFO : EPOCH 0 - PROGRESS: at 57.11% examples, 1365725 words/s, in_qsize 5, out_qsize 2\n",
      "2023-12-06 18:36:13,507 : INFO : EPOCH 0 - PROGRESS: at 81.22% examples, 1310427 words/s, in_qsize 5, out_qsize 0\n",
      "2023-12-06 18:36:14,113 : INFO : EPOCH 0: training on 5871097 raw words (4995765 effective words) took 3.7s, 1347090 effective words/s\n",
      "2023-12-06 18:36:15,118 : INFO : EPOCH 1 - PROGRESS: at 32.12% examples, 1579652 words/s, in_qsize 5, out_qsize 0\n",
      "2023-12-06 18:36:16,121 : INFO : EPOCH 1 - PROGRESS: at 57.93% examples, 1447485 words/s, in_qsize 5, out_qsize 0\n",
      "2023-12-06 18:36:17,126 : INFO : EPOCH 1 - PROGRESS: at 89.08% examples, 1482016 words/s, in_qsize 5, out_qsize 0\n",
      "2023-12-06 18:36:17,434 : INFO : EPOCH 1: training on 5871097 raw words (4995862 effective words) took 3.3s, 1506511 effective words/s\n",
      "2023-12-06 18:36:18,440 : INFO : EPOCH 2 - PROGRESS: at 35.83% examples, 1764186 words/s, in_qsize 5, out_qsize 0\n",
      "2023-12-06 18:36:19,442 : INFO : EPOCH 2 - PROGRESS: at 69.46% examples, 1731056 words/s, in_qsize 5, out_qsize 0\n",
      "2023-12-06 18:36:20,325 : INFO : EPOCH 2: training on 5871097 raw words (4995950 effective words) took 2.9s, 1730452 effective words/s\n",
      "2023-12-06 18:36:21,331 : INFO : EPOCH 3 - PROGRESS: at 35.83% examples, 1764030 words/s, in_qsize 5, out_qsize 0\n",
      "2023-12-06 18:36:22,332 : INFO : EPOCH 3 - PROGRESS: at 72.35% examples, 1804679 words/s, in_qsize 5, out_qsize 0\n",
      "2023-12-06 18:36:23,106 : INFO : EPOCH 3: training on 5871097 raw words (4996216 effective words) took 2.8s, 1799536 effective words/s\n",
      "2023-12-06 18:36:24,117 : INFO : EPOCH 4 - PROGRESS: at 36.33% examples, 1779945 words/s, in_qsize 5, out_qsize 0\n",
      "2023-12-06 18:36:25,118 : INFO : EPOCH 4 - PROGRESS: at 72.02% examples, 1791614 words/s, in_qsize 5, out_qsize 0\n",
      "2023-12-06 18:36:25,887 : INFO : EPOCH 4: training on 5871097 raw words (4996035 effective words) took 2.8s, 1798964 effective words/s\n",
      "2023-12-06 18:36:25,888 : INFO : Word2Vec lifecycle event {'msg': 'training on 29355485 raw words (24979828 effective words) took 15.5s, 1609570 effective words/s', 'datetime': '2023-12-06T18:36:25.887970', 'gensim': '4.3.2', 'python': '3.11.5 (main, Aug 24 2023, 15:18:16) [Clang 14.0.3 (clang-1403.0.22.14.1)]', 'platform': 'macOS-13.5-x86_64-i386-64bit', 'event': 'train'}\n",
      "2023-12-06 18:36:25,888 : INFO : Word2Vec lifecycle event {'params': 'Word2Vec<vocab=39307, vector_size=100, alpha=0.025>', 'datetime': '2023-12-06T18:36:25.888400', 'gensim': '4.3.2', 'python': '3.11.5 (main, Aug 24 2023, 15:18:16) [Clang 14.0.3 (clang-1403.0.22.14.1)]', 'platform': 'macOS-13.5-x86_64-i386-64bit', 'event': 'created'}\n"
     ]
    }
   ],
   "source": [
    "# set up logging\n",
    "logging.basicConfig(format='%(asctime)s : %(levelname)s : %(message)s', level=logging.INFO)\n",
    "\n",
    "# train word2vec model\n",
    "model = gensim.models.Word2Vec(tokens, min_count=10)"
   ]
  },
  {
   "cell_type": "code",
   "execution_count": 16,
   "metadata": {},
   "outputs": [
    {
     "name": "stderr",
     "output_type": "stream",
     "text": [
      "2023-11-30 11:45:19,091 : INFO : Word2Vec lifecycle event {'fname_or_handle': 'thesis_w2v_2015_tweets', 'separately': 'None', 'sep_limit': 10485760, 'ignore': frozenset(), 'datetime': '2023-11-30T11:45:19.091673', 'gensim': '4.3.2', 'python': '3.11.5 (main, Aug 24 2023, 15:18:16) [Clang 14.0.3 (clang-1403.0.22.14.1)]', 'platform': 'macOS-13.5-x86_64-i386-64bit', 'event': 'saving'}\n",
      "2023-11-30 11:45:19,098 : INFO : not storing attribute cum_table\n",
      "2023-11-30 11:45:19,182 : INFO : saved thesis_w2v_2015_tweets\n"
     ]
    }
   ],
   "source": [
    "# save word2vec model\n",
    "model.save(\"thesis_w2v_\" + year + \"_tweets\")"
   ]
  },
  {
   "cell_type": "code",
   "execution_count": 3,
   "metadata": {},
   "outputs": [
    {
     "name": "stdout",
     "output_type": "stream",
     "text": [
      "[('侵攻', 0.8870046734809875), ('破る', 0.8761901259422302), ('人民', 0.8755786418914795), ('岸田文雄', 0.8644543886184692), ('自公', 0.8606095910072327), ('右派', 0.8567697405815125), ('起訴', 0.854092538356781), ('立民', 0.8535529971122742), ('プロパガンダ', 0.8532180786132812), ('朝鮮人', 0.8528974056243896)]\n",
      "[('日本人', 0.8911892771720886), ('中国人', 0.8543750643730164), ('若者', 0.8528403639793396), ('他国', 0.8411896824836731), ('政治', 0.8321614861488342), ('国', 0.8315311670303345), ('高齢者', 0.8311120867729187), ('移民', 0.8291254639625549), ('国会議員', 0.828331708908081), ('職員', 0.8269411325454712)]\n"
     ]
    }
   ],
   "source": [
    "# load trained word2vec model\n",
    "model_2015 = gensim.models.Word2Vec.load(\"thesis_w2v_2015_tweets\")\n",
    "\n",
    "# check similarity given by trained model\n",
    "print(model_2015.wv.most_similar(positive='在日',topn=10))\n",
    "print(model_2015.wv.most_similar(positive='外国人',topn=10))"
   ]
  },
  {
   "cell_type": "code",
   "execution_count": 4,
   "metadata": {},
   "outputs": [
    {
     "name": "stdout",
     "output_type": "stream",
     "text": [
      "[('侵略者', 0.8887750506401062), ('軍隊', 0.8882155418395996), ('民意', 0.883852481842041), ('略奪', 0.8815134167671204), ('統一協会', 0.8762111663818359), ('全土', 0.8744518756866455), ('陰謀', 0.8732355237007141), ('ネオコン', 0.8732097148895264), ('食糧', 0.8714119791984558), ('裁判官', 0.8696999549865723)]\n",
      "[('中国人', 0.887516975402832), ('ユダヤ教', 0.870999276638031), ('イスラム教', 0.8588070869445801), ('ユダヤ人', 0.8398546576499939), ('留学生', 0.838367760181427), ('組織', 0.834230899810791), ('欧米', 0.8304198980331421), ('日本人', 0.8295359015464783), ('中国', 0.8283986449241638), ('支持', 0.827479898929596)]\n"
     ]
    }
   ],
   "source": [
    "# same for 2022\n",
    "model_2022 = gensim.models.Word2Vec.load(\"thesis_w2v_2022_tweets\")\n",
    "\n",
    "print(model_2022.wv.most_similar(positive='在日',topn=10))\n",
    "print(model_2022.wv.most_similar(positive='外国人',topn=10))\n"
   ]
  },
  {
   "cell_type": "markdown",
   "metadata": {},
   "source": [
    "#### Plot Word2Vec Findings"
   ]
  },
  {
   "cell_type": "code",
   "execution_count": 6,
   "metadata": {},
   "outputs": [],
   "source": [
    "# https://radimrehurek.com/gensim/auto_examples/tutorials/run_word2vec.html#sphx-glr-auto-examples-tutorials-run-word2vec-py\n",
    "\n",
    "def reduce_dimensions(model):\n",
    "    num_dimensions = 2\n",
    "\n",
    "    # extract the words & their vectors, as numpy arrays\n",
    "    vectors = np.asarray(model.wv.vectors)\n",
    "    labels = np.asarray(model.wv.index_to_key)\n",
    "\n",
    "    # reduce using t-SNE\n",
    "    tsne = TSNE(n_components=num_dimensions, random_state=0)\n",
    "    vectors = tsne.fit_transform(vectors)\n",
    "\n",
    "    x_vals = [v[0] for v in vectors]\n",
    "    y_vals = [v[1] for v in vectors]\n",
    "    return x_vals, y_vals"
   ]
  },
  {
   "cell_type": "code",
   "execution_count": 72,
   "metadata": {},
   "outputs": [],
   "source": [
    "# # this plots all words; isn't very useful\n",
    "\n",
    "# def plot_word2vec(x_vals, y_vals, labels):\n",
    "#     import matplotlib.pyplot as plt\n",
    "#     import random\n",
    "\n",
    "#     random.seed(0)\n",
    "\n",
    "#     plt.figure(figsize=(50, 50))\n",
    "#     plt.scatter(x_vals, y_vals)\n",
    "\n",
    "#     # label randomly subsampled 25 data points\n",
    "#     fprop = fm.FontProperties(fname='NotoSansJP-VariableFont_wght.ttf')\n",
    "#     indices = list(range(len(labels)))\n",
    "#     selected_indices = random.sample(indices, 25)\n",
    "#     for i in selected_indices:\n",
    "#         plt.annotate(labels[i], (x_vals[i], y_vals[i]), fontproperties=fprop)\n",
    "\n",
    "# plot_word2vec(x_vals, y_vals, labels)"
   ]
  },
  {
   "cell_type": "code",
   "execution_count": 7,
   "metadata": {},
   "outputs": [],
   "source": [
    "# instead, plot similar words only\n",
    "\n",
    "# https://aneesha.medium.com/using-tsne-to-plot-a-subset-of-similar-words-from-word2vec-bb8eeaea6229 \n",
    "# https://albertauyeung.github.io/2020/03/15/matplotlib-cjk-fonts.html/\n",
    "# https://stackoverflow.com/questions/70268270/how-to-plot-tsne-on-word2vec-created-from-gensim-for-the-most-similar-20-cases\n",
    "\n",
    "def plot_closest_words(word, model, x_vals, y_vals):\n",
    "    labels = [i for i in model.wv.index_to_key]\n",
    "    close_words = [i[0] for i in model.wv.most_similar(positive=word, topn=15)]\n",
    "\n",
    "    fprop = fm.FontProperties(fname='NotoSansJP-VariableFont_wght.ttf')\n",
    "    for word in close_words:\n",
    "        i = labels.index(word)\n",
    "        plt.scatter(x_vals[i],y_vals[i])\n",
    "        plt.annotate(labels[i], xy=(x_vals[i], y_vals[i]), xytext=(5, 2), textcoords='offset points', ha='right', va='bottom', fontproperties=fprop)"
   ]
  },
  {
   "cell_type": "code",
   "execution_count": 8,
   "metadata": {},
   "outputs": [
    {
     "data": {
      "image/png": "[encoded data removed]",
      "text/plain": [
       "<Figure size 640x480 with 1 Axes>"
      ]
     },
     "metadata": {},
     "output_type": "display_data"
    }
   ],
   "source": [
    "x_vals, y_vals = reduce_dimensions(model_2015)\n",
    "plot_closest_words(\"外人\", model_2015, x_vals, y_vals)"
   ]
  },
  {
   "cell_type": "code",
   "execution_count": 9,
   "metadata": {},
   "outputs": [
    {
     "data": {
      "image/png": "[encoded data removed]",
      "text/plain": [
       "<Figure size 640x480 with 1 Axes>"
      ]
     },
     "metadata": {},
     "output_type": "display_data"
    }
   ],
   "source": [
    "x_vals, y_vals = reduce_dimensions(model_2022)\n",
    "plot_closest_words(\"外人\", model_2022, x_vals, y_vals)"
   ]
  },
  {
   "cell_type": "code",
   "execution_count": 12,
   "metadata": {},
   "outputs": [
    {
     "data": {
      "text/plain": [
       "[('偽物', 0.7889584302902222),\n",
       " ('煽る', 0.7780613303184509),\n",
       " ('上から目線', 0.7761332392692566),\n",
       " ('異論', 0.7679857015609741),\n",
       " ('貧富の差', 0.7679144144058228),\n",
       " ('犯罪者', 0.7668929100036621),\n",
       " ('愚民', 0.7642369270324707),\n",
       " ('癒着', 0.763766884803772),\n",
       " ('ひろゆき', 0.7628171443939209),\n",
       " ('変質者', 0.7620567083358765),\n",
       " ('立法', 0.7617906928062439),\n",
       " ('帰化', 0.7605139017105103),\n",
       " ('あからさま', 0.7604815363883972),\n",
       " ('無罪', 0.7603023648262024),\n",
       " ('助長', 0.7593064904212952)]"
      ]
     },
     "execution_count": 12,
     "metadata": {},
     "output_type": "execute_result"
    }
   ],
   "source": [
    "model_2015.wv.most_similar(positive=\"外人\", topn=15)"
   ]
  },
  {
   "cell_type": "code",
   "execution_count": 13,
   "metadata": {},
   "outputs": [
    {
     "data": {
      "text/plain": [
       "[('LGBTQ', 0.751596212387085),\n",
       " ('稲田', 0.7500256299972534),\n",
       " ('細菌', 0.7422671914100647),\n",
       " ('機構', 0.7371512651443481),\n",
       " ('否定的', 0.7297788262367249),\n",
       " ('暴露', 0.7273468971252441),\n",
       " ('経済制裁', 0.7269293069839478),\n",
       " ('ウィルス', 0.7266963124275208),\n",
       " ('ーモーニング', 0.7257336974143982),\n",
       " ('部隊', 0.7246589660644531),\n",
       " ('根絶', 0.721153974533081),\n",
       " ('産廃', 0.7185984253883362),\n",
       " ('招集', 0.7185619473457336),\n",
       " ('朝日新聞', 0.718533456325531),\n",
       " ('安田', 0.717850923538208)]"
      ]
     },
     "execution_count": 13,
     "metadata": {},
     "output_type": "execute_result"
    }
   ],
   "source": [
    "model_2022.wv.most_similar(positive=\"外人\", topn=15)"
   ]
  },
  {
   "cell_type": "code",
   "execution_count": 17,
   "metadata": {},
   "outputs": [
    {
     "name": "stdout",
     "output_type": "stream",
     "text": [
      "侵攻\n",
      "破る\n",
      "人民\n",
      "岸田文雄\n",
      "自公\n",
      "右派\n",
      "起訴\n",
      "立民\n",
      "プロパガンダ\n",
      "朝鮮人\n",
      "虐殺\n",
      "窃盗\n",
      "警視庁\n",
      "ハブ\n",
      "追放\n"
     ]
    }
   ],
   "source": [
    "words = model_2015.wv.most_similar(positive=\"在日\", topn=15)\n",
    "for word in words:\n",
    "    print(word[0])"
   ]
  },
  {
   "cell_type": "code",
   "execution_count": 18,
   "metadata": {},
   "outputs": [
    {
     "name": "stdout",
     "output_type": "stream",
     "text": [
      "侵略者\n",
      "軍隊\n",
      "民意\n",
      "略奪\n",
      "統一協会\n",
      "全土\n",
      "陰謀\n",
      "ネオコン\n",
      "食糧\n",
      "裁判官\n",
      "売国奴\n",
      "自治区\n",
      "巻き添え\n",
      "追い出さ\n",
      "無辜\n"
     ]
    }
   ],
   "source": [
    "words = model_2022.wv.most_similar(positive=\"在日\", topn=15)\n",
    "for word in words:\n",
    "    print(word[0])"
   ]
  },
  {
   "cell_type": "code",
   "execution_count": null,
   "metadata": {},
   "outputs": [],
   "source": [
    "words = model_2015.wv.most_similar(positive=\"在日\", topn=15)\n",
    "for word in words:\n",
    "    print(word[0])"
   ]
  },
  {
   "cell_type": "code",
   "execution_count": null,
   "metadata": {},
   "outputs": [],
   "source": [
    "words = model_2022.wv.most_similar(positive=\"在日\", topn=15)\n",
    "for word in words:\n",
    "    print(word[0])"
   ]
  },
  {
   "cell_type": "code",
   "execution_count": 19,
   "metadata": {},
   "outputs": [
    {
     "data": {
      "text/plain": [
       "['…',\n",
       " 'ね',\n",
       " 'ござい',\n",
       " 'よ',\n",
       " 'てる',\n",
       " 'けど',\n",
       " 'たら',\n",
       " 'さん',\n",
       " 'おはよう',\n",
       " 'まし',\n",
       " 'ありがとう',\n",
       " '・',\n",
       " 'って',\n",
       " 'たい',\n",
       " '今日',\n",
       " 'ご',\n",
       " 'ー',\n",
       " 'いい',\n",
       " '見',\n",
       " '人',\n",
       " 'そう',\n",
       " 'とか',\n",
       " 'おは',\n",
       " 'ください',\n",
       " 'くれ',\n",
       " '気',\n",
       " '方',\n",
       " 'ちゃん',\n",
       " 'だけ',\n",
       " 'フォロー',\n",
       " '参加',\n",
       " '中',\n",
       " '思っ',\n",
       " '日',\n",
       " '自分',\n",
       " 'すぎ',\n",
       " 'ω',\n",
       " '時',\n",
       " '今',\n",
       " 'やっ',\n",
       " 'み',\n",
       " 'じゃ',\n",
       " 'でし',\n",
       " '好き',\n",
       " '笑',\n",
       " 'w',\n",
       " 'わ',\n",
       " 'お願い',\n",
       " '応募',\n",
       " '来']"
      ]
     },
     "execution_count": 19,
     "metadata": {},
     "output_type": "execute_result"
    }
   ],
   "source": [
    "model_2015.wv.index_to_key[:50]"
   ]
  },
  {
   "cell_type": "code",
   "execution_count": 20,
   "metadata": {},
   "outputs": [
    {
     "data": {
      "text/plain": [
       "['…',\n",
       " 'ね',\n",
       " 'ござい',\n",
       " 'よ',\n",
       " 'てる',\n",
       " 'けど',\n",
       " 'おはよう',\n",
       " 'さん',\n",
       " 'まし',\n",
       " 'たら',\n",
       " 'ありがとう',\n",
       " 'って',\n",
       " '今日',\n",
       " 'たい',\n",
       " '・',\n",
       " '人',\n",
       " 'ー',\n",
       " 'そう',\n",
       " '見',\n",
       " 'いい',\n",
       " 'ご',\n",
       " 'ください',\n",
       " 'おは',\n",
       " '方',\n",
       " 'とか',\n",
       " 'だけ',\n",
       " 'ちゃん',\n",
       " 'くれ',\n",
       " '今',\n",
       " '思っ',\n",
       " '日',\n",
       " '参加',\n",
       " 'すぎ',\n",
       " 'w',\n",
       " 'でし',\n",
       " '気',\n",
       " '自分',\n",
       " 'み',\n",
       " '結果',\n",
       " '時',\n",
       " '笑',\n",
       " '中',\n",
       " '好き',\n",
       " 'やっ',\n",
       " 'ω',\n",
       " 'わ',\n",
       " 'ませ',\n",
       " 'じゃ',\n",
       " '️',\n",
       " '良い']"
      ]
     },
     "execution_count": 20,
     "metadata": {},
     "output_type": "execute_result"
    }
   ],
   "source": [
    "model_2022.wv.index_to_key[:50]"
   ]
  },
  {
   "cell_type": "code",
   "execution_count": null,
   "metadata": {},
   "outputs": [],
   "source": []
  }
 ],
 "metadata": {
  "kernelspec": {
   "display_name": "thesis",
   "language": "python",
   "name": "python3"
  },
  "language_info": {
   "codemirror_mode": {
    "name": "ipython",
    "version": 3
   },
   "file_extension": ".py",
   "mimetype": "text/x-python",
   "name": "python",
   "nbconvert_exporter": "python",
   "pygments_lexer": "ipython3",
   "version": "3.11.5"
  }
 },
 "nbformat": 4,
 "nbformat_minor": 2
}
