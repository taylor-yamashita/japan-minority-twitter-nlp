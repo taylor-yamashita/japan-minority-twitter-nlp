{
 "cells": [
  {
   "cell_type": "markdown",
   "metadata": {},
   "source": [
    "### Setup"
   ]
  },
  {
   "cell_type": "code",
   "execution_count": 1,
   "metadata": {},
   "outputs": [],
   "source": [
    "import os\n",
    "import random\n",
    "from typing import List\n",
    "import twscrape"
   ]
  },
  {
   "cell_type": "markdown",
   "metadata": {},
   "source": [
    "### Case 1: Scraping general tweet set for given year"
   ]
  },
  {
   "cell_type": "code",
   "execution_count": 2,
   "metadata": {},
   "outputs": [],
   "source": [
    "def set_up_directories(keyword_eng: str, year: str):\n",
    "    dir_path = year if keyword_eng == \"\" else keyword_eng + \"_\" + year\n",
    "    os.mkdir(dir_path)\n",
    "\n",
    "    # single digit month\n",
    "    for i in range(1,10):\n",
    "        path = dir_path + \"/\" + \"0\" + str(i)\n",
    "        os.mkdir(path) \n",
    "\n",
    "    # double digit month\n",
    "    for j in range(10,13):\n",
    "        path = dir_path + \"/\" + str(j)\n",
    "        os.mkdir(path) "
   ]
  },
  {
   "cell_type": "code",
   "execution_count": 3,
   "metadata": {},
   "outputs": [],
   "source": [
    "# scrape randomly sampled tweets for 10 days in given month\n",
    "def scrape_month_sampled_tweets(year: str, months: List[str], days_in_month: int):\n",
    "    range_days = list(range(1,days_in_month+1))\n",
    "    range_times = list(range(0,24))\n",
    "\n",
    "    # sample 10 random days and times of day for each month\n",
    "    for m in months: \n",
    "        month_path = year + \"/\" + m\n",
    "        days = sorted(random.sample(range_days, k=10))   # random days of month (no replacement)\n",
    "        times = random.choices(range_times, k=10)   # random hours of day (replacement)\n",
    "        \n",
    "        # scrape tweets for the 10 picked days and times\n",
    "        for t in range(10):     \n",
    "            day = \"0\" + str(days[t]) if days[t] < 10 else str(days[t])\n",
    "            time = \"0\" + str(times[t]) if times[t] < 10 else str(times[t])\n",
    "            date_string = year + '-' + m + '-' + day\n",
    "            day_path = month_path + \"/\" + year + \"-\" + m + \"-\" + day + \".txt\"\n",
    "            command = 'twscrape search \"since:' + date_string + '_' + time + ':00:00_UTC until:' + date_string + '_' + time + ':59:59_UTC lang:ja\"　> ' + day_path + ' --limit=4500'\n",
    "            os.system(command)"
   ]
  },
  {
   "cell_type": "code",
   "execution_count": 4,
   "metadata": {},
   "outputs": [],
   "source": [
    "# scrape random sample of tweets (general content or keyword-search) from given year\n",
    "def scrape_year_sampled_tweets(year: str):\n",
    "    # 28 day months\n",
    "    scrape_month_sampled_tweets(year,[\"02\"], 28)    # omit leap year 29th days for simplicity...?\n",
    "\n",
    "    # 30 day months\n",
    "    months_30 = [\"04\",\"06\",\"09\",\"11\"]\n",
    "    scrape_month_sampled_tweets(year,months_30, 30)\n",
    "\n",
    "    # 31 day months\n",
    "    months_31 = [\"01\",\"03\",\"05\",\"07\",\"08\",\"10\",\"12\"]\n",
    "    scrape_month_sampled_tweets(year,months_31, 31)"
   ]
  },
  {
   "cell_type": "code",
   "execution_count": 5,
   "metadata": {},
   "outputs": [],
   "source": [
    "def concatenate_general_txt_files(year: str, keyword_eng=\"\"):\n",
    "  # concatenate .txt files into one file per month\n",
    "  for root, dirs, files in os.walk(\"./\" + year):\n",
    "      for name in dirs:\n",
    "        month_path = os.path.join(root, name)\n",
    "        os.system(\"cat \" + month_path + \"/*.txt > \" + year + \"/\" + name + \".txt\")\n",
    "  \n",
    "  # concatenate month .txt files into one file for the year\n",
    "  os.system(\"cat \" + year + \"/*.txt > \" + year + \"-all.txt\")"
   ]
  },
  {
   "cell_type": "code",
   "execution_count": null,
   "metadata": {},
   "outputs": [],
   "source": [
    "# last took 1790m\n",
    "scrape_year_sampled_tweets(\"2015\")\n",
    "concatenate_general_txt_files(\"2015\")"
   ]
  },
  {
   "cell_type": "code",
   "execution_count": null,
   "metadata": {},
   "outputs": [],
   "source": [
    "scrape_year_sampled_tweets(\"2022\")\n",
    "concatenate_general_txt_files(\"2022\")"
   ]
  },
  {
   "cell_type": "markdown",
   "metadata": {},
   "source": [
    "### Case 2: Scraping minority keyword-related tweet set"
   ]
  },
  {
   "cell_type": "code",
   "execution_count": 6,
   "metadata": {},
   "outputs": [],
   "source": [
    "# scrape tweets containing keyword from every month of given year\n",
    "def scrape_keyword_month_tweets(year: str, months: List[str], days_in_month: int, keyword_jp: str, keyword_eng: str):\n",
    "    for m in months: \n",
    "        command = 'twscrape search \"' + keyword_jp + ' since:' + year + '-' + m + '-01_00:00:00_UTC until:' + year + '-' + m + '-' + str(days_in_month) + '_23:59:59_UTC lang:ja\"　> ' + keyword_eng + '_' + year + '/' + m + '.txt --limit=30000'\n",
    "        os.system(command)"
   ]
  },
  {
   "cell_type": "code",
   "execution_count": 7,
   "metadata": {},
   "outputs": [],
   "source": [
    "# scrape all tweets containing keyword in given year\n",
    "def scrape_keyword_sampled_tweets(year: str, keyword_jp: str, keyword_eng: str):\n",
    "    os.mkdir(keyword_eng + \"_\" + year) \n",
    "\n",
    "    # 28 day months\n",
    "    scrape_keyword_month_tweets(year,[\"02\"], 28, keyword_jp, keyword_eng)    # omit leap year 29th days for simplicity...?\n",
    "\n",
    "    # 30 day months\n",
    "    months_30 = [\"04\",\"06\",\"09\",\"11\"]\n",
    "    scrape_keyword_month_tweets(year,months_30, 30, keyword_jp, keyword_eng)\n",
    "\n",
    "    # 31 day months\n",
    "    months_31 = [\"01\",\"03\",\"05\",\"07\",\"08\",\"10\",\"12\"]\n",
    "    scrape_keyword_month_tweets(year,months_31, 31, keyword_jp, keyword_eng)"
   ]
  },
  {
   "cell_type": "code",
   "execution_count": 8,
   "metadata": {},
   "outputs": [],
   "source": [
    "def concatenate_keyword_txt_files(year: str, keyword_eng=\"\"):\n",
    "  # concatenate month .txt files into one file for the year\n",
    "  os.system(\"cat \" + keyword_eng + \"_\" + year + \"/\" + \"*.txt > \" + keyword_eng + \"_\" + year + \".txt\")"
   ]
  },
  {
   "cell_type": "markdown",
   "metadata": {},
   "source": [
    "### Scraping minority keyword-related datasets"
   ]
  },
  {
   "cell_type": "code",
   "execution_count": null,
   "metadata": {},
   "outputs": [],
   "source": [
    "# zainichi korean set 2022 [DONE]\n",
    "scrape_keyword_sampled_tweets(\"2022\", \"在日コリアン\", \"zainichi\")\n",
    "concatenate_keyword_txt_files(\"2022\", \"zainichi\")\n",
    "\n",
    "# zainichi korean set 2015 [DONE]\n",
    "scrape_keyword_sampled_tweets(\"2015\", \"在日コリアン\", \"zainichi\")\n",
    "concatenate_keyword_txt_files(\"2015\", \"zainichi\")"
   ]
  },
  {
   "cell_type": "code",
   "execution_count": null,
   "metadata": {},
   "outputs": [],
   "source": [
    "# ainu 2022 [DONE]\n",
    "scrape_keyword_sampled_tweets(\"2022\", \"アイヌ\", \"ainu\")\n",
    "concatenate_keyword_txt_files(\"2022\", \"ainu\")\n",
    "\n",
    "# ainu 2015 [redo? sufficiently large though]\n",
    "scrape_keyword_sampled_tweets(\"2015\", \"アイヌ\", \"ainu\")\n",
    "concatenate_keyword_txt_files(\"2015\", \"ainu\")"
   ]
  },
  {
   "cell_type": "code",
   "execution_count": null,
   "metadata": {},
   "outputs": [],
   "source": [
    "# ryukyujin [small dataset; probably done]\n",
    "scrape_keyword_sampled_tweets(\"2022\", \"琉球人\", \"ryukyujin\")\n",
    "concatenate_keyword_txt_files(\"2022\", \"ryukyujin\")\n",
    "\n",
    "# [small dataset; probably done]\n",
    "scrape_keyword_sampled_tweets(\"2015\", \"琉球人\", \"ryukyujin\")\n",
    "concatenate_keyword_txt_files(\"2015\", \"ryukyujin\")"
   ]
  },
  {
   "cell_type": "code",
   "execution_count": null,
   "metadata": {},
   "outputs": [],
   "source": [
    "# 1, 2, 4, 6, 11 are fine\n",
    "# redo 3, 5, 7, 8, 10, 12 if time\n",
    "scrape_keyword_sampled_tweets(\"2015\", \"琉球\", \"ryukyu\")\n",
    "concatenate_keyword_txt_files(\"2015\", \"ryukyu\")\n",
    "\n",
    "# redo if time\n",
    "scrape_keyword_sampled_tweets(\"2022\", \"琉球\", \"ryukyu\")\n",
    "concatenate_keyword_txt_files(\"2022\", \"ryukyu\")"
   ]
  },
  {
   "cell_type": "code",
   "execution_count": null,
   "metadata": {},
   "outputs": [],
   "source": [
    "# okinawajin [DONE]\n",
    "scrape_keyword_sampled_tweets(\"2022\", \"沖縄人\", \"okinawajin\")\n",
    "concatenate_keyword_txt_files(\"2022\", \"okinawajin\")\n",
    "\n",
    "# [DONE; could redo some bc it didn't finish]\n",
    "scrape_keyword_sampled_tweets(\"2015\", \"沖縄人\", \"okinawajin\")\n",
    "concatenate_keyword_txt_files(\"2015\", \"okinawajin\")"
   ]
  },
  {
   "cell_type": "code",
   "execution_count": null,
   "metadata": {},
   "outputs": [],
   "source": [
    "# haafu\n",
    "# 204m for feb and sep\n",
    "scrape_keyword_sampled_tweets(\"2022\", \"ハーフ\", \"haafu_2\")\n",
    "concatenate_keyword_txt_files(\"2022\", \"haafu_2\")"
   ]
  },
  {
   "cell_type": "code",
   "execution_count": null,
   "metadata": {},
   "outputs": [],
   "source": [
    "concatenate_keyword_txt_files(\"2022\", \"haafu_2\")"
   ]
  },
  {
   "cell_type": "code",
   "execution_count": null,
   "metadata": {},
   "outputs": [],
   "source": [
    "# haafu [DONE]\n",
    "scrape_keyword_sampled_tweets(\"2015\", \"ハーフ\", \"haafu\")\n",
    "concatenate_keyword_txt_files(\"2015\", \"haafu\")"
   ]
  },
  {
   "cell_type": "code",
   "execution_count": 14,
   "metadata": {},
   "outputs": [
    {
     "name": "stderr",
     "output_type": "stream",
     "text": [
      "2024-03-30 21:26:01.403 | INFO     | twscrape.accounts_pool:get_for_queue_or_wait:275 - No account available for queue \"SearchTimeline\". Next available at 21:27:06\n",
      "2024-03-30 21:27:11.526 | INFO     | twscrape.accounts_pool:get_for_queue_or_wait:281 - Continuing with account jp_nlp_res_5 on queue SearchTimeline\n",
      "2024-03-30 21:27:50.368 | INFO     | twscrape.accounts_pool:get_for_queue_or_wait:275 - No account available for queue \"SearchTimeline\". Next available at 21:27:51\n",
      "2024-03-30 21:27:55.379 | INFO     | twscrape.accounts_pool:get_for_queue_or_wait:281 - Continuing with account jp_nlp_res_2 on queue SearchTimeline\n",
      "2024-03-30 21:28:36.734 | INFO     | twscrape.accounts_pool:get_for_queue_or_wait:275 - No account available for queue \"SearchTimeline\". Next available at 21:29:16\n",
      "2024-03-30 21:29:21.833 | INFO     | twscrape.accounts_pool:get_for_queue_or_wait:281 - Continuing with account jp_nlp_res_6 on queue SearchTimeline\n",
      "2024-03-30 21:30:03.311 | INFO     | twscrape.accounts_pool:get_for_queue_or_wait:275 - No account available for queue \"SearchTimeline\". Next available at 21:31:02\n",
      "2024-03-30 21:31:03.429 | INFO     | twscrape.accounts_pool:get_for_queue_or_wait:281 - Continuing with account jp_nlp_research on queue SearchTimeline\n",
      "2024-03-30 21:31:42.505 | INFO     | twscrape.accounts_pool:get_for_queue_or_wait:275 - No account available for queue \"SearchTimeline\". Next available at 21:32:32\n",
      "2024-03-30 21:32:37.620 | INFO     | twscrape.accounts_pool:get_for_queue_or_wait:281 - Continuing with account nlp542381374579 on queue SearchTimeline\n",
      "2024-03-30 21:33:18.884 | INFO     | twscrape.accounts_pool:get_for_queue_or_wait:275 - No account available for queue \"SearchTimeline\". Next available at 21:33:32\n",
      "2024-03-30 21:33:33.907 | INFO     | twscrape.accounts_pool:get_for_queue_or_wait:281 - Continuing with account nlp654242235435 on queue SearchTimeline\n",
      "2024-03-30 21:35:07.801 | INFO     | twscrape.accounts_pool:get_for_queue_or_wait:275 - No account available for queue \"SearchTimeline\". Next available at 21:36:19\n",
      "2024-03-30 21:36:22.937 | INFO     | twscrape.accounts_pool:get_for_queue_or_wait:281 - Continuing with account jp_nlp_res_3 on queue SearchTimeline\n",
      "2024-03-30 21:37:01.975 | INFO     | twscrape.accounts_pool:get_for_queue_or_wait:275 - No account available for queue \"SearchTimeline\". Next available at 21:40:19\n",
      "2024-03-30 21:40:22.300 | INFO     | twscrape.accounts_pool:get_for_queue_or_wait:281 - Continuing with account jp_nlp_res_4 on queue SearchTimeline\n",
      "2024-03-30 21:41:02.406 | INFO     | twscrape.accounts_pool:get_for_queue_or_wait:275 - No account available for queue \"SearchTimeline\". Next available at 21:42:11\n",
      "2024-03-30 21:42:12.510 | INFO     | twscrape.accounts_pool:get_for_queue_or_wait:281 - Continuing with account jp_nlp_res_5 on queue SearchTimeline\n",
      "2024-03-30 21:42:52.678 | INFO     | twscrape.accounts_pool:get_for_queue_or_wait:275 - No account available for queue \"SearchTimeline\". Next available at 21:42:55\n",
      "2024-03-30 21:42:57.692 | INFO     | twscrape.accounts_pool:get_for_queue_or_wait:281 - Continuing with account jp_nlp_res_2 on queue SearchTimeline\n",
      "2024-03-30 21:43:38.054 | INFO     | twscrape.accounts_pool:get_for_queue_or_wait:275 - No account available for queue \"SearchTimeline\". Next available at 21:44:22\n",
      "2024-03-30 21:44:23.137 | INFO     | twscrape.accounts_pool:get_for_queue_or_wait:281 - Continuing with account jp_nlp_res_6 on queue SearchTimeline\n",
      "2024-03-30 21:45:02.602 | INFO     | twscrape.accounts_pool:get_for_queue_or_wait:275 - No account available for queue \"SearchTimeline\". Next available at 21:46:03\n",
      "2024-03-30 21:46:07.694 | INFO     | twscrape.accounts_pool:get_for_queue_or_wait:281 - Continuing with account jp_nlp_research on queue SearchTimeline\n",
      "2024-03-30 21:46:46.875 | INFO     | twscrape.accounts_pool:get_for_queue_or_wait:275 - No account available for queue \"SearchTimeline\". Next available at 21:47:37\n",
      "2024-03-30 21:47:41.998 | INFO     | twscrape.accounts_pool:get_for_queue_or_wait:281 - Continuing with account nlp542381374579 on queue SearchTimeline\n",
      "2024-03-30 21:48:24.164 | INFO     | twscrape.accounts_pool:get_for_queue_or_wait:275 - No account available for queue \"SearchTimeline\". Next available at 21:48:34\n",
      "2024-03-30 21:48:39.193 | INFO     | twscrape.accounts_pool:get_for_queue_or_wait:281 - Continuing with account nlp654242235435 on queue SearchTimeline\n",
      "2024-03-30 21:49:42.027 | INFO     | twscrape.accounts_pool:get_for_queue_or_wait:275 - No account available for queue \"SearchTimeline\". Next available at now\n",
      "2024-03-30 21:49:47.038 | INFO     | twscrape.accounts_pool:get_for_queue_or_wait:281 - Continuing with account thesisthesis340 on queue SearchTimeline\n",
      "2024-03-30 21:50:11.365 | INFO     | twscrape.accounts_pool:get_for_queue_or_wait:275 - No account available for queue \"SearchTimeline\". Next available at 21:51:23\n",
      "2024-03-30 21:51:26.488 | INFO     | twscrape.accounts_pool:get_for_queue_or_wait:281 - Continuing with account jp_nlp_res_3 on queue SearchTimeline\n",
      "2024-03-30 21:52:08.721 | INFO     | twscrape.accounts_pool:get_for_queue_or_wait:275 - No account available for queue \"SearchTimeline\". Next available at 21:55:22\n",
      "2024-03-30 21:55:24.056 | INFO     | twscrape.accounts_pool:get_for_queue_or_wait:281 - Continuing with account jp_nlp_res_4 on queue SearchTimeline\n",
      "2024-03-30 21:56:05.833 | INFO     | twscrape.accounts_pool:get_for_queue_or_wait:275 - No account available for queue \"SearchTimeline\". Next available at 21:57:12\n",
      "2024-03-30 21:57:15.956 | INFO     | twscrape.accounts_pool:get_for_queue_or_wait:281 - Continuing with account jp_nlp_res_5 on queue SearchTimeline\n",
      "2024-03-30 21:57:58.107 | INFO     | twscrape.accounts_pool:get_for_queue_or_wait:275 - No account available for queue \"SearchTimeline\". Next available at now\n",
      "2024-03-30 21:58:03.123 | INFO     | twscrape.accounts_pool:get_for_queue_or_wait:281 - Continuing with account jp_nlp_res_2 on queue SearchTimeline\n",
      "2024-03-30 21:58:43.064 | INFO     | twscrape.accounts_pool:get_for_queue_or_wait:275 - No account available for queue \"SearchTimeline\". Next available at 21:59:23\n",
      "2024-03-30 21:59:28.144 | INFO     | twscrape.accounts_pool:get_for_queue_or_wait:281 - Continuing with account jp_nlp_res_6 on queue SearchTimeline\n",
      "2024-03-30 22:00:10.120 | INFO     | twscrape.accounts_pool:get_for_queue_or_wait:275 - No account available for queue \"SearchTimeline\". Next available at 22:01:08\n",
      "2024-03-30 22:01:10.270 | INFO     | twscrape.accounts_pool:get_for_queue_or_wait:281 - Continuing with account jp_nlp_research on queue SearchTimeline\n",
      "2024-03-30 22:01:51.064 | INFO     | twscrape.accounts_pool:get_for_queue_or_wait:275 - No account available for queue \"SearchTimeline\". Next available at 22:02:42\n",
      "2024-03-30 22:02:46.165 | INFO     | twscrape.accounts_pool:get_for_queue_or_wait:281 - Continuing with account nlp542381374579 on queue SearchTimeline\n",
      "2024-03-30 22:02:46.651 | WARNING  | twscrape.queue_client:_check_rep:162 - Session expired or banned: 401 - -1/-1 - nlp542381374579 - (32) Could not authenticate you\n",
      "2024-03-30 22:02:46.662 | INFO     | twscrape.accounts_pool:get_for_queue_or_wait:275 - No account available for queue \"SearchTimeline\". Next available at 22:03:39\n",
      "2024-03-30 22:03:41.784 | INFO     | twscrape.accounts_pool:get_for_queue_or_wait:281 - Continuing with account nlp654242235435 on queue SearchTimeline\n",
      "2024-03-30 22:04:46.183 | INFO     | twscrape.accounts_pool:get_for_queue_or_wait:275 - No account available for queue \"SearchTimeline\". Next available at 22:04:47\n",
      "2024-03-30 22:04:51.196 | INFO     | twscrape.accounts_pool:get_for_queue_or_wait:281 - Continuing with account thesisthesis340 on queue SearchTimeline\n",
      "2024-03-30 22:05:17.115 | INFO     | twscrape.accounts_pool:get_for_queue_or_wait:275 - No account available for queue \"SearchTimeline\". Next available at 22:06:26\n",
      "2024-03-30 22:06:27.244 | INFO     | twscrape.accounts_pool:get_for_queue_or_wait:281 - Continuing with account jp_nlp_res_3 on queue SearchTimeline\n",
      "2024-03-30 22:07:11.054 | INFO     | twscrape.accounts_pool:get_for_queue_or_wait:275 - No account available for queue \"SearchTimeline\". Next available at 22:10:24\n",
      "2024-03-30 22:10:26.425 | INFO     | twscrape.accounts_pool:get_for_queue_or_wait:281 - Continuing with account jp_nlp_res_4 on queue SearchTimeline\n",
      "2024-03-30 22:11:08.190 | INFO     | twscrape.accounts_pool:get_for_queue_or_wait:275 - No account available for queue \"SearchTimeline\". Next available at 22:12:16\n",
      "2024-03-30 22:12:18.316 | INFO     | twscrape.accounts_pool:get_for_queue_or_wait:281 - Continuing with account jp_nlp_res_5 on queue SearchTimeline\n",
      "2024-03-30 22:12:18.844 | WARNING  | twscrape.queue_client:_check_rep:162 - Session expired or banned: 401 - -1/-1 - jp_nlp_res_5 - (32) Could not authenticate you\n",
      "2024-03-30 22:12:18.854 | INFO     | twscrape.accounts_pool:get_for_queue_or_wait:275 - No account available for queue \"SearchTimeline\". Next available at 22:13:03\n",
      "2024-03-30 22:13:08.954 | INFO     | twscrape.accounts_pool:get_for_queue_or_wait:281 - Continuing with account jp_nlp_res_2 on queue SearchTimeline\n",
      "2024-03-30 22:13:09.357 | WARNING  | twscrape.queue_client:_check_rep:162 - Session expired or banned: 401 - -1/-1 - jp_nlp_res_2 - (32) Could not authenticate you\n",
      "2024-03-30 22:13:09.365 | INFO     | twscrape.accounts_pool:get_for_queue_or_wait:275 - No account available for queue \"SearchTimeline\". Next available at 22:14:28\n",
      "2024-03-30 22:14:29.522 | INFO     | twscrape.accounts_pool:get_for_queue_or_wait:281 - Continuing with account jp_nlp_res_6 on queue SearchTimeline\n",
      "2024-03-30 22:14:30.099 | WARNING  | twscrape.queue_client:_check_rep:162 - Session expired or banned: 401 - -1/-1 - jp_nlp_res_6 - (32) Could not authenticate you\n",
      "2024-03-30 22:14:30.106 | INFO     | twscrape.accounts_pool:get_for_queue_or_wait:275 - No account available for queue \"SearchTimeline\". Next available at 22:16:10\n",
      "2024-03-30 22:16:15.293 | INFO     | twscrape.accounts_pool:get_for_queue_or_wait:281 - Continuing with account jp_nlp_research on queue SearchTimeline\n",
      "2024-03-30 22:16:56.014 | INFO     | twscrape.accounts_pool:get_for_queue_or_wait:275 - No account available for queue \"SearchTimeline\". Next available at 22:18:42\n",
      "2024-03-30 22:18:46.220 | INFO     | twscrape.accounts_pool:get_for_queue_or_wait:281 - Continuing with account nlp654242235435 on queue SearchTimeline\n",
      "2024-03-30 22:20:22.056 | INFO     | twscrape.accounts_pool:get_for_queue_or_wait:275 - No account available for queue \"SearchTimeline\". Next available at 22:21:27\n",
      "2024-03-30 22:21:32.187 | INFO     | twscrape.accounts_pool:get_for_queue_or_wait:281 - Continuing with account jp_nlp_res_3 on queue SearchTimeline\n",
      "2024-03-30 22:22:13.734 | INFO     | twscrape.accounts_pool:get_for_queue_or_wait:275 - No account available for queue \"SearchTimeline\". Next available at 22:25:26\n",
      "2024-03-30 22:25:29.091 | INFO     | twscrape.accounts_pool:get_for_queue_or_wait:281 - Continuing with account jp_nlp_res_4 on queue SearchTimeline\n",
      "2024-03-30 22:26:12.284 | INFO     | twscrape.accounts_pool:get_for_queue_or_wait:275 - No account available for queue \"SearchTimeline\". Next available at 22:31:15\n",
      "2024-03-30 22:32:12.927 | INFO     | twscrape.accounts_pool:get_for_queue_or_wait:281 - Continuing with account jp_nlp_research on queue SearchTimeline\n",
      "2024-03-30 22:32:54.122 | INFO     | twscrape.accounts_pool:get_for_queue_or_wait:275 - No account available for queue \"SearchTimeline\". Next available at 22:33:46\n",
      "2024-03-30 22:46:49.931 | INFO     | twscrape.accounts_pool:get_for_queue_or_wait:281 - Continuing with account jp_nlp_res_3 on queue SearchTimeline\n",
      "2024-03-30 22:53:21.933 | INFO     | twscrape.accounts_pool:get_for_queue_or_wait:275 - No account available for queue \"SearchTimeline\". Next available at 23:01:50\n",
      "2024-03-30 22:58:37.744 | INFO     | twscrape.accounts_pool:get_for_queue_or_wait:281 - Continuing with account jp_nlp_res_6 on queue SearchTimeline\n",
      "2024-03-30 22:58:38.311 | WARNING  | twscrape.queue_client:_check_rep:157 - Ban detected: 200 - 49/50 - jp_nlp_res_6 - (326) Authorization: Denied by access control: To protect our users from spam and other malicious activity, this account is temporarily locked. Please log in to https://twitter.com to unlock your account.\n",
      "2024-03-30 22:58:38.329 | INFO     | twscrape.accounts_pool:get_for_queue_or_wait:275 - No account available for queue \"SearchTimeline\". Next available at 23:01:50\n",
      "2024-03-30 22:58:53.366 | INFO     | twscrape.accounts_pool:get_for_queue_or_wait:281 - Continuing with account jp_nlp_res_2 on queue SearchTimeline\n",
      "2024-03-30 22:58:53.882 | WARNING  | twscrape.queue_client:_check_rep:157 - Ban detected: 200 - 49/50 - jp_nlp_res_2 - (326) Authorization: Denied by access control: To protect our users from spam and other malicious activity, this account is temporarily locked. Please log in to https://twitter.com to unlock your account.\n",
      "2024-03-30 22:58:54.300 | WARNING  | twscrape.queue_client:_check_rep:157 - Ban detected: 200 - 49/50 - jp_nlp_res_5 - (326) Authorization: Denied by access control: To protect our users from spam and other malicious activity, this account is temporarily locked. Please log in to https://twitter.com to unlock your account.\n",
      "2024-03-30 22:58:54.669 | WARNING  | twscrape.queue_client:_check_rep:157 - Ban detected: 200 - 49/50 - nlp542381374579 - (326) Authorization: Denied by access control: To protect our users from spam and other malicious activity, this account is temporarily locked. Please log in to https://twitter.com to unlock your account.\n",
      "2024-03-30 22:58:54.687 | INFO     | twscrape.accounts_pool:get_for_queue_or_wait:275 - No account available for queue \"SearchTimeline\". Next available at 23:01:50\n",
      "2024-03-30 23:01:55.057 | INFO     | twscrape.accounts_pool:get_for_queue_or_wait:281 - Continuing with account jp_nlp_res_2 on queue SearchTimeline\n",
      "2024-03-30 23:07:37.649 | INFO     | twscrape.accounts_pool:get_for_queue_or_wait:275 - No account available for queue \"SearchTimeline\". Next available at 23:13:53\n",
      "2024-03-30 23:13:54.331 | INFO     | twscrape.accounts_pool:get_for_queue_or_wait:281 - Continuing with account jp_nlp_res_2 on queue SearchTimeline\n",
      "2024-03-30 23:15:59.601 | INFO     | twscrape.accounts_pool:get_for_queue_or_wait:275 - No account available for queue \"SearchTimeline\". Next available at 23:17:34\n",
      "2024-03-30 23:17:39.825 | INFO     | twscrape.accounts_pool:get_for_queue_or_wait:281 - Continuing with account jp_nlp_res_3 on queue SearchTimeline\n",
      "2024-03-30 23:19:02.432 | INFO     | twscrape.accounts_pool:get_for_queue_or_wait:275 - No account available for queue \"SearchTimeline\". Next available at 23:19:40\n",
      "2024-03-30 23:19:42.507 | INFO     | twscrape.accounts_pool:get_for_queue_or_wait:281 - Continuing with account jp_nlp_research on queue SearchTimeline\n",
      "2024-03-30 23:20:25.253 | INFO     | twscrape.accounts_pool:get_for_queue_or_wait:275 - No account available for queue \"SearchTimeline\". Next available at 23:21:02\n",
      "2024-03-30 23:21:05.331 | INFO     | twscrape.accounts_pool:get_for_queue_or_wait:281 - Continuing with account nlp654242235435 on queue SearchTimeline\n",
      "2024-03-30 23:22:37.822 | INFO     | twscrape.accounts_pool:get_for_queue_or_wait:275 - No account available for queue \"SearchTimeline\". Next available at 23:28:54\n",
      "2024-03-30 23:28:58.820 | INFO     | twscrape.accounts_pool:get_for_queue_or_wait:281 - Continuing with account jp_nlp_res_2 on queue SearchTimeline\n"
     ]
    }
   ],
   "source": [
    "# vietnam\n",
    "scrape_keyword_sampled_tweets(\"2022\", \"ベトナム人\", \"vietnamjin\")\n",
    "concatenate_keyword_txt_files(\"2022\", \"vietnamjin\")\n",
    "\n",
    "scrape_keyword_sampled_tweets(\"2015\", \"ベトナム人\", \"vietnamjin\")\n",
    "concatenate_keyword_txt_files(\"2015\", \"vietnamjin\")"
   ]
  },
  {
   "cell_type": "code",
   "execution_count": null,
   "metadata": {},
   "outputs": [],
   "source": [
    "# philippines\n",
    "scrape_keyword_sampled_tweets(\"2022\", \"フィリピン人\", \"philippinejin\")\n",
    "concatenate_keyword_txt_files(\"2022\", \"philippinejin\")\n",
    "\n",
    "scrape_keyword_sampled_tweets(\"2015\", \"フィリピン人\", \"philippinejin\")\n",
    "concatenate_keyword_txt_files(\"2015\", \"philippinejin\")"
   ]
  },
  {
   "cell_type": "code",
   "execution_count": null,
   "metadata": {},
   "outputs": [],
   "source": [
    "# nepal\n",
    "scrape_keyword_sampled_tweets(\"2022\", \"ネパール人\", \"nepaljin\")\n",
    "concatenate_keyword_txt_files(\"2022\", \"nepaljin\")\n",
    "\n",
    "scrape_keyword_sampled_tweets(\"2015\", \"ネパール人\", \"nepaljin\")\n",
    "concatenate_keyword_txt_files(\"2015\", \"nepaljin\")"
   ]
  },
  {
   "cell_type": "code",
   "execution_count": null,
   "metadata": {},
   "outputs": [],
   "source": [
    "# indonesia\n",
    "scrape_keyword_sampled_tweets(\"2022\", \"インドネシア人\", \"indonesiajin\")\n",
    "concatenate_keyword_txt_files(\"2022\", \"indonesiajin\")\n",
    "\n",
    "scrape_keyword_sampled_tweets(\"2015\", \"インドネシア人\", \"indonesiajin\")\n",
    "concatenate_keyword_txt_files(\"2015\", \"indonesiajin\")"
   ]
  },
  {
   "cell_type": "code",
   "execution_count": null,
   "metadata": {},
   "outputs": [],
   "source": [
    "# zainichi kankokujin\n",
    "scrape_keyword_sampled_tweets(\"2022\", \"在日韓国人\", \"zainichi_kankokujin\")\n",
    "concatenate_keyword_txt_files(\"2022\", \"zainichi_kankokujin\")\n",
    "\n",
    "# 2015\n",
    "scrape_keyword_sampled_tweets(\"2015\", \"在日韓国人\", \"zainichi_kankokujin\")\n",
    "concatenate_keyword_txt_files(\"2015\", \"zainichi_kankokujin\")"
   ]
  },
  {
   "cell_type": "code",
   "execution_count": null,
   "metadata": {},
   "outputs": [],
   "source": [
    "# gaijin [didn't do; hold]\n",
    "scrape_keyword_sampled_tweets(\"2022\", \"外人\", \"gaijin\")\n",
    "concatenate_keyword_txt_files(\"2022\", \"gaijin\")\n",
    "\n",
    "# [DONE]\n",
    "scrape_keyword_sampled_tweets(\"2015\", \"外人\", \"gaijin\")\n",
    "concatenate_keyword_txt_files(\"2015\", \"gaijin\")"
   ]
  }
 ],
 "metadata": {
  "kernelspec": {
   "display_name": "thesis-hw276cHk",
   "language": "python",
   "name": "python3"
  },
  "language_info": {
   "codemirror_mode": {
    "name": "ipython",
    "version": 3
   },
   "file_extension": ".py",
   "mimetype": "text/x-python",
   "name": "python",
   "nbconvert_exporter": "python",
   "pygments_lexer": "ipython3",
   "version": "3.11.5"
  }
 },
 "nbformat": 4,
 "nbformat_minor": 2
}
