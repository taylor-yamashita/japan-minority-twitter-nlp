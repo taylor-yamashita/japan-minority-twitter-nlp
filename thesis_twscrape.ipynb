{
 "cells": [
  {
   "cell_type": "markdown",
   "metadata": {},
   "source": [
    "### Setup"
   ]
  },
  {
   "cell_type": "code",
   "execution_count": 8,
   "metadata": {},
   "outputs": [
    {
     "name": "stdout",
     "output_type": "stream",
     "text": [
      "username         logged_in  active  last_used            total_req  error_msg                 \n",
      "nlp654242235435  1          1       2024-04-10 01:13:48  20,115     None                      \n",
      "nlp542381374579  1          1       2024-04-10 01:13:23  19,777     None                      \n",
      "jp_nlp_research  1          1       2024-04-10 01:12:58  20,993     None                      \n",
      "jp_nlp_res_6     1          1       2024-04-10 01:12:32  21,403     None                      \n",
      "jp_nlp_res_5     1          1       2024-04-10 01:12:08  23,112     None                      \n",
      "jp_nlp_res_4     1          1       2024-04-10 01:11:43  23,408     None                      \n",
      "jp_nlp_res_3     1          1       2024-04-10 01:11:18  25,959     None                      \n",
      "jp_nlp_res_2     1          1       2024-04-10 01:10:54  28,052     None                      \n",
      "thesisthesis339  1          0       2024-03-31 17:16:45  3,122      (88) Rate limit exceeded. \n",
      "thesisthesis340  1          0       2024-03-31 17:16:45  2,982      (88) Rate limit exceeded. \n"
     ]
    },
    {
     "data": {
      "text/plain": [
       "0"
      ]
     },
     "execution_count": 8,
     "metadata": {},
     "output_type": "execute_result"
    }
   ],
   "source": [
    "os.system(\"twscrape accounts\")"
   ]
  },
  {
   "cell_type": "code",
   "execution_count": 4,
   "metadata": {},
   "outputs": [],
   "source": [
    "import os\n",
    "import random\n",
    "from typing import List\n",
    "import twscrape"
   ]
  },
  {
   "cell_type": "markdown",
   "metadata": {},
   "source": [
    "### Case 1: Scraping general tweet set for given year"
   ]
  },
  {
   "cell_type": "code",
   "execution_count": 4,
   "metadata": {},
   "outputs": [],
   "source": [
    "def set_up_directories(keyword_eng: str, year: str):\n",
    "    dir_path = year if keyword_eng == \"\" else keyword_eng + \"_\" + year\n",
    "    os.mkdir(dir_path)\n",
    "\n",
    "    # single digit month\n",
    "    for i in range(1,10):\n",
    "        path = dir_path + \"/\" + \"0\" + str(i)\n",
    "        os.mkdir(path) \n",
    "\n",
    "    # double digit month\n",
    "    for j in range(10,13):\n",
    "        path = dir_path + \"/\" + str(j)\n",
    "        os.mkdir(path) "
   ]
  },
  {
   "cell_type": "code",
   "execution_count": 9,
   "metadata": {},
   "outputs": [],
   "source": [
    "# scrape randomly sampled tweets for 10 days in given month\n",
    "def scrape_month_sampled_tweets(year: str, months: List[str], days_in_month: int):\n",
    "    range_days = list(range(1,days_in_month+1))\n",
    "    range_times = list(range(0,24))\n",
    "\n",
    "    # sample 10 random days and times of day for each month\n",
    "    for m in months: \n",
    "        month_path = year + \"/\" + m\n",
    "        days = sorted(random.sample(range_days, k=10))   # random days of month (no replacement)\n",
    "        times = random.choices(range_times, k=10)   # random hours of day (replacement)\n",
    "        \n",
    "        # scrape tweets for the 10 picked days and times\n",
    "        for t in range(10):     \n",
    "            day = \"0\" + str(days[t]) if days[t] < 10 else str(days[t])\n",
    "            time = \"0\" + str(times[t]) if times[t] < 10 else str(times[t])\n",
    "            date_string = year + '-' + m + '-' + day\n",
    "            day_path = month_path + \"/\" + year + \"-\" + m + \"-\" + day + \".txt\"\n",
    "            command = 'twscrape search \"since:' + date_string + '_' + time + ':00:00_UTC until:' + date_string + '_' + time + ':59:59_UTC lang:ja\"　> ' + day_path + ' --limit=4500'\n",
    "            os.system(command)"
   ]
  },
  {
   "cell_type": "code",
   "execution_count": 10,
   "metadata": {},
   "outputs": [],
   "source": [
    "# scrape random sample of tweets (general content or keyword-search) from given year\n",
    "def scrape_year_sampled_tweets(year: str):\n",
    "    # 28 day months\n",
    "    scrape_month_sampled_tweets(year,[\"02\"], 28)    # omit leap year 29th days for simplicity...?\n",
    "\n",
    "    # 30 day months\n",
    "    months_30 = [\"04\",\"06\",\"09\",\"11\"]\n",
    "    scrape_month_sampled_tweets(year,months_30, 30)\n",
    "\n",
    "    # 31 day months\n",
    "    months_31 = [\"01\",\"03\",\"05\",\"07\",\"08\",\"10\",\"12\"]\n",
    "    scrape_month_sampled_tweets(year,months_31, 31)"
   ]
  },
  {
   "cell_type": "code",
   "execution_count": 11,
   "metadata": {},
   "outputs": [],
   "source": [
    "def concatenate_general_txt_files(year: str, keyword_eng=\"\"):\n",
    "  # concatenate .txt files into one file per month\n",
    "  for root, dirs, files in os.walk(\"./\" + year):\n",
    "      for name in dirs:\n",
    "        month_path = os.path.join(root, name)\n",
    "        os.system(\"cat \" + month_path + \"/*.txt > \" + year + \"/\" + name + \".txt\")\n",
    "  \n",
    "  # concatenate month .txt files into one file for the year\n",
    "  os.system(\"cat \" + year + \"/*.txt > \" + year + \"-all.txt\")"
   ]
  },
  {
   "cell_type": "markdown",
   "metadata": {},
   "source": [
    "#### Scraping general year sample datasets"
   ]
  },
  {
   "cell_type": "code",
   "execution_count": null,
   "metadata": {},
   "outputs": [],
   "source": [
    "# last took 1790m\n",
    "scrape_year_sampled_tweets(\"2015\")\n",
    "concatenate_general_txt_files(\"2015\")"
   ]
  },
  {
   "cell_type": "code",
   "execution_count": 12,
   "metadata": {},
   "outputs": [
    {
     "name": "stderr",
     "output_type": "stream",
     "text": [
      "2024-04-09 21:35:35.933 | INFO     | twscrape.accounts_pool:get_for_queue_or_wait:275 - No account available for queue \"SearchTimeline\". Next available at 21:47:32\n",
      "2024-04-09 21:47:33.687 | INFO     | twscrape.accounts_pool:get_for_queue_or_wait:281 - Continuing with account jp_nlp_res_2 on queue SearchTimeline\n",
      "2024-04-09 21:49:04.700 | INFO     | twscrape.accounts_pool:get_for_queue_or_wait:275 - No account available for queue \"SearchTimeline\". Next available at now\n",
      "2024-04-09 21:49:09.705 | INFO     | twscrape.accounts_pool:get_for_queue_or_wait:281 - Continuing with account jp_nlp_res_6 on queue SearchTimeline\n",
      "2024-04-09 21:50:45.381 | INFO     | twscrape.accounts_pool:get_for_queue_or_wait:275 - No account available for queue \"SearchTimeline\". Next available at 22:02:34\n",
      "2024-04-09 22:02:36.385 | INFO     | twscrape.accounts_pool:get_for_queue_or_wait:281 - Continuing with account jp_nlp_res_2 on queue SearchTimeline\n",
      "2024-04-09 22:05:50.783 | INFO     | twscrape.accounts_pool:get_for_queue_or_wait:275 - No account available for queue \"SearchTimeline\". Next available at 22:17:36\n",
      "2024-04-09 22:17:37.303 | INFO     | twscrape.accounts_pool:get_for_queue_or_wait:281 - Continuing with account jp_nlp_res_2 on queue SearchTimeline\n",
      "2024-04-09 22:18:49.794 | INFO     | twscrape.accounts_pool:get_for_queue_or_wait:275 - No account available for queue \"SearchTimeline\". Next available at now\n",
      "2024-04-09 22:18:54.820 | INFO     | twscrape.accounts_pool:get_for_queue_or_wait:281 - Continuing with account jp_nlp_res_5 on queue SearchTimeline\n",
      "2024-04-09 22:20:52.529 | INFO     | twscrape.accounts_pool:get_for_queue_or_wait:275 - No account available for queue \"SearchTimeline\". Next available at 22:32:37\n",
      "2024-04-09 22:32:38.933 | INFO     | twscrape.accounts_pool:get_for_queue_or_wait:281 - Continuing with account jp_nlp_res_2 on queue SearchTimeline\n",
      "2024-04-09 22:33:01.676 | INFO     | twscrape.accounts_pool:get_for_queue_or_wait:275 - No account available for queue \"SearchTimeline\". Next available at 22:33:04\n",
      "2024-04-09 22:33:06.683 | INFO     | twscrape.accounts_pool:get_for_queue_or_wait:281 - Continuing with account jp_nlp_res_3 on queue SearchTimeline\n",
      "2024-04-09 22:33:52.922 | INFO     | twscrape.accounts_pool:get_for_queue_or_wait:275 - No account available for queue \"SearchTimeline\". Next available at 22:33:55\n",
      "2024-04-09 22:33:57.928 | INFO     | twscrape.accounts_pool:get_for_queue_or_wait:281 - Continuing with account jp_nlp_res_5 on queue SearchTimeline\n",
      "2024-04-09 22:34:19.731 | INFO     | twscrape.accounts_pool:get_for_queue_or_wait:275 - No account available for queue \"SearchTimeline\". Next available at now\n",
      "2024-04-09 22:34:24.737 | INFO     | twscrape.accounts_pool:get_for_queue_or_wait:281 - Continuing with account jp_nlp_res_6 on queue SearchTimeline\n",
      "2024-04-09 22:35:56.900 | INFO     | twscrape.accounts_pool:get_for_queue_or_wait:275 - No account available for queue \"SearchTimeline\". Next available at 22:47:39\n",
      "2024-04-09 22:47:43.622 | INFO     | twscrape.accounts_pool:get_for_queue_or_wait:281 - Continuing with account jp_nlp_res_2 on queue SearchTimeline\n",
      "2024-04-09 22:48:56.265 | INFO     | twscrape.accounts_pool:get_for_queue_or_wait:275 - No account available for queue \"SearchTimeline\". Next available at 22:48:58\n",
      "2024-04-09 22:49:01.270 | INFO     | twscrape.accounts_pool:get_for_queue_or_wait:281 - Continuing with account jp_nlp_res_5 on queue SearchTimeline\n",
      "2024-04-09 22:50:58.605 | INFO     | twscrape.accounts_pool:get_for_queue_or_wait:275 - No account available for queue \"SearchTimeline\". Next available at 23:02:43\n",
      "2024-04-09 23:02:47.054 | INFO     | twscrape.accounts_pool:get_for_queue_or_wait:281 - Continuing with account jp_nlp_res_2 on queue SearchTimeline\n",
      "2024-04-09 23:06:11.330 | INFO     | twscrape.accounts_pool:get_for_queue_or_wait:275 - No account available for queue \"SearchTimeline\". Next available at 23:17:47\n",
      "2024-04-09 23:17:49.100 | INFO     | twscrape.accounts_pool:get_for_queue_or_wait:281 - Continuing with account jp_nlp_res_2 on queue SearchTimeline\n",
      "2024-04-09 23:18:15.715 | INFO     | twscrape.accounts_pool:get_for_queue_or_wait:275 - No account available for queue \"SearchTimeline\". Next available at 23:18:16\n",
      "2024-04-09 23:18:20.742 | INFO     | twscrape.accounts_pool:get_for_queue_or_wait:281 - Continuing with account jp_nlp_res_3 on queue SearchTimeline\n",
      "2024-04-09 23:21:35.790 | INFO     | twscrape.accounts_pool:get_for_queue_or_wait:275 - No account available for queue \"SearchTimeline\". Next available at 23:32:49\n",
      "2024-04-09 23:32:51.711 | INFO     | twscrape.accounts_pool:get_for_queue_or_wait:281 - Continuing with account jp_nlp_res_2 on queue SearchTimeline\n",
      "2024-04-09 23:33:16.265 | INFO     | twscrape.accounts_pool:get_for_queue_or_wait:275 - No account available for queue \"SearchTimeline\". Next available at 23:33:21\n",
      "2024-04-09 23:33:26.288 | INFO     | twscrape.accounts_pool:get_for_queue_or_wait:281 - Continuing with account jp_nlp_res_3 on queue SearchTimeline\n",
      "2024-04-09 23:34:41.852 | INFO     | twscrape.accounts_pool:get_for_queue_or_wait:275 - No account available for queue \"SearchTimeline\". Next available at 23:34:47\n",
      "2024-04-09 23:34:51.864 | INFO     | twscrape.accounts_pool:get_for_queue_or_wait:281 - Continuing with account jp_nlp_res_6 on queue SearchTimeline\n",
      "2024-04-09 23:35:17.124 | INFO     | twscrape.accounts_pool:get_for_queue_or_wait:275 - No account available for queue \"SearchTimeline\". Next available at 23:35:19\n",
      "2024-04-09 23:35:22.131 | INFO     | twscrape.accounts_pool:get_for_queue_or_wait:281 - Continuing with account jp_nlp_research on queue SearchTimeline\n",
      "2024-04-09 23:36:39.275 | INFO     | twscrape.accounts_pool:get_for_queue_or_wait:275 - No account available for queue \"SearchTimeline\". Next available at 23:47:52\n",
      "2024-04-09 23:47:55.113 | INFO     | twscrape.accounts_pool:get_for_queue_or_wait:281 - Continuing with account jp_nlp_res_2 on queue SearchTimeline\n",
      "2024-04-09 23:48:21.344 | INFO     | twscrape.accounts_pool:get_for_queue_or_wait:275 - No account available for queue \"SearchTimeline\". Next available at 23:48:26\n",
      "2024-04-09 23:48:31.364 | INFO     | twscrape.accounts_pool:get_for_queue_or_wait:281 - Continuing with account jp_nlp_res_3 on queue SearchTimeline\n",
      "2024-04-09 23:49:45.876 | INFO     | twscrape.accounts_pool:get_for_queue_or_wait:275 - No account available for queue \"SearchTimeline\". Next available at 23:49:52\n",
      "2024-04-09 23:49:55.897 | INFO     | twscrape.accounts_pool:get_for_queue_or_wait:281 - Continuing with account jp_nlp_res_6 on queue SearchTimeline\n",
      "2024-04-09 23:50:21.266 | INFO     | twscrape.accounts_pool:get_for_queue_or_wait:275 - No account available for queue \"SearchTimeline\". Next available at 23:50:22\n",
      "2024-04-09 23:50:26.274 | INFO     | twscrape.accounts_pool:get_for_queue_or_wait:281 - Continuing with account jp_nlp_research on queue SearchTimeline\n",
      "2024-04-09 23:51:43.587 | INFO     | twscrape.accounts_pool:get_for_queue_or_wait:275 - No account available for queue \"SearchTimeline\". Next available at 00:02:55\n",
      "2024-04-10 00:02:59.449 | INFO     | twscrape.accounts_pool:get_for_queue_or_wait:281 - Continuing with account jp_nlp_res_2 on queue SearchTimeline\n",
      "2024-04-10 00:03:28.320 | INFO     | twscrape.accounts_pool:get_for_queue_or_wait:275 - No account available for queue \"SearchTimeline\". Next available at 00:03:31\n",
      "2024-04-10 00:03:33.331 | INFO     | twscrape.accounts_pool:get_for_queue_or_wait:281 - Continuing with account jp_nlp_res_3 on queue SearchTimeline\n",
      "2024-04-10 00:04:47.656 | INFO     | twscrape.accounts_pool:get_for_queue_or_wait:275 - No account available for queue \"SearchTimeline\". Next available at 00:04:56\n",
      "2024-04-10 00:04:57.678 | INFO     | twscrape.accounts_pool:get_for_queue_or_wait:281 - Continuing with account jp_nlp_res_6 on queue SearchTimeline\n",
      "2024-04-10 00:05:24.543 | INFO     | twscrape.accounts_pool:get_for_queue_or_wait:275 - No account available for queue \"SearchTimeline\". Next available at 00:05:26\n",
      "2024-04-10 00:05:29.556 | INFO     | twscrape.accounts_pool:get_for_queue_or_wait:281 - Continuing with account jp_nlp_research on queue SearchTimeline\n",
      "2024-04-10 00:06:44.217 | INFO     | twscrape.accounts_pool:get_for_queue_or_wait:275 - No account available for queue \"SearchTimeline\". Next available at 00:17:59\n",
      "2024-04-10 00:18:00.149 | INFO     | twscrape.accounts_pool:get_for_queue_or_wait:281 - Continuing with account jp_nlp_res_2 on queue SearchTimeline\n",
      "2024-04-10 00:18:24.927 | INFO     | twscrape.accounts_pool:get_for_queue_or_wait:275 - No account available for queue \"SearchTimeline\". Next available at 00:18:33\n",
      "2024-04-10 00:18:34.940 | INFO     | twscrape.accounts_pool:get_for_queue_or_wait:281 - Continuing with account jp_nlp_res_3 on queue SearchTimeline\n",
      "2024-04-10 00:19:48.685 | INFO     | twscrape.accounts_pool:get_for_queue_or_wait:275 - No account available for queue \"SearchTimeline\". Next available at 00:19:57\n",
      "2024-04-10 00:19:58.700 | INFO     | twscrape.accounts_pool:get_for_queue_or_wait:281 - Continuing with account jp_nlp_res_6 on queue SearchTimeline\n",
      "2024-04-10 00:20:23.804 | INFO     | twscrape.accounts_pool:get_for_queue_or_wait:275 - No account available for queue \"SearchTimeline\". Next available at 00:20:29\n",
      "2024-04-10 00:20:33.813 | INFO     | twscrape.accounts_pool:get_for_queue_or_wait:281 - Continuing with account jp_nlp_research on queue SearchTimeline\n",
      "2024-04-10 00:21:46.749 | INFO     | twscrape.accounts_pool:get_for_queue_or_wait:275 - No account available for queue \"SearchTimeline\". Next available at 00:33:00\n",
      "2024-04-10 00:33:02.622 | INFO     | twscrape.accounts_pool:get_for_queue_or_wait:281 - Continuing with account jp_nlp_res_2 on queue SearchTimeline\n",
      "2024-04-10 00:33:27.455 | INFO     | twscrape.accounts_pool:get_for_queue_or_wait:275 - No account available for queue \"SearchTimeline\". Next available at 00:33:35\n",
      "2024-04-10 00:33:37.473 | INFO     | twscrape.accounts_pool:get_for_queue_or_wait:281 - Continuing with account jp_nlp_res_3 on queue SearchTimeline\n",
      "2024-04-10 00:34:00.401 | INFO     | twscrape.accounts_pool:get_for_queue_or_wait:275 - No account available for queue \"SearchTimeline\". Next available at now\n",
      "2024-04-10 00:34:05.409 | INFO     | twscrape.accounts_pool:get_for_queue_or_wait:281 - Continuing with account jp_nlp_res_4 on queue SearchTimeline\n",
      "2024-04-10 00:34:51.875 | INFO     | twscrape.accounts_pool:get_for_queue_or_wait:275 - No account available for queue \"SearchTimeline\". Next available at 00:34:58\n",
      "2024-04-10 00:35:01.892 | INFO     | twscrape.accounts_pool:get_for_queue_or_wait:281 - Continuing with account jp_nlp_res_6 on queue SearchTimeline\n",
      "2024-04-10 00:35:24.840 | INFO     | twscrape.accounts_pool:get_for_queue_or_wait:275 - No account available for queue \"SearchTimeline\". Next available at 00:35:34\n",
      "2024-04-10 00:35:39.863 | INFO     | twscrape.accounts_pool:get_for_queue_or_wait:281 - Continuing with account jp_nlp_research on queue SearchTimeline\n",
      "2024-04-10 00:36:50.415 | INFO     | twscrape.accounts_pool:get_for_queue_or_wait:275 - No account available for queue \"SearchTimeline\". Next available at 00:48:02\n",
      "2024-04-10 00:48:06.236 | INFO     | twscrape.accounts_pool:get_for_queue_or_wait:281 - Continuing with account jp_nlp_res_2 on queue SearchTimeline\n",
      "2024-04-10 00:48:30.465 | INFO     | twscrape.accounts_pool:get_for_queue_or_wait:275 - No account available for queue \"SearchTimeline\". Next available at 00:48:37\n",
      "2024-04-10 00:48:40.474 | INFO     | twscrape.accounts_pool:get_for_queue_or_wait:281 - Continuing with account jp_nlp_res_3 on queue SearchTimeline\n",
      "2024-04-10 00:49:05.326 | INFO     | twscrape.accounts_pool:get_for_queue_or_wait:275 - No account available for queue \"SearchTimeline\". Next available at now\n",
      "2024-04-10 00:49:10.344 | INFO     | twscrape.accounts_pool:get_for_queue_or_wait:281 - Continuing with account jp_nlp_res_4 on queue SearchTimeline\n",
      "2024-04-10 00:50:00.070 | INFO     | twscrape.accounts_pool:get_for_queue_or_wait:275 - No account available for queue \"SearchTimeline\". Next available at 00:50:02\n",
      "2024-04-10 00:50:05.075 | INFO     | twscrape.accounts_pool:get_for_queue_or_wait:281 - Continuing with account jp_nlp_res_6 on queue SearchTimeline\n",
      "2024-04-10 00:52:12.425 | INFO     | twscrape.accounts_pool:get_for_queue_or_wait:275 - No account available for queue \"SearchTimeline\". Next available at 01:03:06\n",
      "2024-04-10 01:03:08.718 | INFO     | twscrape.accounts_pool:get_for_queue_or_wait:281 - Continuing with account jp_nlp_res_2 on queue SearchTimeline\n",
      "2024-04-10 01:03:32.626 | INFO     | twscrape.accounts_pool:get_for_queue_or_wait:275 - No account available for queue \"SearchTimeline\". Next available at 01:03:40\n",
      "2024-04-10 01:03:42.644 | INFO     | twscrape.accounts_pool:get_for_queue_or_wait:281 - Continuing with account jp_nlp_res_3 on queue SearchTimeline\n",
      "2024-04-10 01:04:08.141 | INFO     | twscrape.accounts_pool:get_for_queue_or_wait:275 - No account available for queue \"SearchTimeline\". Next available at 01:04:10\n",
      "2024-04-10 01:04:13.149 | INFO     | twscrape.accounts_pool:get_for_queue_or_wait:281 - Continuing with account jp_nlp_res_4 on queue SearchTimeline\n",
      "2024-04-10 01:04:36.240 | INFO     | twscrape.accounts_pool:get_for_queue_or_wait:275 - No account available for queue \"SearchTimeline\". Next available at now\n",
      "2024-04-10 01:04:41.244 | INFO     | twscrape.accounts_pool:get_for_queue_or_wait:281 - Continuing with account jp_nlp_res_5 on queue SearchTimeline\n",
      "2024-04-10 01:05:05.397 | INFO     | twscrape.accounts_pool:get_for_queue_or_wait:275 - No account available for queue \"SearchTimeline\". Next available at now\n",
      "2024-04-10 01:05:10.409 | INFO     | twscrape.accounts_pool:get_for_queue_or_wait:281 - Continuing with account jp_nlp_res_6 on queue SearchTimeline\n",
      "2024-04-10 01:05:34.887 | INFO     | twscrape.accounts_pool:get_for_queue_or_wait:275 - No account available for queue \"SearchTimeline\". Next available at 01:05:46\n",
      "2024-04-10 01:05:49.907 | INFO     | twscrape.accounts_pool:get_for_queue_or_wait:281 - Continuing with account jp_nlp_research on queue SearchTimeline\n",
      "2024-04-10 01:06:39.430 | INFO     | twscrape.accounts_pool:get_for_queue_or_wait:275 - No account available for queue \"SearchTimeline\". Next available at 01:06:44\n",
      "2024-04-10 01:06:49.439 | INFO     | twscrape.accounts_pool:get_for_queue_or_wait:281 - Continuing with account nlp654242235435 on queue SearchTimeline\n",
      "2024-04-10 01:07:13.192 | INFO     | twscrape.accounts_pool:get_for_queue_or_wait:275 - No account available for queue \"SearchTimeline\". Next available at 01:18:09\n",
      "2024-04-10 01:18:14.480 | INFO     | twscrape.accounts_pool:get_for_queue_or_wait:281 - Continuing with account jp_nlp_res_2 on queue SearchTimeline\n",
      "2024-04-10 01:18:40.490 | INFO     | twscrape.accounts_pool:get_for_queue_or_wait:275 - No account available for queue \"SearchTimeline\". Next available at 01:18:42\n",
      "2024-04-10 01:18:45.524 | INFO     | twscrape.accounts_pool:get_for_queue_or_wait:281 - Continuing with account jp_nlp_res_3 on queue SearchTimeline\n",
      "2024-04-10 01:19:10.309 | INFO     | twscrape.accounts_pool:get_for_queue_or_wait:275 - No account available for queue \"SearchTimeline\". Next available at 01:19:13\n",
      "2024-04-10 01:19:15.314 | INFO     | twscrape.accounts_pool:get_for_queue_or_wait:281 - Continuing with account jp_nlp_res_4 on queue SearchTimeline\n",
      "2024-04-10 01:19:39.698 | INFO     | twscrape.accounts_pool:get_for_queue_or_wait:275 - No account available for queue \"SearchTimeline\". Next available at 01:19:41\n",
      "2024-04-10 01:19:44.705 | INFO     | twscrape.accounts_pool:get_for_queue_or_wait:281 - Continuing with account jp_nlp_res_5 on queue SearchTimeline\n",
      "2024-04-10 01:20:09.387 | INFO     | twscrape.accounts_pool:get_for_queue_or_wait:275 - No account available for queue \"SearchTimeline\". Next available at 01:20:10\n",
      "2024-04-10 01:20:14.393 | INFO     | twscrape.accounts_pool:get_for_queue_or_wait:281 - Continuing with account jp_nlp_res_6 on queue SearchTimeline\n",
      "2024-04-10 01:20:39.190 | INFO     | twscrape.accounts_pool:get_for_queue_or_wait:275 - No account available for queue \"SearchTimeline\". Next available at 01:20:50\n",
      "2024-04-10 01:20:54.209 | INFO     | twscrape.accounts_pool:get_for_queue_or_wait:281 - Continuing with account jp_nlp_research on queue SearchTimeline\n",
      "2024-04-10 01:21:44.204 | INFO     | twscrape.accounts_pool:get_for_queue_or_wait:275 - No account available for queue \"SearchTimeline\". Next available at 01:21:49\n",
      "2024-04-10 01:21:54.211 | INFO     | twscrape.accounts_pool:get_for_queue_or_wait:281 - Continuing with account nlp654242235435 on queue SearchTimeline\n",
      "2024-04-10 01:22:20.442 | INFO     | twscrape.accounts_pool:get_for_queue_or_wait:275 - No account available for queue \"SearchTimeline\". Next available at 01:33:14\n"
     ]
    }
   ],
   "source": [
    "scrape_year_sampled_tweets(\"2022\")\n",
    "concatenate_general_txt_files(\"2022\")"
   ]
  },
  {
   "cell_type": "markdown",
   "metadata": {},
   "source": [
    "### Case 2: Scraping minority keyword-related tweet set"
   ]
  },
  {
   "cell_type": "code",
   "execution_count": 6,
   "metadata": {},
   "outputs": [],
   "source": [
    "# scrape tweets containing keyword from every month of given year\n",
    "def scrape_keyword_month_tweets(year: str, months: List[str], days_in_month: int, keyword_jp: str, keyword_eng: str):\n",
    "    for m in months: \n",
    "        command = 'twscrape search \"' + keyword_jp + ' since:' + year + '-' + m + '-01_00:00:00_UTC until:' + year + '-' + m + '-' + str(days_in_month) + '_23:59:59_UTC lang:ja\"　> ' + keyword_eng + '_' + year + '/' + m + '.txt --limit=30000'\n",
    "        os.system(command)"
   ]
  },
  {
   "cell_type": "code",
   "execution_count": 7,
   "metadata": {},
   "outputs": [],
   "source": [
    "# scrape all tweets containing keyword in given year\n",
    "def scrape_keyword_sampled_tweets(year: str, keyword_jp: str, keyword_eng: str):\n",
    "    os.mkdir(keyword_eng + \"_\" + year) \n",
    "\n",
    "    # 28 day months\n",
    "    scrape_keyword_month_tweets(year,[\"02\"], 28, keyword_jp, keyword_eng)    # omit leap year 29th days for simplicity...?\n",
    "\n",
    "    # 30 day months\n",
    "    months_30 = [\"04\",\"06\",\"09\",\"11\"]\n",
    "    scrape_keyword_month_tweets(year,months_30, 30, keyword_jp, keyword_eng)\n",
    "\n",
    "    # 31 day months\n",
    "    months_31 = [\"01\",\"03\",\"05\",\"07\",\"08\",\"10\",\"12\"]\n",
    "    scrape_keyword_month_tweets(year,months_31, 31, keyword_jp, keyword_eng)"
   ]
  },
  {
   "cell_type": "code",
   "execution_count": 8,
   "metadata": {},
   "outputs": [],
   "source": [
    "def concatenate_keyword_txt_files(year: str, keyword_eng=\"\"):\n",
    "  # concatenate month .txt files into one file for the year\n",
    "  os.system(\"cat \" + keyword_eng + \"_\" + year + \"/\" + \"*.txt > \" + keyword_eng + \"_\" + year + \".txt\")"
   ]
  },
  {
   "cell_type": "markdown",
   "metadata": {},
   "source": [
    "#### Minority keyword-related datasets"
   ]
  },
  {
   "cell_type": "code",
   "execution_count": null,
   "metadata": {},
   "outputs": [],
   "source": [
    "# zainichi korean\n",
    "scrape_keyword_sampled_tweets(\"2022\", \"在日コリアン\", \"zainichi\")\n",
    "concatenate_keyword_txt_files(\"2022\", \"zainichi\")\n",
    "\n",
    "scrape_keyword_sampled_tweets(\"2015\", \"在日コリアン\", \"zainichi\")\n",
    "concatenate_keyword_txt_files(\"2015\", \"zainichi\")"
   ]
  },
  {
   "cell_type": "code",
   "execution_count": null,
   "metadata": {},
   "outputs": [],
   "source": [
    "# ainu\n",
    "scrape_keyword_sampled_tweets(\"2022\", \"アイヌ\", \"ainu\")\n",
    "concatenate_keyword_txt_files(\"2022\", \"ainu\")\n",
    "\n",
    "scrape_keyword_sampled_tweets(\"2015\", \"アイヌ\", \"ainu\")\n",
    "concatenate_keyword_txt_files(\"2015\", \"ainu\")"
   ]
  },
  {
   "cell_type": "code",
   "execution_count": null,
   "metadata": {},
   "outputs": [],
   "source": [
    "# ryukyujin \n",
    "scrape_keyword_sampled_tweets(\"2022\", \"琉球人\", \"ryukyujin\")\n",
    "concatenate_keyword_txt_files(\"2022\", \"ryukyujin\")\n",
    "\n",
    "scrape_keyword_sampled_tweets(\"2015\", \"琉球人\", \"ryukyujin\")\n",
    "concatenate_keyword_txt_files(\"2015\", \"ryukyujin\")"
   ]
  },
  {
   "cell_type": "code",
   "execution_count": null,
   "metadata": {},
   "outputs": [],
   "source": [
    "# not finished but didn't use\n",
    "scrape_keyword_sampled_tweets(\"2015\", \"琉球\", \"ryukyu\")\n",
    "concatenate_keyword_txt_files(\"2015\", \"ryukyu\")\n",
    "\n",
    "scrape_keyword_sampled_tweets(\"2022\", \"琉球\", \"ryukyu\")\n",
    "concatenate_keyword_txt_files(\"2022\", \"ryukyu\")"
   ]
  },
  {
   "cell_type": "code",
   "execution_count": null,
   "metadata": {},
   "outputs": [],
   "source": [
    "# okinawajin\n",
    "scrape_keyword_sampled_tweets(\"2022\", \"沖縄人\", \"okinawajin\")\n",
    "concatenate_keyword_txt_files(\"2022\", \"okinawajin\")\n",
    "\n",
    "scrape_keyword_sampled_tweets(\"2015\", \"沖縄人\", \"okinawajin\")\n",
    "concatenate_keyword_txt_files(\"2015\", \"okinawajin\")"
   ]
  },
  {
   "cell_type": "code",
   "execution_count": null,
   "metadata": {},
   "outputs": [],
   "source": [
    "# haafu\n",
    "# this one took around 100 min per month...\n",
    "scrape_keyword_sampled_tweets(\"2022\", \"ハーフ\", \"haafu\")\n",
    "concatenate_keyword_txt_files(\"2022\", \"haafu\")\n",
    "\n",
    "scrape_keyword_sampled_tweets(\"2015\", \"ハーフ\", \"haafu\")\n",
    "concatenate_keyword_txt_files(\"2015\", \"haafu\")"
   ]
  },
  {
   "cell_type": "code",
   "execution_count": null,
   "metadata": {},
   "outputs": [],
   "source": [
    "# vietnam\n",
    "scrape_keyword_sampled_tweets(\"2022\", \"ベトナム人\", \"vietnamjin\")\n",
    "concatenate_keyword_txt_files(\"2022\", \"vietnamjin\")\n",
    "\n",
    "scrape_keyword_sampled_tweets(\"2015\", \"ベトナム人\", \"vietnamjin\")\n",
    "concatenate_keyword_txt_files(\"2015\", \"vietnamjin\")"
   ]
  },
  {
   "cell_type": "code",
   "execution_count": null,
   "metadata": {},
   "outputs": [],
   "source": [
    "# philippines\n",
    "scrape_keyword_sampled_tweets(\"2022\", \"フィリピン人\", \"philippinejin\")\n",
    "concatenate_keyword_txt_files(\"2022\", \"philippinejin\")\n",
    "\n",
    "scrape_keyword_sampled_tweets(\"2015\", \"フィリピン人\", \"philippinejin\")\n",
    "concatenate_keyword_txt_files(\"2015\", \"philippinejin\")"
   ]
  },
  {
   "cell_type": "code",
   "execution_count": null,
   "metadata": {},
   "outputs": [],
   "source": [
    "# nepal\n",
    "scrape_keyword_sampled_tweets(\"2022\", \"ネパール人\", \"nepaljin\")\n",
    "concatenate_keyword_txt_files(\"2022\", \"nepaljin\")\n",
    "\n",
    "scrape_keyword_sampled_tweets(\"2015\", \"ネパール人\", \"nepaljin\")\n",
    "concatenate_keyword_txt_files(\"2015\", \"nepaljin\")"
   ]
  },
  {
   "cell_type": "code",
   "execution_count": null,
   "metadata": {},
   "outputs": [],
   "source": [
    "# indonesia\n",
    "scrape_keyword_sampled_tweets(\"2022\", \"インドネシア人\", \"indonesiajin\")\n",
    "concatenate_keyword_txt_files(\"2022\", \"indonesiajin\")\n",
    "\n",
    "scrape_keyword_sampled_tweets(\"2015\", \"インドネシア人\", \"indonesiajin\")\n",
    "concatenate_keyword_txt_files(\"2015\", \"indonesiajin\")"
   ]
  },
  {
   "cell_type": "code",
   "execution_count": null,
   "metadata": {},
   "outputs": [],
   "source": [
    "# zainichi kankokujin\n",
    "scrape_keyword_sampled_tweets(\"2022\", \"在日韓国人\", \"zainichi_kankokujin\")\n",
    "concatenate_keyword_txt_files(\"2022\", \"zainichi_kankokujin\")\n",
    "\n",
    "scrape_keyword_sampled_tweets(\"2015\", \"在日韓国人\", \"zainichi_kankokujin\")\n",
    "concatenate_keyword_txt_files(\"2015\", \"zainichi_kankokujin\")"
   ]
  },
  {
   "cell_type": "code",
   "execution_count": null,
   "metadata": {},
   "outputs": [],
   "source": [
    "# gaijin [didn't do 2022; hold]\n",
    "scrape_keyword_sampled_tweets(\"2022\", \"外人\", \"gaijin\")\n",
    "concatenate_keyword_txt_files(\"2022\", \"gaijin\")\n",
    "\n",
    "scrape_keyword_sampled_tweets(\"2015\", \"外人\", \"gaijin\")\n",
    "concatenate_keyword_txt_files(\"2015\", \"gaijin\")"
   ]
  }
 ],
 "metadata": {
  "kernelspec": {
   "display_name": "thesis-hw276cHk",
   "language": "python",
   "name": "python3"
  },
  "language_info": {
   "codemirror_mode": {
    "name": "ipython",
    "version": 3
   },
   "file_extension": ".py",
   "mimetype": "text/x-python",
   "name": "python",
   "nbconvert_exporter": "python",
   "pygments_lexer": "ipython3",
   "version": "3.12.0"
  }
 },
 "nbformat": 4,
 "nbformat_minor": 2
}
