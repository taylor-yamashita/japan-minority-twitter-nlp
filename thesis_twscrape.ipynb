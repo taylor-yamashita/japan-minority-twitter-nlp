{
 "cells": [
  {
   "cell_type": "markdown",
   "metadata": {},
   "source": [
    "### Setup"
   ]
  },
  {
   "cell_type": "code",
   "execution_count": 2,
   "metadata": {},
   "outputs": [],
   "source": [
    "import os\n",
    "import random\n",
    "from typing import List\n",
    "import twscrape"
   ]
  },
  {
   "cell_type": "markdown",
   "metadata": {},
   "source": [
    "### Case 1: Scraping general tweet set for given year"
   ]
  },
  {
   "cell_type": "code",
   "execution_count": 3,
   "metadata": {},
   "outputs": [],
   "source": [
    "def set_up_directories(keyword_eng: str, year: str):\n",
    "    dir_path = year if keyword_eng == \"\" else keyword_eng + \"_\" + year\n",
    "    os.mkdir(dir_path)\n",
    "\n",
    "    # single digit month\n",
    "    for i in range(1,10):\n",
    "        path = dir_path + \"/\" + \"0\" + str(i)\n",
    "        os.mkdir(path) \n",
    "\n",
    "    # double digit month\n",
    "    for j in range(10,13):\n",
    "        path = dir_path + \"/\" + str(j)\n",
    "        os.mkdir(path) "
   ]
  },
  {
   "cell_type": "code",
   "execution_count": 4,
   "metadata": {},
   "outputs": [],
   "source": [
    "# scrape randomly sampled tweets for 10 days in given month\n",
    "def scrape_month_sampled_tweets(year: str, months: List[str], days_in_month: int):\n",
    "    range_days = list(range(1,days_in_month+1))\n",
    "    range_times = list(range(0,24))\n",
    "\n",
    "    # sample 10 random days and times of day for each month\n",
    "    for m in months: \n",
    "        month_path = year + \"/\" + m\n",
    "        days = sorted(random.sample(range_days, k=10))   # random days of month (no replacement)\n",
    "        times = random.choices(range_times, k=10)   # random hours of day (replacement)\n",
    "        \n",
    "        # scrape tweets for the 10 picked days and times\n",
    "        for t in range(10):     \n",
    "            day = \"0\" + str(days[t]) if days[t] < 10 else str(days[t])\n",
    "            time = \"0\" + str(times[t]) if times[t] < 10 else str(times[t])\n",
    "            date_string = year + '-' + m + '-' + day\n",
    "            day_path = month_path + \"/\" + year + \"-\" + m + \"-\" + day + \".txt\"\n",
    "            command = 'twscrape search \"since:' + date_string + '_' + time + ':00:00_UTC until:' + date_string + '_' + time + ':59:59_UTC lang:ja\"　> ' + day_path + ' --limit=4500'\n",
    "            os.system(command)"
   ]
  },
  {
   "cell_type": "code",
   "execution_count": 5,
   "metadata": {},
   "outputs": [],
   "source": [
    "# scrape random sample of tweets (general content or keyword-search) from given year\n",
    "def scrape_year_sampled_tweets(year: str):\n",
    "    # 28 day months\n",
    "    scrape_month_sampled_tweets(year,[\"02\"], 28)    # omit leap year 29th days for simplicity...?\n",
    "\n",
    "    # 30 day months\n",
    "    months_30 = [\"04\",\"06\",\"09\",\"11\"]\n",
    "    scrape_month_sampled_tweets(year,months_30, 30)\n",
    "\n",
    "    # 31 day months\n",
    "    months_31 = [\"01\",\"03\",\"05\",\"07\",\"08\",\"10\",\"12\"]\n",
    "    scrape_month_sampled_tweets(year,months_31, 31)"
   ]
  },
  {
   "cell_type": "code",
   "execution_count": 6,
   "metadata": {},
   "outputs": [],
   "source": [
    "def concatenate_general_txt_files(year: str, keyword_eng=\"\"):\n",
    "  # concatenate .txt files into one file per month\n",
    "  for root, dirs, files in os.walk(\"./\" + year):\n",
    "      for name in dirs:\n",
    "        month_path = os.path.join(root, name)\n",
    "        os.system(\"cat \" + month_path + \"/*.txt > \" + year + \"/\" + name + \".txt\")\n",
    "  \n",
    "  # concatenate month .txt files into one file for the year\n",
    "  os.system(\"cat \" + year + \"/*.txt > \" + year + \"-all.txt\")"
   ]
  },
  {
   "cell_type": "code",
   "execution_count": 31,
   "metadata": {},
   "outputs": [
    {
     "name": "stderr",
     "output_type": "stream",
     "text": [
      "sh: 2015/02/2015-02-05.txt: No such file or directory\n",
      "sh: 2015/02/2015-02-06.txt: No such file or directory\n",
      "sh: 2015/02/2015-02-07.txt: No such file or directory\n",
      "sh: 2015/02/2015-02-10.txt: No such file or directory\n",
      "sh: 2015/02/2015-02-11.txt: No such file or directory\n",
      "sh: 2015/02/2015-02-15.txt: No such file or directory\n",
      "sh: 2015/02/2015-02-18.txt: No such file or directory\n",
      "sh: 2015/02/2015-02-19.txt: No such file or directory\n",
      "sh: 2015/02/2015-02-23.txt: No such file or directory\n",
      "sh: 2015/02/2015-02-27.txt: No such file or directory\n",
      "sh: 2015/04/2015-04-01.txt: No such file or directory\n",
      "sh: 2015/04/2015-04-03.txt: No such file or directory\n",
      "sh: 2015/04/2015-04-06.txt: No such file or directory\n",
      "sh: 2015/04/2015-04-07.txt: No such file or directory\n",
      "sh: 2015/04/2015-04-16.txt: No such file or directory\n",
      "sh: 2015/04/2015-04-19.txt: No such file or directory\n",
      "sh: 2015/04/2015-04-21.txt: No such file or directory\n",
      "sh: 2015/04/2015-04-23.txt: No such file or directory\n",
      "sh: 2015/04/2015-04-26.txt: No such file or directory\n",
      "sh: 2015/04/2015-04-28.txt: No such file or directory\n",
      "sh: 2015/06/2015-06-02.txt: No such file or directory\n",
      "sh: 2015/06/2015-06-06.txt: No such file or directory\n",
      "sh: 2015/06/2015-06-07.txt: No such file or directory\n",
      "sh: 2015/06/2015-06-12.txt: No such file or directory\n",
      "sh: 2015/06/2015-06-13.txt: No such file or directory\n",
      "sh: 2015/06/2015-06-18.txt: No such file or directory\n",
      "sh: 2015/06/2015-06-19.txt: No such file or directory\n",
      "sh: 2015/06/2015-06-26.txt: No such file or directory\n",
      "sh: 2015/06/2015-06-28.txt: No such file or directory\n",
      "sh: 2015/06/2015-06-30.txt: No such file or directory\n",
      "sh: 2015/09/2015-09-06.txt: No such file or directory\n",
      "sh: 2015/09/2015-09-07.txt: No such file or directory\n",
      "sh: 2015/09/2015-09-10.txt: No such file or directory\n",
      "sh: 2015/09/2015-09-12.txt: No such file or directory\n",
      "sh: 2015/09/2015-09-14.txt: No such file or directory\n",
      "sh: 2015/09/2015-09-19.txt: No such file or directory\n",
      "sh: 2015/09/2015-09-21.txt: No such file or directory\n",
      "sh: 2015/09/2015-09-23.txt: No such file or directory\n",
      "sh: 2015/09/2015-09-26.txt: No such file or directory\n",
      "sh: 2015/09/2015-09-29.txt: No such file or directory\n",
      "sh: 2015/11/2015-11-04.txt: No such file or directory\n",
      "sh: 2015/11/2015-11-07.txt: No such file or directory\n",
      "sh: 2015/11/2015-11-10.txt: No such file or directory\n",
      "sh: 2015/11/2015-11-11.txt: No such file or directory\n",
      "sh: 2015/11/2015-11-14.txt: No such file or directory\n",
      "sh: 2015/11/2015-11-17.txt: No such file or directory\n",
      "sh: 2015/11/2015-11-20.txt: No such file or directory\n",
      "sh: 2015/11/2015-11-22.txt: No such file or directory\n",
      "sh: 2015/11/2015-11-25.txt: No such file or directory\n",
      "sh: 2015/11/2015-11-26.txt: No such file or directory\n",
      "sh: 2015/01/2015-01-02.txt: No such file or directory\n",
      "sh: 2015/01/2015-01-03.txt: No such file or directory\n",
      "sh: 2015/01/2015-01-11.txt: No such file or directory\n",
      "sh: 2015/01/2015-01-13.txt: No such file or directory\n",
      "sh: 2015/01/2015-01-14.txt: No such file or directory\n",
      "sh: 2015/01/2015-01-16.txt: No such file or directory\n",
      "sh: 2015/01/2015-01-19.txt: No such file or directory\n",
      "sh: 2015/01/2015-01-21.txt: No such file or directory\n",
      "sh: 2015/01/2015-01-28.txt: No such file or directory\n",
      "sh: 2015/01/2015-01-30.txt: No such file or directory\n",
      "sh: 2015/03/2015-03-01.txt: No such file or directory\n",
      "sh: 2015/03/2015-03-05.txt: No such file or directory\n",
      "sh: 2015/03/2015-03-06.txt: No such file or directory\n",
      "sh: 2015/03/2015-03-11.txt: No such file or directory\n",
      "sh: 2015/03/2015-03-12.txt: No such file or directory\n",
      "sh: 2015/03/2015-03-20.txt: No such file or directory\n",
      "sh: 2015/03/2015-03-21.txt: No such file or directory\n",
      "sh: 2015/03/2015-03-25.txt: No such file or directory\n",
      "sh: 2015/03/2015-03-27.txt: No such file or directory\n",
      "sh: 2015/03/2015-03-29.txt: No such file or directory\n",
      "sh: 2015/05/2015-05-01.txt: No such file or directory\n",
      "sh: 2015/05/2015-05-03.txt: No such file or directory\n",
      "sh: 2015/05/2015-05-05.txt: No such file or directory\n",
      "sh: 2015/05/2015-05-09.txt: No such file or directory\n",
      "sh: 2015/05/2015-05-12.txt: No such file or directory\n",
      "sh: 2015/05/2015-05-16.txt: No such file or directory\n",
      "sh: 2015/05/2015-05-18.txt: No such file or directory\n",
      "sh: 2015/05/2015-05-20.txt: No such file or directory\n",
      "sh: 2015/05/2015-05-26.txt: No such file or directory\n",
      "sh: 2015/05/2015-05-28.txt: No such file or directory\n",
      "sh: 2015/07/2015-07-03.txt: No such file or directory\n",
      "sh: 2015/07/2015-07-07.txt: No such file or directory\n",
      "sh: 2015/07/2015-07-08.txt: No such file or directory\n",
      "sh: 2015/07/2015-07-09.txt: No such file or directory\n",
      "sh: 2015/07/2015-07-10.txt: No such file or directory\n",
      "sh: 2015/07/2015-07-14.txt: No such file or directory\n",
      "sh: 2015/07/2015-07-18.txt: No such file or directory\n",
      "sh: 2015/07/2015-07-22.txt: No such file or directory\n",
      "sh: 2015/07/2015-07-29.txt: No such file or directory\n",
      "sh: 2015/07/2015-07-30.txt: No such file or directory\n",
      "sh: 2015/08/2015-08-01.txt: No such file or directory\n",
      "sh: 2015/08/2015-08-04.txt: No such file or directory\n",
      "sh: 2015/08/2015-08-06.txt: No such file or directory\n",
      "sh: 2015/08/2015-08-13.txt: No such file or directory\n",
      "sh: 2015/08/2015-08-16.txt: No such file or directory\n",
      "sh: 2015/08/2015-08-17.txt: No such file or directory\n",
      "sh: 2015/08/2015-08-19.txt: No such file or directory\n",
      "sh: 2015/08/2015-08-24.txt: No such file or directory\n",
      "sh: 2015/08/2015-08-29.txt: No such file or directory\n",
      "sh: 2015/08/2015-08-30.txt: No such file or directory\n",
      "sh: 2015/10/2015-10-01.txt: No such file or directory\n",
      "sh: 2015/10/2015-10-06.txt: No such file or directory\n",
      "sh: 2015/10/2015-10-07.txt: No such file or directory\n",
      "sh: 2015/10/2015-10-10.txt: No such file or directory\n",
      "sh: 2015/10/2015-10-14.txt: No such file or directory\n",
      "sh: 2015/10/2015-10-15.txt: No such file or directory\n",
      "sh: 2015/10/2015-10-20.txt: No such file or directory\n",
      "sh: 2015/10/2015-10-21.txt: No such file or directory\n",
      "sh: 2015/10/2015-10-23.txt: No such file or directory\n",
      "sh: 2015/10/2015-10-24.txt: No such file or directory\n",
      "sh: 2015/12/2015-12-04.txt: No such file or directory\n",
      "sh: 2015/12/2015-12-05.txt: No such file or directory\n",
      "sh: 2015/12/2015-12-07.txt: No such file or directory\n",
      "sh: 2015/12/2015-12-10.txt: No such file or directory\n",
      "sh: 2015/12/2015-12-17.txt: No such file or directory\n",
      "sh: 2015/12/2015-12-21.txt: No such file or directory\n",
      "sh: 2015/12/2015-12-22.txt: No such file or directory\n",
      "sh: 2015/12/2015-12-25.txt: No such file or directory\n",
      "sh: 2015/12/2015-12-26.txt: No such file or directory\n",
      "sh: 2015/12/2015-12-27.txt: No such file or directory\n",
      "cat: 2015/*.txt: No such file or directory\n"
     ]
    }
   ],
   "source": [
    "# last took 1790m\n",
    "scrape_year_sampled_tweets(\"2015\")\n",
    "concatenate_general_txt_files(\"2015\")"
   ]
  },
  {
   "cell_type": "code",
   "execution_count": 32,
   "metadata": {},
   "outputs": [
    {
     "name": "stderr",
     "output_type": "stream",
     "text": [
      "sh: 2022/02/2022-02-01.txt: No such file or directory\n",
      "sh: 2022/02/2022-02-02.txt: No such file or directory\n",
      "sh: 2022/02/2022-02-04.txt: No such file or directory\n",
      "sh: 2022/02/2022-02-07.txt: No such file or directory\n",
      "sh: 2022/02/2022-02-12.txt: No such file or directory\n",
      "sh: 2022/02/2022-02-16.txt: No such file or directory\n",
      "sh: 2022/02/2022-02-17.txt: No such file or directory\n",
      "sh: 2022/02/2022-02-18.txt: No such file or directory\n",
      "sh: 2022/02/2022-02-19.txt: No such file or directory\n",
      "sh: 2022/02/2022-02-27.txt: No such file or directory\n",
      "sh: 2022/04/2022-04-01.txt: No such file or directory\n",
      "sh: 2022/04/2022-04-08.txt: No such file or directory\n",
      "sh: 2022/04/2022-04-09.txt: No such file or directory\n",
      "sh: 2022/04/2022-04-12.txt: No such file or directory\n",
      "sh: 2022/04/2022-04-14.txt: No such file or directory\n",
      "sh: 2022/04/2022-04-16.txt: No such file or directory\n",
      "sh: 2022/04/2022-04-21.txt: No such file or directory\n",
      "sh: 2022/04/2022-04-22.txt: No such file or directory\n",
      "sh: 2022/04/2022-04-26.txt: No such file or directory\n",
      "sh: 2022/04/2022-04-28.txt: No such file or directory\n",
      "sh: 2022/06/2022-06-03.txt: No such file or directory\n",
      "sh: 2022/06/2022-06-06.txt: No such file or directory\n",
      "sh: 2022/06/2022-06-16.txt: No such file or directory\n",
      "sh: 2022/06/2022-06-17.txt: No such file or directory\n",
      "sh: 2022/06/2022-06-23.txt: No such file or directory\n",
      "sh: 2022/06/2022-06-24.txt: No such file or directory\n",
      "sh: 2022/06/2022-06-27.txt: No such file or directory\n",
      "sh: 2022/06/2022-06-28.txt: No such file or directory\n",
      "sh: 2022/06/2022-06-29.txt: No such file or directory\n",
      "sh: 2022/06/2022-06-30.txt: No such file or directory\n",
      "sh: 2022/09/2022-09-02.txt: No such file or directory\n",
      "sh: 2022/09/2022-09-06.txt: No such file or directory\n",
      "sh: 2022/09/2022-09-12.txt: No such file or directory\n",
      "sh: 2022/09/2022-09-13.txt: No such file or directory\n",
      "sh: 2022/09/2022-09-15.txt: No such file or directory\n",
      "sh: 2022/09/2022-09-16.txt: No such file or directory\n",
      "sh: 2022/09/2022-09-17.txt: No such file or directory\n",
      "sh: 2022/09/2022-09-18.txt: No such file or directory\n",
      "sh: 2022/09/2022-09-19.txt: No such file or directory\n",
      "sh: 2022/09/2022-09-24.txt: No such file or directory\n",
      "sh: 2022/11/2022-11-03.txt: No such file or directory\n",
      "sh: 2022/11/2022-11-08.txt: No such file or directory\n",
      "sh: 2022/11/2022-11-09.txt: No such file or directory\n",
      "sh: 2022/11/2022-11-11.txt: No such file or directory\n",
      "sh: 2022/11/2022-11-13.txt: No such file or directory\n",
      "sh: 2022/11/2022-11-17.txt: No such file or directory\n",
      "sh: 2022/11/2022-11-21.txt: No such file or directory\n",
      "sh: 2022/11/2022-11-25.txt: No such file or directory\n",
      "sh: 2022/11/2022-11-28.txt: No such file or directory\n",
      "sh: 2022/11/2022-11-30.txt: No such file or directory\n",
      "sh: 2022/01/2022-01-01.txt: No such file or directory\n",
      "sh: 2022/01/2022-01-04.txt: No such file or directory\n",
      "sh: 2022/01/2022-01-09.txt: No such file or directory\n",
      "sh: 2022/01/2022-01-10.txt: No such file or directory\n",
      "sh: 2022/01/2022-01-18.txt: No such file or directory\n",
      "sh: 2022/01/2022-01-19.txt: No such file or directory\n",
      "sh: 2022/01/2022-01-20.txt: No such file or directory\n",
      "sh: 2022/01/2022-01-24.txt: No such file or directory\n",
      "sh: 2022/01/2022-01-27.txt: No such file or directory\n",
      "sh: 2022/01/2022-01-31.txt: No such file or directory\n",
      "sh: 2022/03/2022-03-02.txt: No such file or directory\n",
      "sh: 2022/03/2022-03-04.txt: No such file or directory\n",
      "sh: 2022/03/2022-03-05.txt: No such file or directory\n",
      "sh: 2022/03/2022-03-07.txt: No such file or directory\n",
      "sh: 2022/03/2022-03-11.txt: No such file or directory\n",
      "sh: 2022/03/2022-03-15.txt: No such file or directory\n",
      "sh: 2022/03/2022-03-16.txt: No such file or directory\n",
      "sh: 2022/03/2022-03-23.txt: No such file or directory\n",
      "sh: 2022/03/2022-03-24.txt: No such file or directory\n",
      "sh: 2022/03/2022-03-27.txt: No such file or directory\n",
      "sh: 2022/05/2022-05-03.txt: No such file or directory\n",
      "sh: 2022/05/2022-05-05.txt: No such file or directory\n",
      "sh: 2022/05/2022-05-07.txt: No such file or directory\n",
      "sh: 2022/05/2022-05-11.txt: No such file or directory\n",
      "sh: 2022/05/2022-05-14.txt: No such file or directory\n",
      "sh: 2022/05/2022-05-18.txt: No such file or directory\n",
      "sh: 2022/05/2022-05-19.txt: No such file or directory\n",
      "sh: 2022/05/2022-05-21.txt: No such file or directory\n",
      "sh: 2022/05/2022-05-26.txt: No such file or directory\n",
      "sh: 2022/05/2022-05-28.txt: No such file or directory\n",
      "sh: 2022/07/2022-07-03.txt: No such file or directory\n",
      "sh: 2022/07/2022-07-04.txt: No such file or directory\n",
      "sh: 2022/07/2022-07-06.txt: No such file or directory\n",
      "sh: 2022/07/2022-07-07.txt: No such file or directory\n",
      "sh: 2022/07/2022-07-11.txt: No such file or directory\n",
      "sh: 2022/07/2022-07-12.txt: No such file or directory\n",
      "sh: 2022/07/2022-07-15.txt: No such file or directory\n",
      "sh: 2022/07/2022-07-20.txt: No such file or directory\n",
      "sh: 2022/07/2022-07-28.txt: No such file or directory\n",
      "sh: 2022/07/2022-07-29.txt: No such file or directory\n",
      "sh: 2022/08/2022-08-01.txt: No such file or directory\n",
      "sh: 2022/08/2022-08-02.txt: No such file or directory\n",
      "sh: 2022/08/2022-08-03.txt: No such file or directory\n",
      "sh: 2022/08/2022-08-08.txt: No such file or directory\n",
      "sh: 2022/08/2022-08-14.txt: No such file or directory\n",
      "sh: 2022/08/2022-08-15.txt: No such file or directory\n",
      "sh: 2022/08/2022-08-16.txt: No such file or directory\n",
      "sh: 2022/08/2022-08-18.txt: No such file or directory\n",
      "sh: 2022/08/2022-08-23.txt: No such file or directory\n",
      "sh: 2022/08/2022-08-29.txt: No such file or directory\n",
      "sh: 2022/10/2022-10-05.txt: No such file or directory\n",
      "sh: 2022/10/2022-10-13.txt: No such file or directory\n",
      "sh: 2022/10/2022-10-18.txt: No such file or directory\n",
      "sh: 2022/10/2022-10-20.txt: No such file or directory\n",
      "sh: 2022/10/2022-10-21.txt: No such file or directory\n",
      "sh: 2022/10/2022-10-23.txt: No such file or directory\n",
      "sh: 2022/10/2022-10-26.txt: No such file or directory\n",
      "sh: 2022/10/2022-10-28.txt: No such file or directory\n",
      "sh: 2022/10/2022-10-30.txt: No such file or directory\n",
      "sh: 2022/10/2022-10-31.txt: No such file or directory\n",
      "sh: 2022/12/2022-12-01.txt: No such file or directory\n",
      "sh: 2022/12/2022-12-02.txt: No such file or directory\n",
      "sh: 2022/12/2022-12-08.txt: No such file or directory\n",
      "sh: 2022/12/2022-12-14.txt: No such file or directory\n",
      "sh: 2022/12/2022-12-15.txt: No such file or directory\n",
      "sh: 2022/12/2022-12-19.txt: No such file or directory\n",
      "sh: 2022/12/2022-12-20.txt: No such file or directory\n",
      "sh: 2022/12/2022-12-26.txt: No such file or directory\n",
      "sh: 2022/12/2022-12-28.txt: No such file or directory\n",
      "sh: 2022/12/2022-12-31.txt: No such file or directory\n",
      "cat: 2022/*.txt: No such file or directory\n"
     ]
    }
   ],
   "source": [
    "scrape_year_sampled_tweets(\"2022\")\n",
    "concatenate_general_txt_files(\"2022\")"
   ]
  },
  {
   "cell_type": "markdown",
   "metadata": {},
   "source": [
    "### Case 2: Scraping minority keyword-related tweet set"
   ]
  },
  {
   "cell_type": "code",
   "execution_count": 7,
   "metadata": {},
   "outputs": [],
   "source": [
    "# scrape tweets containing keyword from every month of given year\n",
    "def scrape_keyword_month_tweets(year: str, months: List[str], days_in_month: int, keyword_jp: str, keyword_eng: str):\n",
    "    for m in months: \n",
    "        command = 'twscrape search \"' + keyword_jp + ' since:' + year + '-' + m + '-01_00:00:00_UTC until:' + year + '-' + m + '-' + str(days_in_month) + '_23:59:59_UTC lang:ja\"　> ' + keyword_eng + '_' + year + '/' + m + '.txt'\n",
    "        os.system(command)"
   ]
  },
  {
   "cell_type": "code",
   "execution_count": 8,
   "metadata": {},
   "outputs": [],
   "source": [
    "# scrape all tweets containing keyword in given year\n",
    "def scrape_keyword_sampled_tweets(year: str, keyword_jp: str, keyword_eng: str):\n",
    "    os.mkdir(keyword_eng + \"_\" + year) \n",
    "\n",
    "    # 28 day months\n",
    "    scrape_keyword_month_tweets(year,[\"02\"], 28, keyword_jp, keyword_eng)    # omit leap year 29th days for simplicity...?\n",
    "\n",
    "    # 30 day months\n",
    "    months_30 = [\"04\",\"06\",\"09\",\"11\"]\n",
    "    scrape_keyword_month_tweets(year,months_30, 30, keyword_jp, keyword_eng)\n",
    "\n",
    "    # 31 day months\n",
    "    months_31 = [\"01\",\"03\",\"05\",\"07\",\"08\",\"10\",\"12\"]\n",
    "    scrape_keyword_month_tweets(year,months_31, 31, keyword_jp, keyword_eng)"
   ]
  },
  {
   "cell_type": "code",
   "execution_count": 9,
   "metadata": {},
   "outputs": [],
   "source": [
    "def concatenate_keyword_txt_files(year: str, keyword_eng=\"\"):\n",
    "  # concatenate month .txt files into one file for the year\n",
    "  os.system(\"cat \" + keyword_eng + \"_\" + year + \"/\" + \"*.txt > \" + keyword_eng + \"_\" + year + \".txt\")"
   ]
  },
  {
   "cell_type": "code",
   "execution_count": null,
   "metadata": {},
   "outputs": [],
   "source": [
    "# zainichi korean set 2022 [DONE]\n",
    "scrape_keyword_sampled_tweets(\"2022\", \"在日コリアン\", \"zainichi\")\n",
    "concatenate_keyword_txt_files(\"2022\", \"zainichi\")\n",
    "\n",
    "# zainichi korean set 2015 [DONE]\n",
    "scrape_keyword_sampled_tweets(\"2015\", \"在日コリアン\", \"zainichi\")\n",
    "concatenate_keyword_txt_files(\"2015\", \"zainichi\")"
   ]
  },
  {
   "cell_type": "code",
   "execution_count": null,
   "metadata": {},
   "outputs": [],
   "source": [
    "# ainu 2022 [DONE]\n",
    "scrape_keyword_sampled_tweets(\"2022\", \"アイヌ\", \"ainu\")\n",
    "concatenate_keyword_txt_files(\"2022\", \"ainu\")\n",
    "\n",
    "# ainu 2015 [redo? sufficiently large though]\n",
    "scrape_keyword_sampled_tweets(\"2015\", \"アイヌ\", \"ainu\")\n",
    "concatenate_keyword_txt_files(\"2015\", \"ainu\")"
   ]
  },
  {
   "cell_type": "code",
   "execution_count": null,
   "metadata": {},
   "outputs": [],
   "source": [
    "# ryukyujin [small dataset; probably done]\n",
    "scrape_keyword_sampled_tweets(\"2022\", \"琉球人\", \"ryukyujin\")\n",
    "concatenate_keyword_txt_files(\"2022\", \"ryukyujin\")\n",
    "\n",
    "# [small dataset; probably done]\n",
    "scrape_keyword_sampled_tweets(\"2015\", \"琉球人\", \"ryukyujin\")\n",
    "concatenate_keyword_txt_files(\"2015\", \"ryukyujin\")"
   ]
  },
  {
   "cell_type": "code",
   "execution_count": null,
   "metadata": {},
   "outputs": [],
   "source": [
    "# 1, 2, 4, 6, 11 are fine\n",
    "# redo 3, 5, 7, 8, 10, 12 if time\n",
    "scrape_keyword_sampled_tweets(\"2015\", \"琉球\", \"ryukyu\")\n",
    "concatenate_keyword_txt_files(\"2015\", \"ryukyu\")\n",
    "\n",
    "# redo if time\n",
    "scrape_keyword_sampled_tweets(\"2022\", \"琉球\", \"ryukyu\")\n",
    "concatenate_keyword_txt_files(\"2022\", \"ryukyu\")"
   ]
  },
  {
   "cell_type": "code",
   "execution_count": null,
   "metadata": {},
   "outputs": [],
   "source": [
    "# okinawajin [DONE]\n",
    "scrape_keyword_sampled_tweets(\"2022\", \"沖縄人\", \"okinawajin\")\n",
    "concatenate_keyword_txt_files(\"2022\", \"okinawajin\")\n",
    "\n",
    "# [DONE; could redo some bc it didn't finish]\n",
    "scrape_keyword_sampled_tweets(\"2015\", \"沖縄人\", \"okinawajin\")\n",
    "concatenate_keyword_txt_files(\"2015\", \"okinawajin\")"
   ]
  },
  {
   "cell_type": "code",
   "execution_count": 10,
   "metadata": {},
   "outputs": [
    {
     "name": "stderr",
     "output_type": "stream",
     "text": [
      "2024-03-29 12:14:08.235 | WARNING  | twscrape.queue_client:_check_rep:162 - Session expired or banned: 401 - -1/-1 - jp_nlp_res_6 - (32) Could not authenticate you\n",
      "2024-03-29 12:14:46.200 | WARNING  | twscrape.queue_client:_check_rep:162 - Session expired or banned: 401 - -1/-1 - nlp542381374579 - (32) Could not authenticate you\n",
      "2024-03-29 12:15:24.542 | INFO     | twscrape.accounts_pool:get_for_queue_or_wait:275 - No account available for queue \"SearchTimeline\". Next available at 12:19:05\n",
      "2024-03-29 12:19:04.980 | INFO     | twscrape.accounts_pool:get_for_queue_or_wait:281 - Continuing with account jp_nlp_res_6 on queue SearchTimeline\n",
      "2024-03-29 12:19:05.178 | WARNING  | twscrape.queue_client:_check_rep:157 - Ban detected: 200 - 49/50 - jp_nlp_res_6 - (326) Authorization: Denied by access control: To protect our users from spam and other malicious activity, this account is temporarily locked. Please log in to https://twitter.com to unlock your account.\n",
      "2024-03-29 12:20:21.851 | INFO     | twscrape.accounts_pool:get_for_queue_or_wait:275 - No account available for queue \"SearchTimeline\". Next available at 12:27:15\n",
      "2024-03-29 12:20:41.887 | INFO     | twscrape.accounts_pool:get_for_queue_or_wait:281 - Continuing with account jp_nlp_res_6 on queue SearchTimeline\n",
      "2024-03-29 12:21:16.651 | INFO     | twscrape.accounts_pool:get_for_queue_or_wait:275 - No account available for queue \"SearchTimeline\". Next available at 12:27:15\n",
      "2024-03-29 12:27:17.387 | INFO     | twscrape.accounts_pool:get_for_queue_or_wait:281 - Continuing with account jp_nlp_res_3 on queue SearchTimeline\n",
      "2024-03-29 12:30:28.096 | INFO     | twscrape.accounts_pool:get_for_queue_or_wait:275 - No account available for queue \"SearchTimeline\". Next available at 12:34:05\n",
      "2024-03-29 12:34:08.356 | INFO     | twscrape.accounts_pool:get_for_queue_or_wait:281 - Continuing with account jp_nlp_res_6 on queue SearchTimeline\n",
      "2024-03-29 12:36:07.184 | INFO     | twscrape.accounts_pool:get_for_queue_or_wait:275 - No account available for queue \"SearchTimeline\". Next available at 12:42:17\n"
     ]
    }
   ],
   "source": [
    "# haafu\n",
    "scrape_keyword_sampled_tweets(\"2022\", \"ハーフ\", \"haafu_2\")\n",
    "concatenate_keyword_txt_files(\"2022\", \"haafu_2\")"
   ]
  },
  {
   "cell_type": "code",
   "execution_count": null,
   "metadata": {},
   "outputs": [],
   "source": [
    "# haafu [DONE]\n",
    "scrape_keyword_sampled_tweets(\"2015\", \"ハーフ\", \"haafu\")\n",
    "concatenate_keyword_txt_files(\"2015\", \"haafu\")"
   ]
  },
  {
   "cell_type": "code",
   "execution_count": null,
   "metadata": {},
   "outputs": [],
   "source": [
    "# vietnam\n",
    "scrape_keyword_sampled_tweets(\"2022\", \"ベトナム人\", \"vietnamjin\")\n",
    "concatenate_keyword_txt_files(\"2022\", \"vietnamjin\")\n",
    "\n",
    "scrape_keyword_sampled_tweets(\"2015\", \"ベトナム人\", \"vietnamjin\")\n",
    "concatenate_keyword_txt_files(\"2015\", \"vietnamjin\")"
   ]
  },
  {
   "cell_type": "code",
   "execution_count": null,
   "metadata": {},
   "outputs": [],
   "source": [
    "# philippines\n",
    "scrape_keyword_sampled_tweets(\"2022\", \"フィリピン人\", \"philippinejin\")\n",
    "concatenate_keyword_txt_files(\"2022\", \"philippinejin\")\n",
    "\n",
    "scrape_keyword_sampled_tweets(\"2015\", \"フィリピン人\", \"philippinejin\")\n",
    "concatenate_keyword_txt_files(\"2015\", \"philippinejin\")"
   ]
  },
  {
   "cell_type": "code",
   "execution_count": null,
   "metadata": {},
   "outputs": [],
   "source": [
    "# nepal\n",
    "scrape_keyword_sampled_tweets(\"2022\", \"ネパール人\", \"nepaljin\")\n",
    "concatenate_keyword_txt_files(\"2022\", \"nepaljin\")\n",
    "\n",
    "scrape_keyword_sampled_tweets(\"2015\", \"ネパール人\", \"nepaljin\")\n",
    "concatenate_keyword_txt_files(\"2015\", \"nepaljin\")"
   ]
  },
  {
   "cell_type": "code",
   "execution_count": null,
   "metadata": {},
   "outputs": [],
   "source": [
    "# indonesia\n",
    "scrape_keyword_sampled_tweets(\"2022\", \"インドネシア人\", \"indonesiajin\")\n",
    "concatenate_keyword_txt_files(\"2022\", \"indonesiajin\")\n",
    "\n",
    "scrape_keyword_sampled_tweets(\"2015\", \"インドネシア人\", \"indonesiajin\")\n",
    "concatenate_keyword_txt_files(\"2015\", \"indonesiajin\")"
   ]
  },
  {
   "cell_type": "code",
   "execution_count": null,
   "metadata": {},
   "outputs": [],
   "source": [
    "# gaijin [didn't do; hold]\n",
    "scrape_keyword_sampled_tweets(\"2022\", \"外人\", \"gaijin\")\n",
    "concatenate_keyword_txt_files(\"2022\", \"gaijin\")\n",
    "\n",
    "# [DONE]\n",
    "scrape_keyword_sampled_tweets(\"2015\", \"外人\", \"gaijin\")\n",
    "concatenate_keyword_txt_files(\"2015\", \"gaijin\")"
   ]
  }
 ],
 "metadata": {
  "kernelspec": {
   "display_name": "thesis-hw276cHk",
   "language": "python",
   "name": "python3"
  },
  "language_info": {
   "codemirror_mode": {
    "name": "ipython",
    "version": 3
   },
   "file_extension": ".py",
   "mimetype": "text/x-python",
   "name": "python",
   "nbconvert_exporter": "python",
   "pygments_lexer": "ipython3",
   "version": "3.11.5"
  }
 },
 "nbformat": 4,
 "nbformat_minor": 2
}
